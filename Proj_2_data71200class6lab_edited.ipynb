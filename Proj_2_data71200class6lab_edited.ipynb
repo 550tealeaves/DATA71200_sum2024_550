{
  "cells": [
    {
      "cell_type": "markdown",
      "metadata": {
        "id": "view-in-github",
        "colab_type": "text"
      },
      "source": [
        "<a href=\"https://colab.research.google.com/github/550tealeaves/DATA71200_sum2024_550/blob/main/Proj_2_data71200class6lab_edited.ipynb\" target=\"_parent\"><img src=\"https://colab.research.google.com/assets/colab-badge.svg\" alt=\"Open In Colab\"/></a>"
      ]
    },
    {
      "cell_type": "markdown",
      "source": [
        "# Load Libraries"
      ],
      "metadata": {
        "id": "P0_K6RTyeDXn"
      }
    },
    {
      "cell_type": "code",
      "execution_count": 1,
      "metadata": {
        "id": "Ru5SKocjXTsJ"
      },
      "outputs": [],
      "source": [
        "%matplotlib inline\n",
        "import matplotlib.pyplot as plt\n",
        "import numpy as np\n",
        "import pandas as pd"
      ]
    },
    {
      "cell_type": "markdown",
      "source": [
        "# Load pizza dataset"
      ],
      "metadata": {
        "id": "oVoyDLteeF4K"
      }
    },
    {
      "cell_type": "code",
      "source": [
        "from sklearn.datasets import load_wine\n",
        "dataset = pd.read_csv(\"https://raw.githubusercontent.com/550tealeaves/DATA71200_sum2024_550/main/project%201/pizza_v2.csv\")\n",
        "print(dataset.head())"
      ],
      "metadata": {
        "id": "jETaoxdgeBC0",
        "colab": {
          "base_uri": "https://localhost:8080/"
        },
        "outputId": "805e112a-30b5-43b1-cc5b-bb4c71552063"
      },
      "execution_count": 3,
      "outputs": [
        {
          "output_type": "stream",
          "name": "stdout",
          "text": [
            "  company  price_cad  diameter_in      topping           variant     size  \\\n",
            "0       A         29         22.0      chicken  double_signature    jumbo   \n",
            "1       A         25         20.0    pepperoni  double_signature    jumbo   \n",
            "2       A         19         16.0    mushrooms  double_signature  regular   \n",
            "3       A         22         14.0  smoked_beef  double_signature  regular   \n",
            "4       A         30         18.0   mozzarella  double_signature    jumbo   \n",
            "\n",
            "  extra_sauce extra_cheese extra_mushrooms  \n",
            "0         yes          yes              no  \n",
            "1         yes          yes              no  \n",
            "2         yes          yes             yes  \n",
            "3         yes           no             yes  \n",
            "4         yes           no             yes  \n"
          ]
        }
      ]
    },
    {
      "cell_type": "markdown",
      "source": [
        "# Testing/Training Split"
      ],
      "metadata": {
        "id": "GiMafuJPei-D"
      }
    },
    {
      "cell_type": "code",
      "source": [
        "columns = ['topping', 'variant', 'size', 'extra_sauce', 'extra_cheese','extra_mushrooms']\n",
        "dataset = pd.concat([dataset]+[pd.get_dummies(dataset[i],drop_first=True) for i in columns],axis=1)\n",
        "dataset.drop(columns,axis=1,inplace=True)\n",
        "dataset.head(3)"
      ],
      "metadata": {
        "colab": {
          "base_uri": "https://localhost:8080/",
          "height": 193
        },
        "id": "w9Qsk5IPiH5T",
        "outputId": "1818c4c7-9506-487d-ddc6-9035ad05e92a"
      },
      "execution_count": 11,
      "outputs": [
        {
          "output_type": "execute_result",
          "data": {
            "text/plain": [
              "  company  price_cad  diameter_in  black_pepper  chicken   meat  mozzarella  \\\n",
              "0       A         29         22.0         False     True  False       False   \n",
              "1       A         25         20.0         False    False  False       False   \n",
              "2       A         19         16.0         False    False  False       False   \n",
              "\n",
              "   mushrooms  onion  pepperoni  ...  super_supreme  thai_veggie  jumbo  large  \\\n",
              "0      False  False      False  ...          False        False   True  False   \n",
              "1      False  False       True  ...          False        False   True  False   \n",
              "2       True  False      False  ...          False        False  False  False   \n",
              "\n",
              "   medium  regular  small   yes   yes    yes  \n",
              "0   False    False  False  True  True  False  \n",
              "1   False    False  False  True  True  False  \n",
              "2   False     True  False  True  True   True  \n",
              "\n",
              "[3 rows x 41 columns]"
            ],
            "text/html": [
              "\n",
              "  <div id=\"df-294bac0b-2da5-4846-99ed-309521a58f3f\" class=\"colab-df-container\">\n",
              "    <div>\n",
              "<style scoped>\n",
              "    .dataframe tbody tr th:only-of-type {\n",
              "        vertical-align: middle;\n",
              "    }\n",
              "\n",
              "    .dataframe tbody tr th {\n",
              "        vertical-align: top;\n",
              "    }\n",
              "\n",
              "    .dataframe thead th {\n",
              "        text-align: right;\n",
              "    }\n",
              "</style>\n",
              "<table border=\"1\" class=\"dataframe\">\n",
              "  <thead>\n",
              "    <tr style=\"text-align: right;\">\n",
              "      <th></th>\n",
              "      <th>company</th>\n",
              "      <th>price_cad</th>\n",
              "      <th>diameter_in</th>\n",
              "      <th>black_pepper</th>\n",
              "      <th>chicken</th>\n",
              "      <th>meat</th>\n",
              "      <th>mozzarella</th>\n",
              "      <th>mushrooms</th>\n",
              "      <th>onion</th>\n",
              "      <th>pepperoni</th>\n",
              "      <th>...</th>\n",
              "      <th>super_supreme</th>\n",
              "      <th>thai_veggie</th>\n",
              "      <th>jumbo</th>\n",
              "      <th>large</th>\n",
              "      <th>medium</th>\n",
              "      <th>regular</th>\n",
              "      <th>small</th>\n",
              "      <th>yes</th>\n",
              "      <th>yes</th>\n",
              "      <th>yes</th>\n",
              "    </tr>\n",
              "  </thead>\n",
              "  <tbody>\n",
              "    <tr>\n",
              "      <th>0</th>\n",
              "      <td>A</td>\n",
              "      <td>29</td>\n",
              "      <td>22.0</td>\n",
              "      <td>False</td>\n",
              "      <td>True</td>\n",
              "      <td>False</td>\n",
              "      <td>False</td>\n",
              "      <td>False</td>\n",
              "      <td>False</td>\n",
              "      <td>False</td>\n",
              "      <td>...</td>\n",
              "      <td>False</td>\n",
              "      <td>False</td>\n",
              "      <td>True</td>\n",
              "      <td>False</td>\n",
              "      <td>False</td>\n",
              "      <td>False</td>\n",
              "      <td>False</td>\n",
              "      <td>True</td>\n",
              "      <td>True</td>\n",
              "      <td>False</td>\n",
              "    </tr>\n",
              "    <tr>\n",
              "      <th>1</th>\n",
              "      <td>A</td>\n",
              "      <td>25</td>\n",
              "      <td>20.0</td>\n",
              "      <td>False</td>\n",
              "      <td>False</td>\n",
              "      <td>False</td>\n",
              "      <td>False</td>\n",
              "      <td>False</td>\n",
              "      <td>False</td>\n",
              "      <td>True</td>\n",
              "      <td>...</td>\n",
              "      <td>False</td>\n",
              "      <td>False</td>\n",
              "      <td>True</td>\n",
              "      <td>False</td>\n",
              "      <td>False</td>\n",
              "      <td>False</td>\n",
              "      <td>False</td>\n",
              "      <td>True</td>\n",
              "      <td>True</td>\n",
              "      <td>False</td>\n",
              "    </tr>\n",
              "    <tr>\n",
              "      <th>2</th>\n",
              "      <td>A</td>\n",
              "      <td>19</td>\n",
              "      <td>16.0</td>\n",
              "      <td>False</td>\n",
              "      <td>False</td>\n",
              "      <td>False</td>\n",
              "      <td>False</td>\n",
              "      <td>True</td>\n",
              "      <td>False</td>\n",
              "      <td>False</td>\n",
              "      <td>...</td>\n",
              "      <td>False</td>\n",
              "      <td>False</td>\n",
              "      <td>False</td>\n",
              "      <td>False</td>\n",
              "      <td>False</td>\n",
              "      <td>True</td>\n",
              "      <td>False</td>\n",
              "      <td>True</td>\n",
              "      <td>True</td>\n",
              "      <td>True</td>\n",
              "    </tr>\n",
              "  </tbody>\n",
              "</table>\n",
              "<p>3 rows × 41 columns</p>\n",
              "</div>\n",
              "    <div class=\"colab-df-buttons\">\n",
              "\n",
              "  <div class=\"colab-df-container\">\n",
              "    <button class=\"colab-df-convert\" onclick=\"convertToInteractive('df-294bac0b-2da5-4846-99ed-309521a58f3f')\"\n",
              "            title=\"Convert this dataframe to an interactive table.\"\n",
              "            style=\"display:none;\">\n",
              "\n",
              "  <svg xmlns=\"http://www.w3.org/2000/svg\" height=\"24px\" viewBox=\"0 -960 960 960\">\n",
              "    <path d=\"M120-120v-720h720v720H120Zm60-500h600v-160H180v160Zm220 220h160v-160H400v160Zm0 220h160v-160H400v160ZM180-400h160v-160H180v160Zm440 0h160v-160H620v160ZM180-180h160v-160H180v160Zm440 0h160v-160H620v160Z\"/>\n",
              "  </svg>\n",
              "    </button>\n",
              "\n",
              "  <style>\n",
              "    .colab-df-container {\n",
              "      display:flex;\n",
              "      gap: 12px;\n",
              "    }\n",
              "\n",
              "    .colab-df-convert {\n",
              "      background-color: #E8F0FE;\n",
              "      border: none;\n",
              "      border-radius: 50%;\n",
              "      cursor: pointer;\n",
              "      display: none;\n",
              "      fill: #1967D2;\n",
              "      height: 32px;\n",
              "      padding: 0 0 0 0;\n",
              "      width: 32px;\n",
              "    }\n",
              "\n",
              "    .colab-df-convert:hover {\n",
              "      background-color: #E2EBFA;\n",
              "      box-shadow: 0px 1px 2px rgba(60, 64, 67, 0.3), 0px 1px 3px 1px rgba(60, 64, 67, 0.15);\n",
              "      fill: #174EA6;\n",
              "    }\n",
              "\n",
              "    .colab-df-buttons div {\n",
              "      margin-bottom: 4px;\n",
              "    }\n",
              "\n",
              "    [theme=dark] .colab-df-convert {\n",
              "      background-color: #3B4455;\n",
              "      fill: #D2E3FC;\n",
              "    }\n",
              "\n",
              "    [theme=dark] .colab-df-convert:hover {\n",
              "      background-color: #434B5C;\n",
              "      box-shadow: 0px 1px 3px 1px rgba(0, 0, 0, 0.15);\n",
              "      filter: drop-shadow(0px 1px 2px rgba(0, 0, 0, 0.3));\n",
              "      fill: #FFFFFF;\n",
              "    }\n",
              "  </style>\n",
              "\n",
              "    <script>\n",
              "      const buttonEl =\n",
              "        document.querySelector('#df-294bac0b-2da5-4846-99ed-309521a58f3f button.colab-df-convert');\n",
              "      buttonEl.style.display =\n",
              "        google.colab.kernel.accessAllowed ? 'block' : 'none';\n",
              "\n",
              "      async function convertToInteractive(key) {\n",
              "        const element = document.querySelector('#df-294bac0b-2da5-4846-99ed-309521a58f3f');\n",
              "        const dataTable =\n",
              "          await google.colab.kernel.invokeFunction('convertToInteractive',\n",
              "                                                    [key], {});\n",
              "        if (!dataTable) return;\n",
              "\n",
              "        const docLinkHtml = 'Like what you see? Visit the ' +\n",
              "          '<a target=\"_blank\" href=https://colab.research.google.com/notebooks/data_table.ipynb>data table notebook</a>'\n",
              "          + ' to learn more about interactive tables.';\n",
              "        element.innerHTML = '';\n",
              "        dataTable['output_type'] = 'display_data';\n",
              "        await google.colab.output.renderOutput(dataTable, element);\n",
              "        const docLink = document.createElement('div');\n",
              "        docLink.innerHTML = docLinkHtml;\n",
              "        element.appendChild(docLink);\n",
              "      }\n",
              "    </script>\n",
              "  </div>\n",
              "\n",
              "\n",
              "<div id=\"df-b3a19513-5473-4a05-aacc-3e60a7484b68\">\n",
              "  <button class=\"colab-df-quickchart\" onclick=\"quickchart('df-b3a19513-5473-4a05-aacc-3e60a7484b68')\"\n",
              "            title=\"Suggest charts\"\n",
              "            style=\"display:none;\">\n",
              "\n",
              "<svg xmlns=\"http://www.w3.org/2000/svg\" height=\"24px\"viewBox=\"0 0 24 24\"\n",
              "     width=\"24px\">\n",
              "    <g>\n",
              "        <path d=\"M19 3H5c-1.1 0-2 .9-2 2v14c0 1.1.9 2 2 2h14c1.1 0 2-.9 2-2V5c0-1.1-.9-2-2-2zM9 17H7v-7h2v7zm4 0h-2V7h2v10zm4 0h-2v-4h2v4z\"/>\n",
              "    </g>\n",
              "</svg>\n",
              "  </button>\n",
              "\n",
              "<style>\n",
              "  .colab-df-quickchart {\n",
              "      --bg-color: #E8F0FE;\n",
              "      --fill-color: #1967D2;\n",
              "      --hover-bg-color: #E2EBFA;\n",
              "      --hover-fill-color: #174EA6;\n",
              "      --disabled-fill-color: #AAA;\n",
              "      --disabled-bg-color: #DDD;\n",
              "  }\n",
              "\n",
              "  [theme=dark] .colab-df-quickchart {\n",
              "      --bg-color: #3B4455;\n",
              "      --fill-color: #D2E3FC;\n",
              "      --hover-bg-color: #434B5C;\n",
              "      --hover-fill-color: #FFFFFF;\n",
              "      --disabled-bg-color: #3B4455;\n",
              "      --disabled-fill-color: #666;\n",
              "  }\n",
              "\n",
              "  .colab-df-quickchart {\n",
              "    background-color: var(--bg-color);\n",
              "    border: none;\n",
              "    border-radius: 50%;\n",
              "    cursor: pointer;\n",
              "    display: none;\n",
              "    fill: var(--fill-color);\n",
              "    height: 32px;\n",
              "    padding: 0;\n",
              "    width: 32px;\n",
              "  }\n",
              "\n",
              "  .colab-df-quickchart:hover {\n",
              "    background-color: var(--hover-bg-color);\n",
              "    box-shadow: 0 1px 2px rgba(60, 64, 67, 0.3), 0 1px 3px 1px rgba(60, 64, 67, 0.15);\n",
              "    fill: var(--button-hover-fill-color);\n",
              "  }\n",
              "\n",
              "  .colab-df-quickchart-complete:disabled,\n",
              "  .colab-df-quickchart-complete:disabled:hover {\n",
              "    background-color: var(--disabled-bg-color);\n",
              "    fill: var(--disabled-fill-color);\n",
              "    box-shadow: none;\n",
              "  }\n",
              "\n",
              "  .colab-df-spinner {\n",
              "    border: 2px solid var(--fill-color);\n",
              "    border-color: transparent;\n",
              "    border-bottom-color: var(--fill-color);\n",
              "    animation:\n",
              "      spin 1s steps(1) infinite;\n",
              "  }\n",
              "\n",
              "  @keyframes spin {\n",
              "    0% {\n",
              "      border-color: transparent;\n",
              "      border-bottom-color: var(--fill-color);\n",
              "      border-left-color: var(--fill-color);\n",
              "    }\n",
              "    20% {\n",
              "      border-color: transparent;\n",
              "      border-left-color: var(--fill-color);\n",
              "      border-top-color: var(--fill-color);\n",
              "    }\n",
              "    30% {\n",
              "      border-color: transparent;\n",
              "      border-left-color: var(--fill-color);\n",
              "      border-top-color: var(--fill-color);\n",
              "      border-right-color: var(--fill-color);\n",
              "    }\n",
              "    40% {\n",
              "      border-color: transparent;\n",
              "      border-right-color: var(--fill-color);\n",
              "      border-top-color: var(--fill-color);\n",
              "    }\n",
              "    60% {\n",
              "      border-color: transparent;\n",
              "      border-right-color: var(--fill-color);\n",
              "    }\n",
              "    80% {\n",
              "      border-color: transparent;\n",
              "      border-right-color: var(--fill-color);\n",
              "      border-bottom-color: var(--fill-color);\n",
              "    }\n",
              "    90% {\n",
              "      border-color: transparent;\n",
              "      border-bottom-color: var(--fill-color);\n",
              "    }\n",
              "  }\n",
              "</style>\n",
              "\n",
              "  <script>\n",
              "    async function quickchart(key) {\n",
              "      const quickchartButtonEl =\n",
              "        document.querySelector('#' + key + ' button');\n",
              "      quickchartButtonEl.disabled = true;  // To prevent multiple clicks.\n",
              "      quickchartButtonEl.classList.add('colab-df-spinner');\n",
              "      try {\n",
              "        const charts = await google.colab.kernel.invokeFunction(\n",
              "            'suggestCharts', [key], {});\n",
              "      } catch (error) {\n",
              "        console.error('Error during call to suggestCharts:', error);\n",
              "      }\n",
              "      quickchartButtonEl.classList.remove('colab-df-spinner');\n",
              "      quickchartButtonEl.classList.add('colab-df-quickchart-complete');\n",
              "    }\n",
              "    (() => {\n",
              "      let quickchartButtonEl =\n",
              "        document.querySelector('#df-b3a19513-5473-4a05-aacc-3e60a7484b68 button');\n",
              "      quickchartButtonEl.style.display =\n",
              "        google.colab.kernel.accessAllowed ? 'block' : 'none';\n",
              "    })();\n",
              "  </script>\n",
              "</div>\n",
              "\n",
              "    </div>\n",
              "  </div>\n"
            ],
            "application/vnd.google.colaboratory.intrinsic+json": {
              "type": "dataframe",
              "variable_name": "dataset"
            }
          },
          "metadata": {},
          "execution_count": 11
        }
      ]
    },
    {
      "cell_type": "code",
      "source": [
        "#predicting the company name based on certain features\n",
        "y = dataset['company']\n",
        "print(y)"
      ],
      "metadata": {
        "colab": {
          "base_uri": "https://localhost:8080/"
        },
        "id": "UULNhsTvgEqz",
        "outputId": "2d75a158-db68-425c-dded-9eb183b262a3"
      },
      "execution_count": 12,
      "outputs": [
        {
          "output_type": "stream",
          "name": "stdout",
          "text": [
            "0      A\n",
            "1      A\n",
            "2      A\n",
            "3      A\n",
            "4      A\n",
            "      ..\n",
            "124    E\n",
            "125    E\n",
            "126    E\n",
            "127    E\n",
            "128    E\n",
            "Name: company, Length: 129, dtype: object\n"
          ]
        }
      ]
    },
    {
      "cell_type": "code",
      "source": [
        "#dropped the features that are probably not relevant to the model\n",
        "X = dataset.drop(['company'], axis=1)\n",
        "print(X)"
      ],
      "metadata": {
        "colab": {
          "base_uri": "https://localhost:8080/"
        },
        "id": "wytcL5gfgKdn",
        "outputId": "ad9a74ae-10cb-4b01-f97f-8ae17c410097"
      },
      "execution_count": 13,
      "outputs": [
        {
          "output_type": "stream",
          "name": "stdout",
          "text": [
            "     price_cad  diameter_in  black_pepper  chicken   meat  mozzarella  \\\n",
            "0           29         22.0         False     True  False       False   \n",
            "1           25         20.0         False    False  False       False   \n",
            "2           19         16.0         False    False  False       False   \n",
            "3           22         14.0         False    False  False       False   \n",
            "4           30         18.0         False    False  False        True   \n",
            "..         ...          ...           ...      ...    ...         ...   \n",
            "124         11          8.5         False    False  False       False   \n",
            "125         14         12.0         False    False  False       False   \n",
            "126         17         14.0         False    False  False       False   \n",
            "127         12          8.5         False    False   True       False   \n",
            "128         15         12.0         False    False   True       False   \n",
            "\n",
            "     mushrooms  onion  pepperoni  sausage  ...  super_supreme  thai_veggie  \\\n",
            "0        False  False      False    False  ...          False        False   \n",
            "1        False  False       True    False  ...          False        False   \n",
            "2         True  False      False    False  ...          False        False   \n",
            "3        False  False      False    False  ...          False        False   \n",
            "4        False  False      False    False  ...          False        False   \n",
            "..         ...    ...        ...      ...  ...            ...          ...   \n",
            "124      False  False      False    False  ...          False        False   \n",
            "125      False  False      False    False  ...          False        False   \n",
            "126      False  False      False    False  ...          False        False   \n",
            "127      False  False      False    False  ...          False        False   \n",
            "128      False  False      False    False  ...          False        False   \n",
            "\n",
            "     jumbo  large  medium  regular  small    yes    yes    yes  \n",
            "0     True  False   False    False  False   True   True  False  \n",
            "1     True  False   False    False  False   True   True  False  \n",
            "2    False  False   False     True  False   True   True   True  \n",
            "3    False  False   False     True  False   True  False   True  \n",
            "4     True  False   False    False  False   True  False   True  \n",
            "..     ...    ...     ...      ...    ...    ...    ...    ...  \n",
            "124  False  False   False    False   True   True   True   True  \n",
            "125  False  False    True    False  False   True   True   True  \n",
            "126  False   True   False    False  False   True   True   True  \n",
            "127  False  False   False    False   True   True  False   True  \n",
            "128  False  False    True    False  False  False  False   True  \n",
            "\n",
            "[129 rows x 40 columns]\n"
          ]
        }
      ]
    },
    {
      "cell_type": "code",
      "source": [
        "#do testing/training split - need different code for own data b/c no .data or .target\n",
        "from sklearn.model_selection import train_test_split\n",
        "\n",
        "X_train, X_test, y_train, y_test = train_test_split(X, y, random_state=0, stratify=y)"
      ],
      "metadata": {
        "id": "siC8ZjyQehCY"
      },
      "execution_count": 14,
      "outputs": []
    },
    {
      "cell_type": "markdown",
      "metadata": {
        "id": "OkYHTOh9XTsL"
      },
      "source": [
        "# Naive Bayes Classifier"
      ]
    },
    {
      "cell_type": "code",
      "execution_count": 15,
      "metadata": {
        "id": "4n67rRFpXTsL",
        "outputId": "3ba88708-9465-4edf-fff5-0210d428010a",
        "colab": {
          "base_uri": "https://localhost:8080/"
        }
      },
      "outputs": [
        {
          "output_type": "stream",
          "name": "stdout",
          "text": [
            "Training set score: 0.62\n",
            "Test set score: 0.61\n"
          ]
        }
      ],
      "source": [
        "from sklearn.naive_bayes import GaussianNB\n",
        "\n",
        "#assumes normally distributed data\n",
        "gnb = GaussianNB()\n",
        "gnb.fit(X_train, y_train)\n",
        "\n",
        "print(\"Training set score: {:.2f}\".format(gnb.score(X_train, y_train)))\n",
        "print(\"Test set score: {:.2f}\".format(gnb.score(X_test, y_test)))"
      ]
    },
    {
      "cell_type": "markdown",
      "source": [
        "## Testing/Training Split Evaluation"
      ],
      "metadata": {
        "id": "1uejAr-OfSH7"
      }
    },
    {
      "cell_type": "code",
      "source": [
        "# Accuracy\n",
        "\n"
      ],
      "metadata": {
        "id": "kApyrL89fXIM"
      },
      "execution_count": null,
      "outputs": []
    },
    {
      "cell_type": "code",
      "execution_count": null,
      "metadata": {
        "id": "ZOvfsSukXTsM"
      },
      "outputs": [],
      "source": [
        "# Classification Report\n",
        "#Print the classification report\n",
        "from sklearn.metrics import classification_report\n",
        "\n",
        "print(classification_report(y_test, gnb.predict(X_test),\n",
        "                            target_names=[\"class 1\", \"class 2\",\"class 3\"]))\n"
      ]
    },
    {
      "cell_type": "markdown",
      "source": [
        "## Cross Validation (from class 5 notebook)"
      ],
      "metadata": {
        "id": "2p11Whd7faUk"
      }
    },
    {
      "cell_type": "code",
      "source": [
        "from sklearn.model_selection import cross_val_score\n",
        "from sklearn.neighbors import KNeighborsClassifier\n",
        "\n",
        "# for n_neighbors in neighbors_settings:\n",
        "#     # build the model\n",
        "#     knn = KNeighborsClassifier(n_neighbors=n_neighbors,algorithm=\"brute\")\n",
        "#     knn.fit(X_train, y_train)\n",
        "#     # record training set accuracy\n",
        "#     training_accuracy.append(knn.score(X_train, y_train))\n",
        "#     # record generalization accuracy\n",
        "#     test_accuracy.append(knn.score(X_test, y_test))\n",
        "\n",
        "\n",
        "knn_cv = KNeighborsClassifier(n_neighbors=4)\n",
        "\n",
        "#5-fold cross validation\n",
        "cv_scores_all = cross_val_score(knn_cv, wine_dataset.data, wine_dataset.target, cv=5) #pass classifier, dataset, target, and # folds\n",
        "\n",
        "#return scores for each fold\n",
        "print(\"cv_scores:\\n{}\".format(cv_scores_all))\n",
        "print(\"cv_scores mean:\\n{}\".format(np.mean(cv_scores_all))) #calculate the mean\n"
      ],
      "metadata": {
        "id": "Y2EzIagee3D8",
        "outputId": "33e23dc6-cb99-41ad-dbd0-9a92ebff50be",
        "colab": {
          "base_uri": "https://localhost:8080/",
          "height": 211
        }
      },
      "execution_count": null,
      "outputs": [
        {
          "output_type": "error",
          "ename": "NameError",
          "evalue": "name 'wine_dataset' is not defined",
          "traceback": [
            "\u001b[0;31m---------------------------------------------------------------------------\u001b[0m",
            "\u001b[0;31mNameError\u001b[0m                                 Traceback (most recent call last)",
            "\u001b[0;32m<ipython-input-9-33a56b5b567a>\u001b[0m in \u001b[0;36m<cell line: 17>\u001b[0;34m()\u001b[0m\n\u001b[1;32m     15\u001b[0m \u001b[0;34m\u001b[0m\u001b[0m\n\u001b[1;32m     16\u001b[0m \u001b[0;31m#5-fold cross validation\u001b[0m\u001b[0;34m\u001b[0m\u001b[0;34m\u001b[0m\u001b[0m\n\u001b[0;32m---> 17\u001b[0;31m \u001b[0mcv_scores_all\u001b[0m \u001b[0;34m=\u001b[0m \u001b[0mcross_val_score\u001b[0m\u001b[0;34m(\u001b[0m\u001b[0mknn_cv\u001b[0m\u001b[0;34m,\u001b[0m \u001b[0mwine_dataset\u001b[0m\u001b[0;34m.\u001b[0m\u001b[0mdata\u001b[0m\u001b[0;34m,\u001b[0m \u001b[0mwine_dataset\u001b[0m\u001b[0;34m.\u001b[0m\u001b[0mtarget\u001b[0m\u001b[0;34m,\u001b[0m \u001b[0mcv\u001b[0m\u001b[0;34m=\u001b[0m\u001b[0;36m5\u001b[0m\u001b[0;34m)\u001b[0m \u001b[0;31m#pass classifier, dataset, target, and # folds\u001b[0m\u001b[0;34m\u001b[0m\u001b[0;34m\u001b[0m\u001b[0m\n\u001b[0m\u001b[1;32m     18\u001b[0m \u001b[0;34m\u001b[0m\u001b[0m\n\u001b[1;32m     19\u001b[0m \u001b[0;31m#return scores for each fold\u001b[0m\u001b[0;34m\u001b[0m\u001b[0;34m\u001b[0m\u001b[0m\n",
            "\u001b[0;31mNameError\u001b[0m: name 'wine_dataset' is not defined"
          ]
        }
      ]
    },
    {
      "cell_type": "markdown",
      "metadata": {
        "id": "_qJliL_4XTsM"
      },
      "source": [
        "# Random Forest"
      ]
    },
    {
      "cell_type": "code",
      "source": [
        "# https://scikit-learn.org/stable/modules/generated/sklearn.ensemble.RandomForestClassifier.html\n",
        "\n",
        "from sklearn.ensemble import RandomForestClassifier\n",
        "from sklearn.datasets import make_moons\n",
        "\n",
        "#fit on training/testing\n",
        "forest = RandomForestClassifier(n_estimators=5, random_state=2)\n",
        "forest.fit(X_train, y_train)\n",
        "\n"
      ],
      "metadata": {
        "id": "1i5f--aqq4HB",
        "outputId": "0952eb5d-3bc3-4c89-8580-832e1b2b6f43",
        "colab": {
          "base_uri": "https://localhost:8080/",
          "height": 74
        }
      },
      "execution_count": null,
      "outputs": [
        {
          "output_type": "execute_result",
          "data": {
            "text/plain": [
              "RandomForestClassifier(n_estimators=5, random_state=2)"
            ],
            "text/html": [
              "<style>#sk-container-id-1 {color: black;background-color: white;}#sk-container-id-1 pre{padding: 0;}#sk-container-id-1 div.sk-toggleable {background-color: white;}#sk-container-id-1 label.sk-toggleable__label {cursor: pointer;display: block;width: 100%;margin-bottom: 0;padding: 0.3em;box-sizing: border-box;text-align: center;}#sk-container-id-1 label.sk-toggleable__label-arrow:before {content: \"▸\";float: left;margin-right: 0.25em;color: #696969;}#sk-container-id-1 label.sk-toggleable__label-arrow:hover:before {color: black;}#sk-container-id-1 div.sk-estimator:hover label.sk-toggleable__label-arrow:before {color: black;}#sk-container-id-1 div.sk-toggleable__content {max-height: 0;max-width: 0;overflow: hidden;text-align: left;background-color: #f0f8ff;}#sk-container-id-1 div.sk-toggleable__content pre {margin: 0.2em;color: black;border-radius: 0.25em;background-color: #f0f8ff;}#sk-container-id-1 input.sk-toggleable__control:checked~div.sk-toggleable__content {max-height: 200px;max-width: 100%;overflow: auto;}#sk-container-id-1 input.sk-toggleable__control:checked~label.sk-toggleable__label-arrow:before {content: \"▾\";}#sk-container-id-1 div.sk-estimator input.sk-toggleable__control:checked~label.sk-toggleable__label {background-color: #d4ebff;}#sk-container-id-1 div.sk-label input.sk-toggleable__control:checked~label.sk-toggleable__label {background-color: #d4ebff;}#sk-container-id-1 input.sk-hidden--visually {border: 0;clip: rect(1px 1px 1px 1px);clip: rect(1px, 1px, 1px, 1px);height: 1px;margin: -1px;overflow: hidden;padding: 0;position: absolute;width: 1px;}#sk-container-id-1 div.sk-estimator {font-family: monospace;background-color: #f0f8ff;border: 1px dotted black;border-radius: 0.25em;box-sizing: border-box;margin-bottom: 0.5em;}#sk-container-id-1 div.sk-estimator:hover {background-color: #d4ebff;}#sk-container-id-1 div.sk-parallel-item::after {content: \"\";width: 100%;border-bottom: 1px solid gray;flex-grow: 1;}#sk-container-id-1 div.sk-label:hover label.sk-toggleable__label {background-color: #d4ebff;}#sk-container-id-1 div.sk-serial::before {content: \"\";position: absolute;border-left: 1px solid gray;box-sizing: border-box;top: 0;bottom: 0;left: 50%;z-index: 0;}#sk-container-id-1 div.sk-serial {display: flex;flex-direction: column;align-items: center;background-color: white;padding-right: 0.2em;padding-left: 0.2em;position: relative;}#sk-container-id-1 div.sk-item {position: relative;z-index: 1;}#sk-container-id-1 div.sk-parallel {display: flex;align-items: stretch;justify-content: center;background-color: white;position: relative;}#sk-container-id-1 div.sk-item::before, #sk-container-id-1 div.sk-parallel-item::before {content: \"\";position: absolute;border-left: 1px solid gray;box-sizing: border-box;top: 0;bottom: 0;left: 50%;z-index: -1;}#sk-container-id-1 div.sk-parallel-item {display: flex;flex-direction: column;z-index: 1;position: relative;background-color: white;}#sk-container-id-1 div.sk-parallel-item:first-child::after {align-self: flex-end;width: 50%;}#sk-container-id-1 div.sk-parallel-item:last-child::after {align-self: flex-start;width: 50%;}#sk-container-id-1 div.sk-parallel-item:only-child::after {width: 0;}#sk-container-id-1 div.sk-dashed-wrapped {border: 1px dashed gray;margin: 0 0.4em 0.5em 0.4em;box-sizing: border-box;padding-bottom: 0.4em;background-color: white;}#sk-container-id-1 div.sk-label label {font-family: monospace;font-weight: bold;display: inline-block;line-height: 1.2em;}#sk-container-id-1 div.sk-label-container {text-align: center;}#sk-container-id-1 div.sk-container {/* jupyter's `normalize.less` sets `[hidden] { display: none; }` but bootstrap.min.css set `[hidden] { display: none !important; }` so we also need the `!important` here to be able to override the default hidden behavior on the sphinx rendered scikit-learn.org. See: https://github.com/scikit-learn/scikit-learn/issues/21755 */display: inline-block !important;position: relative;}#sk-container-id-1 div.sk-text-repr-fallback {display: none;}</style><div id=\"sk-container-id-1\" class=\"sk-top-container\"><div class=\"sk-text-repr-fallback\"><pre>RandomForestClassifier(n_estimators=5, random_state=2)</pre><b>In a Jupyter environment, please rerun this cell to show the HTML representation or trust the notebook. <br />On GitHub, the HTML representation is unable to render, please try loading this page with nbviewer.org.</b></div><div class=\"sk-container\" hidden><div class=\"sk-item\"><div class=\"sk-estimator sk-toggleable\"><input class=\"sk-toggleable__control sk-hidden--visually\" id=\"sk-estimator-id-1\" type=\"checkbox\" checked><label for=\"sk-estimator-id-1\" class=\"sk-toggleable__label sk-toggleable__label-arrow\">RandomForestClassifier</label><div class=\"sk-toggleable__content\"><pre>RandomForestClassifier(n_estimators=5, random_state=2)</pre></div></div></div></div></div>"
            ]
          },
          "metadata": {},
          "execution_count": 11
        }
      ]
    },
    {
      "cell_type": "markdown",
      "source": [
        "## Testing/Training Split Evaluation"
      ],
      "metadata": {
        "id": "BvJe4kM2orxg"
      }
    },
    {
      "cell_type": "code",
      "source": [
        "# Accuracy\n",
        "#report accuracy\n",
        "print(\"Accuracy on training set: {:.3f}\".format(forest.score(X_train, y_train)))\n",
        "print(\"Accuracy on test set: {:.3f}\".format(forest.score(X_test, y_test)))"
      ],
      "metadata": {
        "id": "iTFvh-maotcj",
        "outputId": "8e157f0b-3dc4-4adc-d1f6-9d45d1f9dda7",
        "colab": {
          "base_uri": "https://localhost:8080/"
        }
      },
      "execution_count": null,
      "outputs": [
        {
          "output_type": "stream",
          "name": "stdout",
          "text": [
            "Accuracy on training set: 1.000\n",
            "Accuracy on test set: 0.876\n"
          ]
        }
      ]
    },
    {
      "cell_type": "code",
      "execution_count": null,
      "metadata": {
        "id": "eGSDB5oJXTsN"
      },
      "outputs": [],
      "source": [
        "# Classification Report\n"
      ]
    },
    {
      "cell_type": "markdown",
      "source": [
        "## Cross Validation"
      ],
      "metadata": {
        "id": "5M6xmNZ5ot85"
      }
    },
    {
      "cell_type": "code",
      "execution_count": null,
      "metadata": {
        "id": "oQ1-2oHZXTsM"
      },
      "outputs": [],
      "source": [
        "from sklearn.model_selection import cross_val_score\n",
        "from sklearn.neighbors import KNeighborsClassifier\n",
        "\n",
        "# for n_neighbors in neighbors_settings:\n",
        "#     # build the model\n",
        "#     knn = KNeighborsClassifier(n_neighbors=n_neighbors,algorithm=\"brute\")\n",
        "#     knn.fit(X_train, y_train)\n",
        "#     # record training set accuracy\n",
        "#     training_accuracy.append(knn.score(X_train, y_train))\n",
        "#     # record generalization accuracy\n",
        "#     test_accuracy.append(knn.score(X_test, y_test))\n",
        "\n",
        "\n",
        "knn_cv = KNeighborsClassifier(n_neighbors=4)\n",
        "\n",
        "#5-fold cross validation\n",
        "cv_scores_all = cross_val_score(knn_cv, wine_dataset.data, wine_dataset.target, cv=5) #pass classifier, dataset, target, and # folds\n",
        "\n",
        "#return scores for each fold\n",
        "print(\"cv_scores:\\n{}\".format(cv_scores_all))\n",
        "print(\"cv_scores mean:\\n{}\".format(np.mean(cv_scores_all))) #calculate the mean\n"
      ]
    },
    {
      "cell_type": "markdown",
      "source": [
        "## Feature Importances"
      ],
      "metadata": {
        "id": "RGG-Hp1LupPn"
      }
    },
    {
      "cell_type": "code",
      "execution_count": null,
      "metadata": {
        "id": "Y7jZrDwsXTsM",
        "outputId": "75d7c4b8-e28b-40fd-c2fb-a1e7925aaf3f",
        "colab": {
          "base_uri": "https://localhost:8080/",
          "height": 158
        }
      },
      "outputs": [
        {
          "output_type": "error",
          "ename": "NameError",
          "evalue": "name 'plot_feature_importances_wine' is not defined",
          "traceback": [
            "\u001b[0;31m---------------------------------------------------------------------------\u001b[0m",
            "\u001b[0;31mNameError\u001b[0m                                 Traceback (most recent call last)",
            "\u001b[0;32m<ipython-input-13-1c7bdb4a4749>\u001b[0m in \u001b[0;36m<cell line: 2>\u001b[0;34m()\u001b[0m\n\u001b[1;32m      1\u001b[0m \u001b[0;31m# print list of feature importances\u001b[0m\u001b[0;34m\u001b[0m\u001b[0;34m\u001b[0m\u001b[0m\n\u001b[0;32m----> 2\u001b[0;31m \u001b[0mplot_feature_importances_wine\u001b[0m\u001b[0;34m(\u001b[0m\u001b[0mforest\u001b[0m\u001b[0;34m)\u001b[0m\u001b[0;34m\u001b[0m\u001b[0;34m\u001b[0m\u001b[0m\n\u001b[0m",
            "\u001b[0;31mNameError\u001b[0m: name 'plot_feature_importances_wine' is not defined"
          ]
        }
      ],
      "source": [
        "# print list of feature importances\n",
        "plot_feature_importances_wine(forest)"
      ]
    },
    {
      "cell_type": "code",
      "execution_count": null,
      "metadata": {
        "id": "NlbDzZ5nXTsM"
      },
      "outputs": [],
      "source": [
        "# plot feature importances\n"
      ]
    },
    {
      "cell_type": "markdown",
      "source": [
        "# Support Vector Machines"
      ],
      "metadata": {
        "id": "6bv_A-MRvWNK"
      }
    },
    {
      "cell_type": "code",
      "source": [],
      "metadata": {
        "id": "2HBqLogavYCN"
      },
      "execution_count": null,
      "outputs": []
    },
    {
      "cell_type": "markdown",
      "source": [
        "## Testing/Training Split Evaluation"
      ],
      "metadata": {
        "id": "0DjXhRjIvZtY"
      }
    },
    {
      "cell_type": "code",
      "source": [
        "# polynomial kernel\n",
        "# accuracy\n"
      ],
      "metadata": {
        "id": "-UD6-txAvdYe"
      },
      "execution_count": null,
      "outputs": []
    },
    {
      "cell_type": "code",
      "source": [
        "# polynomial kernel\n",
        "# classification report\n"
      ],
      "metadata": {
        "id": "v4BCpcy2wxTa"
      },
      "execution_count": null,
      "outputs": []
    },
    {
      "cell_type": "code",
      "source": [
        "# radial basis function kernel\n"
      ],
      "metadata": {
        "id": "ly7UZQH2w00t"
      },
      "execution_count": null,
      "outputs": []
    },
    {
      "cell_type": "code",
      "source": [
        "# radial basis function kernel\n",
        "# classification report\n"
      ],
      "metadata": {
        "id": "dH6DC45V0nFP"
      },
      "execution_count": null,
      "outputs": []
    },
    {
      "cell_type": "markdown",
      "source": [
        "## Parameter Selection with Grid Search\n"
      ],
      "metadata": {
        "id": "KNsayGqTveAC"
      }
    },
    {
      "cell_type": "code",
      "source": [
        "# import StratifiedShuffleSplit\n",
        "\n",
        "\n",
        "# import GridSearchCV and set ranges for C and gamma and create the paramter grid\n"
      ],
      "metadata": {
        "id": "3kTarj2S12Db"
      },
      "execution_count": null,
      "outputs": []
    },
    {
      "cell_type": "code",
      "source": [
        "# polynomial kernel\n"
      ],
      "metadata": {
        "id": "XxHmFVlMvhDj"
      },
      "execution_count": null,
      "outputs": []
    },
    {
      "cell_type": "code",
      "source": [
        "# radial basis function kernel\n"
      ],
      "metadata": {
        "id": "aZ2Y3W3630Mz"
      },
      "execution_count": null,
      "outputs": []
    }
  ],
  "metadata": {
    "kernelspec": {
      "display_name": "Python 3",
      "language": "python",
      "name": "python3"
    },
    "language_info": {
      "codemirror_mode": {
        "name": "ipython",
        "version": 3
      },
      "file_extension": ".py",
      "mimetype": "text/x-python",
      "name": "python",
      "nbconvert_exporter": "python",
      "pygments_lexer": "ipython3",
      "version": "3.6.13"
    },
    "colab": {
      "provenance": [],
      "include_colab_link": true
    }
  },
  "nbformat": 4,
  "nbformat_minor": 0
}