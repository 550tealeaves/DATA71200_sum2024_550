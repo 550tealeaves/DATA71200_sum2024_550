{
  "cells": [
    {
      "cell_type": "markdown",
      "metadata": {
        "id": "view-in-github",
        "colab_type": "text"
      },
      "source": [
        "<a href=\"https://colab.research.google.com/github/550tealeaves/DATA71200_sum2024_550/blob/main/data71200class3lab_WorkingCopy_edited_binning.ipynb\" target=\"_parent\"><img src=\"https://colab.research.google.com/assets/colab-badge.svg\" alt=\"Open In Colab\"/></a>"
      ]
    },
    {
      "cell_type": "code",
      "execution_count": 2,
      "id": "f0464131",
      "metadata": {
        "id": "f0464131"
      },
      "outputs": [],
      "source": [
        "import os\n",
        "import numpy as np\n",
        "import pandas as pd\n",
        "from pandas.plotting import scatter_matrix"
      ]
    },
    {
      "cell_type": "markdown",
      "id": "6a0df9f7",
      "metadata": {
        "id": "6a0df9f7"
      },
      "source": [
        "# In-Class Activity 1"
      ]
    },
    {
      "cell_type": "code",
      "execution_count": 3,
      "id": "b6a5716a",
      "metadata": {
        "id": "b6a5716a"
      },
      "outputs": [],
      "source": [
        "# Import the California Housing Data from used in the HOML book, Chapter 2\n",
        "# Apply one-hot encoding to the ocean_proximity value\n",
        "\n",
        "import os\n",
        "import tarfile\n",
        "from six.moves import urllib\n",
        "\n",
        "DOWNLOAD_ROOT = \"https://raw.githubusercontent.com/ageron/handson-ml/master/\"\n",
        "HOUSING_PATH = os.path.join(\"datasets\", \"housing\")\n",
        "HOUSING_URL = DOWNLOAD_ROOT + \"datasets/housing/housing.tgz\"\n",
        "\n",
        "def fetch_housing_data(housing_url=HOUSING_URL, housing_path=HOUSING_PATH):\n",
        "    os.makedirs(housing_path, exist_ok=True)\n",
        "    tgz_path = os.path.join(housing_path, \"housing.tgz\")\n",
        "    urllib.request.urlretrieve(housing_url, tgz_path)\n",
        "    housing_tgz = tarfile.open(tgz_path)\n",
        "    housing_tgz.extractall(path=housing_path)\n",
        "    housing_tgz.close()"
      ]
    },
    {
      "cell_type": "code",
      "execution_count": 4,
      "id": "89d5af6f",
      "metadata": {
        "id": "89d5af6f"
      },
      "outputs": [],
      "source": [
        "fetch_housing_data()\n",
        "\n",
        "def load_housing_data(housing_path=HOUSING_PATH):\n",
        "    csv_path = os.path.join(housing_path, \"housing.csv\")\n",
        "    return pd.read_csv(csv_path)"
      ]
    },
    {
      "cell_type": "code",
      "execution_count": 5,
      "id": "64b2c72b",
      "metadata": {
        "id": "64b2c72b"
      },
      "outputs": [],
      "source": [
        "housing = load_housing_data()"
      ]
    },
    {
      "cell_type": "code",
      "source": [
        "#print the housing.head (data.head) so that you can see feature names\n",
        "print(housing.head())"
      ],
      "metadata": {
        "id": "4cXyiTWSeZ_q",
        "outputId": "4dc6e7f1-d3e1-455a-8c4f-c75348619322",
        "colab": {
          "base_uri": "https://localhost:8080/"
        }
      },
      "id": "4cXyiTWSeZ_q",
      "execution_count": 6,
      "outputs": [
        {
          "output_type": "stream",
          "name": "stdout",
          "text": [
            "   longitude  latitude  housing_median_age  total_rooms  total_bedrooms  \\\n",
            "0    -122.23     37.88                41.0        880.0           129.0   \n",
            "1    -122.22     37.86                21.0       7099.0          1106.0   \n",
            "2    -122.24     37.85                52.0       1467.0           190.0   \n",
            "3    -122.25     37.85                52.0       1274.0           235.0   \n",
            "4    -122.25     37.85                52.0       1627.0           280.0   \n",
            "\n",
            "   population  households  median_income  median_house_value ocean_proximity  \n",
            "0       322.0       126.0         8.3252            452600.0        NEAR BAY  \n",
            "1      2401.0      1138.0         8.3014            358500.0        NEAR BAY  \n",
            "2       496.0       177.0         7.2574            352100.0        NEAR BAY  \n",
            "3       558.0       219.0         5.6431            341300.0        NEAR BAY  \n",
            "4       565.0       259.0         3.8462            342200.0        NEAR BAY  \n"
          ]
        }
      ]
    },
    {
      "cell_type": "code",
      "execution_count": 7,
      "id": "277d5b32",
      "metadata": {
        "id": "277d5b32",
        "outputId": "b720d100-d06c-4ca6-87e9-a86485bd3af2",
        "colab": {
          "base_uri": "https://localhost:8080/",
          "height": 277
        }
      },
      "outputs": [
        {
          "output_type": "display_data",
          "data": {
            "text/plain": [
              "array([['NEAR BAY'],\n",
              "       ['NEAR BAY'],\n",
              "       ['NEAR BAY'],\n",
              "       ...,\n",
              "       ['INLAND'],\n",
              "       ['INLAND'],\n",
              "       ['INLAND']], dtype=object)"
            ]
          },
          "metadata": {}
        },
        {
          "output_type": "stream",
          "name": "stdout",
          "text": [
            "housing_cat_encoded\n"
          ]
        },
        {
          "output_type": "display_data",
          "data": {
            "text/plain": [
              "array([[3.],\n",
              "       [3.],\n",
              "       [3.],\n",
              "       ...,\n",
              "       [1.],\n",
              "       [1.],\n",
              "       [1.]])"
            ]
          },
          "metadata": {}
        }
      ],
      "source": [
        "from sklearn.preprocessing import OrdinalEncoder # just to raise an ImportError if Scikit-Learn < 0.20\n",
        "from sklearn.preprocessing import OneHotEncoder\n",
        "\n",
        "#housing_cat is the dataframe\n",
        "housing_cat = housing['ocean_proximity'].values.reshape(-1,1)\n",
        "\n",
        "\n",
        "display(housing_cat)\n",
        "\n",
        "#Had to add this from the class 3 code book\n",
        "ohe = OneHotEncoder(sparse=False)\n",
        "\n",
        "\n",
        "ordinal_encoder = OrdinalEncoder()\n",
        "housing_cat_encoded = ordinal_encoder.fit_transform(housing_cat)\n",
        "print('housing_cat_encoded')\n",
        "display(housing_cat_encoded)\n"
      ]
    },
    {
      "cell_type": "code",
      "execution_count": null,
      "id": "0fd2d1a0",
      "metadata": {
        "id": "0fd2d1a0"
      },
      "outputs": [],
      "source": []
    },
    {
      "cell_type": "markdown",
      "id": "03e57732",
      "metadata": {
        "id": "03e57732"
      },
      "source": [
        "# In-Class Activity 2"
      ]
    },
    {
      "cell_type": "code",
      "execution_count": 19,
      "id": "789d6a39",
      "metadata": {
        "id": "789d6a39"
      },
      "outputs": [],
      "source": [
        "# Apply binning to the housing_median_age value in the California Housing dataset that we looked at last class\n",
        "# Plot both the original data and the binned data using matplotlib\n",
        "\n",
        "from sklearn.preprocessing import KBinsDiscretizer\n",
        "kb = KBinsDiscretizer(n_bins=10, strategy='uniform')\n"
      ]
    },
    {
      "cell_type": "code",
      "source": [
        "housing_pd = housing.transpose()\n",
        "housing_pd.head()"
      ],
      "metadata": {
        "colab": {
          "base_uri": "https://localhost:8080/",
          "height": 255
        },
        "id": "b7FeYr8AoRC6",
        "outputId": "65859706-10b4-4dac-ec59-22a6cc344794"
      },
      "id": "b7FeYr8AoRC6",
      "execution_count": 20,
      "outputs": [
        {
          "output_type": "execute_result",
          "data": {
            "text/plain": [
              "                     0       1       2       3       4       5       6      \\\n",
              "longitude          -122.23 -122.22 -122.24 -122.25 -122.25 -122.25 -122.25   \n",
              "latitude             37.88   37.86   37.85   37.85   37.85   37.85   37.84   \n",
              "housing_median_age    41.0    21.0    52.0    52.0    52.0    52.0    52.0   \n",
              "total_rooms          880.0  7099.0  1467.0  1274.0  1627.0   919.0  2535.0   \n",
              "total_bedrooms       129.0  1106.0   190.0   235.0   280.0   213.0   489.0   \n",
              "\n",
              "                     7       8       9      ...   20630   20631   20632  \\\n",
              "longitude          -122.25 -122.26 -122.25  ... -121.32  -121.4 -121.45   \n",
              "latitude             37.84   37.84   37.84  ...   39.29   39.33   39.26   \n",
              "housing_median_age    52.0    42.0    52.0  ...    11.0    15.0    15.0   \n",
              "total_rooms         3104.0  2555.0  3549.0  ...  2640.0  2655.0  2319.0   \n",
              "total_bedrooms       687.0   665.0   707.0  ...   505.0   493.0   416.0   \n",
              "\n",
              "                     20633   20634   20635   20636   20637   20638   20639  \n",
              "longitude          -121.53 -121.56 -121.09 -121.21 -121.22 -121.32 -121.24  \n",
              "latitude             39.19   39.27   39.48   39.49   39.43   39.43   39.37  \n",
              "housing_median_age    27.0    28.0    25.0    18.0    17.0    18.0    16.0  \n",
              "total_rooms         2080.0  2332.0  1665.0   697.0  2254.0  1860.0  2785.0  \n",
              "total_bedrooms       412.0   395.0   374.0   150.0   485.0   409.0   616.0  \n",
              "\n",
              "[5 rows x 20640 columns]"
            ],
            "text/html": [
              "\n",
              "  <div id=\"df-44e6318a-f25c-4025-86db-ab645ebe8bfe\" class=\"colab-df-container\">\n",
              "    <div>\n",
              "<style scoped>\n",
              "    .dataframe tbody tr th:only-of-type {\n",
              "        vertical-align: middle;\n",
              "    }\n",
              "\n",
              "    .dataframe tbody tr th {\n",
              "        vertical-align: top;\n",
              "    }\n",
              "\n",
              "    .dataframe thead th {\n",
              "        text-align: right;\n",
              "    }\n",
              "</style>\n",
              "<table border=\"1\" class=\"dataframe\">\n",
              "  <thead>\n",
              "    <tr style=\"text-align: right;\">\n",
              "      <th></th>\n",
              "      <th>0</th>\n",
              "      <th>1</th>\n",
              "      <th>2</th>\n",
              "      <th>3</th>\n",
              "      <th>4</th>\n",
              "      <th>5</th>\n",
              "      <th>6</th>\n",
              "      <th>7</th>\n",
              "      <th>8</th>\n",
              "      <th>9</th>\n",
              "      <th>...</th>\n",
              "      <th>20630</th>\n",
              "      <th>20631</th>\n",
              "      <th>20632</th>\n",
              "      <th>20633</th>\n",
              "      <th>20634</th>\n",
              "      <th>20635</th>\n",
              "      <th>20636</th>\n",
              "      <th>20637</th>\n",
              "      <th>20638</th>\n",
              "      <th>20639</th>\n",
              "    </tr>\n",
              "  </thead>\n",
              "  <tbody>\n",
              "    <tr>\n",
              "      <th>longitude</th>\n",
              "      <td>-122.23</td>\n",
              "      <td>-122.22</td>\n",
              "      <td>-122.24</td>\n",
              "      <td>-122.25</td>\n",
              "      <td>-122.25</td>\n",
              "      <td>-122.25</td>\n",
              "      <td>-122.25</td>\n",
              "      <td>-122.25</td>\n",
              "      <td>-122.26</td>\n",
              "      <td>-122.25</td>\n",
              "      <td>...</td>\n",
              "      <td>-121.32</td>\n",
              "      <td>-121.4</td>\n",
              "      <td>-121.45</td>\n",
              "      <td>-121.53</td>\n",
              "      <td>-121.56</td>\n",
              "      <td>-121.09</td>\n",
              "      <td>-121.21</td>\n",
              "      <td>-121.22</td>\n",
              "      <td>-121.32</td>\n",
              "      <td>-121.24</td>\n",
              "    </tr>\n",
              "    <tr>\n",
              "      <th>latitude</th>\n",
              "      <td>37.88</td>\n",
              "      <td>37.86</td>\n",
              "      <td>37.85</td>\n",
              "      <td>37.85</td>\n",
              "      <td>37.85</td>\n",
              "      <td>37.85</td>\n",
              "      <td>37.84</td>\n",
              "      <td>37.84</td>\n",
              "      <td>37.84</td>\n",
              "      <td>37.84</td>\n",
              "      <td>...</td>\n",
              "      <td>39.29</td>\n",
              "      <td>39.33</td>\n",
              "      <td>39.26</td>\n",
              "      <td>39.19</td>\n",
              "      <td>39.27</td>\n",
              "      <td>39.48</td>\n",
              "      <td>39.49</td>\n",
              "      <td>39.43</td>\n",
              "      <td>39.43</td>\n",
              "      <td>39.37</td>\n",
              "    </tr>\n",
              "    <tr>\n",
              "      <th>housing_median_age</th>\n",
              "      <td>41.0</td>\n",
              "      <td>21.0</td>\n",
              "      <td>52.0</td>\n",
              "      <td>52.0</td>\n",
              "      <td>52.0</td>\n",
              "      <td>52.0</td>\n",
              "      <td>52.0</td>\n",
              "      <td>52.0</td>\n",
              "      <td>42.0</td>\n",
              "      <td>52.0</td>\n",
              "      <td>...</td>\n",
              "      <td>11.0</td>\n",
              "      <td>15.0</td>\n",
              "      <td>15.0</td>\n",
              "      <td>27.0</td>\n",
              "      <td>28.0</td>\n",
              "      <td>25.0</td>\n",
              "      <td>18.0</td>\n",
              "      <td>17.0</td>\n",
              "      <td>18.0</td>\n",
              "      <td>16.0</td>\n",
              "    </tr>\n",
              "    <tr>\n",
              "      <th>total_rooms</th>\n",
              "      <td>880.0</td>\n",
              "      <td>7099.0</td>\n",
              "      <td>1467.0</td>\n",
              "      <td>1274.0</td>\n",
              "      <td>1627.0</td>\n",
              "      <td>919.0</td>\n",
              "      <td>2535.0</td>\n",
              "      <td>3104.0</td>\n",
              "      <td>2555.0</td>\n",
              "      <td>3549.0</td>\n",
              "      <td>...</td>\n",
              "      <td>2640.0</td>\n",
              "      <td>2655.0</td>\n",
              "      <td>2319.0</td>\n",
              "      <td>2080.0</td>\n",
              "      <td>2332.0</td>\n",
              "      <td>1665.0</td>\n",
              "      <td>697.0</td>\n",
              "      <td>2254.0</td>\n",
              "      <td>1860.0</td>\n",
              "      <td>2785.0</td>\n",
              "    </tr>\n",
              "    <tr>\n",
              "      <th>total_bedrooms</th>\n",
              "      <td>129.0</td>\n",
              "      <td>1106.0</td>\n",
              "      <td>190.0</td>\n",
              "      <td>235.0</td>\n",
              "      <td>280.0</td>\n",
              "      <td>213.0</td>\n",
              "      <td>489.0</td>\n",
              "      <td>687.0</td>\n",
              "      <td>665.0</td>\n",
              "      <td>707.0</td>\n",
              "      <td>...</td>\n",
              "      <td>505.0</td>\n",
              "      <td>493.0</td>\n",
              "      <td>416.0</td>\n",
              "      <td>412.0</td>\n",
              "      <td>395.0</td>\n",
              "      <td>374.0</td>\n",
              "      <td>150.0</td>\n",
              "      <td>485.0</td>\n",
              "      <td>409.0</td>\n",
              "      <td>616.0</td>\n",
              "    </tr>\n",
              "  </tbody>\n",
              "</table>\n",
              "<p>5 rows × 20640 columns</p>\n",
              "</div>\n",
              "    <div class=\"colab-df-buttons\">\n",
              "\n",
              "  <div class=\"colab-df-container\">\n",
              "    <button class=\"colab-df-convert\" onclick=\"convertToInteractive('df-44e6318a-f25c-4025-86db-ab645ebe8bfe')\"\n",
              "            title=\"Convert this dataframe to an interactive table.\"\n",
              "            style=\"display:none;\">\n",
              "\n",
              "  <svg xmlns=\"http://www.w3.org/2000/svg\" height=\"24px\" viewBox=\"0 -960 960 960\">\n",
              "    <path d=\"M120-120v-720h720v720H120Zm60-500h600v-160H180v160Zm220 220h160v-160H400v160Zm0 220h160v-160H400v160ZM180-400h160v-160H180v160Zm440 0h160v-160H620v160ZM180-180h160v-160H180v160Zm440 0h160v-160H620v160Z\"/>\n",
              "  </svg>\n",
              "    </button>\n",
              "\n",
              "  <style>\n",
              "    .colab-df-container {\n",
              "      display:flex;\n",
              "      gap: 12px;\n",
              "    }\n",
              "\n",
              "    .colab-df-convert {\n",
              "      background-color: #E8F0FE;\n",
              "      border: none;\n",
              "      border-radius: 50%;\n",
              "      cursor: pointer;\n",
              "      display: none;\n",
              "      fill: #1967D2;\n",
              "      height: 32px;\n",
              "      padding: 0 0 0 0;\n",
              "      width: 32px;\n",
              "    }\n",
              "\n",
              "    .colab-df-convert:hover {\n",
              "      background-color: #E2EBFA;\n",
              "      box-shadow: 0px 1px 2px rgba(60, 64, 67, 0.3), 0px 1px 3px 1px rgba(60, 64, 67, 0.15);\n",
              "      fill: #174EA6;\n",
              "    }\n",
              "\n",
              "    .colab-df-buttons div {\n",
              "      margin-bottom: 4px;\n",
              "    }\n",
              "\n",
              "    [theme=dark] .colab-df-convert {\n",
              "      background-color: #3B4455;\n",
              "      fill: #D2E3FC;\n",
              "    }\n",
              "\n",
              "    [theme=dark] .colab-df-convert:hover {\n",
              "      background-color: #434B5C;\n",
              "      box-shadow: 0px 1px 3px 1px rgba(0, 0, 0, 0.15);\n",
              "      filter: drop-shadow(0px 1px 2px rgba(0, 0, 0, 0.3));\n",
              "      fill: #FFFFFF;\n",
              "    }\n",
              "  </style>\n",
              "\n",
              "    <script>\n",
              "      const buttonEl =\n",
              "        document.querySelector('#df-44e6318a-f25c-4025-86db-ab645ebe8bfe button.colab-df-convert');\n",
              "      buttonEl.style.display =\n",
              "        google.colab.kernel.accessAllowed ? 'block' : 'none';\n",
              "\n",
              "      async function convertToInteractive(key) {\n",
              "        const element = document.querySelector('#df-44e6318a-f25c-4025-86db-ab645ebe8bfe');\n",
              "        const dataTable =\n",
              "          await google.colab.kernel.invokeFunction('convertToInteractive',\n",
              "                                                    [key], {});\n",
              "        if (!dataTable) return;\n",
              "\n",
              "        const docLinkHtml = 'Like what you see? Visit the ' +\n",
              "          '<a target=\"_blank\" href=https://colab.research.google.com/notebooks/data_table.ipynb>data table notebook</a>'\n",
              "          + ' to learn more about interactive tables.';\n",
              "        element.innerHTML = '';\n",
              "        dataTable['output_type'] = 'display_data';\n",
              "        await google.colab.output.renderOutput(dataTable, element);\n",
              "        const docLink = document.createElement('div');\n",
              "        docLink.innerHTML = docLinkHtml;\n",
              "        element.appendChild(docLink);\n",
              "      }\n",
              "    </script>\n",
              "  </div>\n",
              "\n",
              "\n",
              "<div id=\"df-da696777-bb37-466b-b720-ba6cd5cabcd1\">\n",
              "  <button class=\"colab-df-quickchart\" onclick=\"quickchart('df-da696777-bb37-466b-b720-ba6cd5cabcd1')\"\n",
              "            title=\"Suggest charts\"\n",
              "            style=\"display:none;\">\n",
              "\n",
              "<svg xmlns=\"http://www.w3.org/2000/svg\" height=\"24px\"viewBox=\"0 0 24 24\"\n",
              "     width=\"24px\">\n",
              "    <g>\n",
              "        <path d=\"M19 3H5c-1.1 0-2 .9-2 2v14c0 1.1.9 2 2 2h14c1.1 0 2-.9 2-2V5c0-1.1-.9-2-2-2zM9 17H7v-7h2v7zm4 0h-2V7h2v10zm4 0h-2v-4h2v4z\"/>\n",
              "    </g>\n",
              "</svg>\n",
              "  </button>\n",
              "\n",
              "<style>\n",
              "  .colab-df-quickchart {\n",
              "      --bg-color: #E8F0FE;\n",
              "      --fill-color: #1967D2;\n",
              "      --hover-bg-color: #E2EBFA;\n",
              "      --hover-fill-color: #174EA6;\n",
              "      --disabled-fill-color: #AAA;\n",
              "      --disabled-bg-color: #DDD;\n",
              "  }\n",
              "\n",
              "  [theme=dark] .colab-df-quickchart {\n",
              "      --bg-color: #3B4455;\n",
              "      --fill-color: #D2E3FC;\n",
              "      --hover-bg-color: #434B5C;\n",
              "      --hover-fill-color: #FFFFFF;\n",
              "      --disabled-bg-color: #3B4455;\n",
              "      --disabled-fill-color: #666;\n",
              "  }\n",
              "\n",
              "  .colab-df-quickchart {\n",
              "    background-color: var(--bg-color);\n",
              "    border: none;\n",
              "    border-radius: 50%;\n",
              "    cursor: pointer;\n",
              "    display: none;\n",
              "    fill: var(--fill-color);\n",
              "    height: 32px;\n",
              "    padding: 0;\n",
              "    width: 32px;\n",
              "  }\n",
              "\n",
              "  .colab-df-quickchart:hover {\n",
              "    background-color: var(--hover-bg-color);\n",
              "    box-shadow: 0 1px 2px rgba(60, 64, 67, 0.3), 0 1px 3px 1px rgba(60, 64, 67, 0.15);\n",
              "    fill: var(--button-hover-fill-color);\n",
              "  }\n",
              "\n",
              "  .colab-df-quickchart-complete:disabled,\n",
              "  .colab-df-quickchart-complete:disabled:hover {\n",
              "    background-color: var(--disabled-bg-color);\n",
              "    fill: var(--disabled-fill-color);\n",
              "    box-shadow: none;\n",
              "  }\n",
              "\n",
              "  .colab-df-spinner {\n",
              "    border: 2px solid var(--fill-color);\n",
              "    border-color: transparent;\n",
              "    border-bottom-color: var(--fill-color);\n",
              "    animation:\n",
              "      spin 1s steps(1) infinite;\n",
              "  }\n",
              "\n",
              "  @keyframes spin {\n",
              "    0% {\n",
              "      border-color: transparent;\n",
              "      border-bottom-color: var(--fill-color);\n",
              "      border-left-color: var(--fill-color);\n",
              "    }\n",
              "    20% {\n",
              "      border-color: transparent;\n",
              "      border-left-color: var(--fill-color);\n",
              "      border-top-color: var(--fill-color);\n",
              "    }\n",
              "    30% {\n",
              "      border-color: transparent;\n",
              "      border-left-color: var(--fill-color);\n",
              "      border-top-color: var(--fill-color);\n",
              "      border-right-color: var(--fill-color);\n",
              "    }\n",
              "    40% {\n",
              "      border-color: transparent;\n",
              "      border-right-color: var(--fill-color);\n",
              "      border-top-color: var(--fill-color);\n",
              "    }\n",
              "    60% {\n",
              "      border-color: transparent;\n",
              "      border-right-color: var(--fill-color);\n",
              "    }\n",
              "    80% {\n",
              "      border-color: transparent;\n",
              "      border-right-color: var(--fill-color);\n",
              "      border-bottom-color: var(--fill-color);\n",
              "    }\n",
              "    90% {\n",
              "      border-color: transparent;\n",
              "      border-bottom-color: var(--fill-color);\n",
              "    }\n",
              "  }\n",
              "</style>\n",
              "\n",
              "  <script>\n",
              "    async function quickchart(key) {\n",
              "      const quickchartButtonEl =\n",
              "        document.querySelector('#' + key + ' button');\n",
              "      quickchartButtonEl.disabled = true;  // To prevent multiple clicks.\n",
              "      quickchartButtonEl.classList.add('colab-df-spinner');\n",
              "      try {\n",
              "        const charts = await google.colab.kernel.invokeFunction(\n",
              "            'suggestCharts', [key], {});\n",
              "      } catch (error) {\n",
              "        console.error('Error during call to suggestCharts:', error);\n",
              "      }\n",
              "      quickchartButtonEl.classList.remove('colab-df-spinner');\n",
              "      quickchartButtonEl.classList.add('colab-df-quickchart-complete');\n",
              "    }\n",
              "    (() => {\n",
              "      let quickchartButtonEl =\n",
              "        document.querySelector('#df-da696777-bb37-466b-b720-ba6cd5cabcd1 button');\n",
              "      quickchartButtonEl.style.display =\n",
              "        google.colab.kernel.accessAllowed ? 'block' : 'none';\n",
              "    })();\n",
              "  </script>\n",
              "</div>\n",
              "\n",
              "    </div>\n",
              "  </div>\n"
            ],
            "application/vnd.google.colaboratory.intrinsic+json": {
              "type": "dataframe",
              "variable_name": "housing_pd"
            }
          },
          "metadata": {},
          "execution_count": 20
        }
      ]
    },
    {
      "cell_type": "code",
      "execution_count": 22,
      "id": "8b658584",
      "metadata": {
        "id": "8b658584",
        "colab": {
          "base_uri": "https://localhost:8080/",
          "height": 74
        },
        "outputId": "83d47c8d-6a82-42c8-e58f-4276c96d3099"
      },
      "outputs": [
        {
          "output_type": "execute_result",
          "data": {
            "text/plain": [
              "KBinsDiscretizer(n_bins=10, strategy='uniform')"
            ],
            "text/html": [
              "<style>#sk-container-id-2 {color: black;background-color: white;}#sk-container-id-2 pre{padding: 0;}#sk-container-id-2 div.sk-toggleable {background-color: white;}#sk-container-id-2 label.sk-toggleable__label {cursor: pointer;display: block;width: 100%;margin-bottom: 0;padding: 0.3em;box-sizing: border-box;text-align: center;}#sk-container-id-2 label.sk-toggleable__label-arrow:before {content: \"▸\";float: left;margin-right: 0.25em;color: #696969;}#sk-container-id-2 label.sk-toggleable__label-arrow:hover:before {color: black;}#sk-container-id-2 div.sk-estimator:hover label.sk-toggleable__label-arrow:before {color: black;}#sk-container-id-2 div.sk-toggleable__content {max-height: 0;max-width: 0;overflow: hidden;text-align: left;background-color: #f0f8ff;}#sk-container-id-2 div.sk-toggleable__content pre {margin: 0.2em;color: black;border-radius: 0.25em;background-color: #f0f8ff;}#sk-container-id-2 input.sk-toggleable__control:checked~div.sk-toggleable__content {max-height: 200px;max-width: 100%;overflow: auto;}#sk-container-id-2 input.sk-toggleable__control:checked~label.sk-toggleable__label-arrow:before {content: \"▾\";}#sk-container-id-2 div.sk-estimator input.sk-toggleable__control:checked~label.sk-toggleable__label {background-color: #d4ebff;}#sk-container-id-2 div.sk-label input.sk-toggleable__control:checked~label.sk-toggleable__label {background-color: #d4ebff;}#sk-container-id-2 input.sk-hidden--visually {border: 0;clip: rect(1px 1px 1px 1px);clip: rect(1px, 1px, 1px, 1px);height: 1px;margin: -1px;overflow: hidden;padding: 0;position: absolute;width: 1px;}#sk-container-id-2 div.sk-estimator {font-family: monospace;background-color: #f0f8ff;border: 1px dotted black;border-radius: 0.25em;box-sizing: border-box;margin-bottom: 0.5em;}#sk-container-id-2 div.sk-estimator:hover {background-color: #d4ebff;}#sk-container-id-2 div.sk-parallel-item::after {content: \"\";width: 100%;border-bottom: 1px solid gray;flex-grow: 1;}#sk-container-id-2 div.sk-label:hover label.sk-toggleable__label {background-color: #d4ebff;}#sk-container-id-2 div.sk-serial::before {content: \"\";position: absolute;border-left: 1px solid gray;box-sizing: border-box;top: 0;bottom: 0;left: 50%;z-index: 0;}#sk-container-id-2 div.sk-serial {display: flex;flex-direction: column;align-items: center;background-color: white;padding-right: 0.2em;padding-left: 0.2em;position: relative;}#sk-container-id-2 div.sk-item {position: relative;z-index: 1;}#sk-container-id-2 div.sk-parallel {display: flex;align-items: stretch;justify-content: center;background-color: white;position: relative;}#sk-container-id-2 div.sk-item::before, #sk-container-id-2 div.sk-parallel-item::before {content: \"\";position: absolute;border-left: 1px solid gray;box-sizing: border-box;top: 0;bottom: 0;left: 50%;z-index: -1;}#sk-container-id-2 div.sk-parallel-item {display: flex;flex-direction: column;z-index: 1;position: relative;background-color: white;}#sk-container-id-2 div.sk-parallel-item:first-child::after {align-self: flex-end;width: 50%;}#sk-container-id-2 div.sk-parallel-item:last-child::after {align-self: flex-start;width: 50%;}#sk-container-id-2 div.sk-parallel-item:only-child::after {width: 0;}#sk-container-id-2 div.sk-dashed-wrapped {border: 1px dashed gray;margin: 0 0.4em 0.5em 0.4em;box-sizing: border-box;padding-bottom: 0.4em;background-color: white;}#sk-container-id-2 div.sk-label label {font-family: monospace;font-weight: bold;display: inline-block;line-height: 1.2em;}#sk-container-id-2 div.sk-label-container {text-align: center;}#sk-container-id-2 div.sk-container {/* jupyter's `normalize.less` sets `[hidden] { display: none; }` but bootstrap.min.css set `[hidden] { display: none !important; }` so we also need the `!important` here to be able to override the default hidden behavior on the sphinx rendered scikit-learn.org. See: https://github.com/scikit-learn/scikit-learn/issues/21755 */display: inline-block !important;position: relative;}#sk-container-id-2 div.sk-text-repr-fallback {display: none;}</style><div id=\"sk-container-id-2\" class=\"sk-top-container\"><div class=\"sk-text-repr-fallback\"><pre>KBinsDiscretizer(n_bins=10, strategy=&#x27;uniform&#x27;)</pre><b>In a Jupyter environment, please rerun this cell to show the HTML representation or trust the notebook. <br />On GitHub, the HTML representation is unable to render, please try loading this page with nbviewer.org.</b></div><div class=\"sk-container\" hidden><div class=\"sk-item\"><div class=\"sk-estimator sk-toggleable\"><input class=\"sk-toggleable__control sk-hidden--visually\" id=\"sk-estimator-id-2\" type=\"checkbox\" checked><label for=\"sk-estimator-id-2\" class=\"sk-toggleable__label sk-toggleable__label-arrow\">KBinsDiscretizer</label><div class=\"sk-toggleable__content\"><pre>KBinsDiscretizer(n_bins=10, strategy=&#x27;uniform&#x27;)</pre></div></div></div></div></div>"
            ]
          },
          "metadata": {},
          "execution_count": 22
        }
      ],
      "source": [
        "kb.fit(housing['housing_median_age'].values.reshape(-1, 1))"
      ]
    },
    {
      "cell_type": "code",
      "execution_count": 23,
      "id": "7a74b2a2",
      "metadata": {
        "id": "7a74b2a2",
        "colab": {
          "base_uri": "https://localhost:8080/"
        },
        "outputId": "9c9ef75c-1025-43a9-8f2c-76dc1faa471d"
      },
      "outputs": [
        {
          "output_type": "stream",
          "name": "stdout",
          "text": [
            "bin edges: \n",
            " [array([ 1. ,  6.1, 11.2, 16.3, 21.4, 26.5, 31.6, 36.7, 41.8, 46.9, 52. ])]\n"
          ]
        }
      ],
      "source": [
        "print(\"bin edges: \\n\", kb.bin_edges_)"
      ]
    },
    {
      "cell_type": "code",
      "execution_count": 24,
      "id": "a1b04681",
      "metadata": {
        "id": "a1b04681"
      },
      "outputs": [],
      "source": [
        "import matplotlib.pyplot as plt"
      ]
    },
    {
      "cell_type": "code",
      "execution_count": 25,
      "id": "418b988c",
      "metadata": {
        "id": "418b988c",
        "colab": {
          "base_uri": "https://localhost:8080/",
          "height": 447
        },
        "outputId": "bf751f9c-a43a-48ab-9f28-bef5f00d5631"
      },
      "outputs": [
        {
          "output_type": "execute_result",
          "data": {
            "text/plain": [
              "[<matplotlib.lines.Line2D at 0x7f6dc7c7aa10>]"
            ]
          },
          "metadata": {},
          "execution_count": 25
        },
        {
          "output_type": "display_data",
          "data": {
            "text/plain": [
              "<Figure size 640x480 with 1 Axes>"
            ],
            "image/png": "[encoded data removed]"
          },
          "metadata": {}
        }
      ],
      "source": [
        "plt.plot(housing['housing_median_age'].values.reshape(-1, 1))"
      ]
    },
    {
      "cell_type": "code",
      "execution_count": 26,
      "id": "458eff69",
      "metadata": {
        "id": "458eff69",
        "colab": {
          "base_uri": "https://localhost:8080/",
          "height": 447
        },
        "outputId": "4ed10780-fffe-4e23-e0dc-3d96a5cd6a2e"
      },
      "outputs": [
        {
          "output_type": "execute_result",
          "data": {
            "text/plain": [
              "[<matplotlib.lines.Line2D at 0x7f6dc77889d0>]"
            ]
          },
          "metadata": {},
          "execution_count": 26
        },
        {
          "output_type": "display_data",
          "data": {
            "text/plain": [
              "<Figure size 640x480 with 1 Axes>"
            ],
            "image/png": "[encoded data removed]"
          },
          "metadata": {}
        }
      ],
      "source": [
        "binned = kb.transform(housing['housing_median_age'].values.reshape(-1, 1))\n",
        "plt.plot(binned.argmax(1))"
      ]
    },
    {
      "cell_type": "markdown",
      "id": "9c1e2d22",
      "metadata": {
        "id": "9c1e2d22"
      },
      "source": [
        "# In-Class Activity 3"
      ]
    },
    {
      "cell_type": "code",
      "execution_count": null,
      "id": "974c03c3",
      "metadata": {
        "id": "974c03c3"
      },
      "outputs": [],
      "source": [
        "#Apply the following transformations to housing_median_age and median_income in the California Housing dataset\n",
        "# Squaring (**2)\n",
        "# Cubing (**3)\n",
        "# np.log\n",
        "# np.exp\n",
        "# Plot histograms and scatter matrices to explore the resultant data\n",
        "\n",
        "# housing_median_age\n"
      ]
    },
    {
      "cell_type": "code",
      "execution_count": null,
      "id": "2ddc83f3",
      "metadata": {
        "id": "2ddc83f3"
      },
      "outputs": [],
      "source": []
    },
    {
      "cell_type": "code",
      "execution_count": null,
      "id": "a2992c78",
      "metadata": {
        "id": "a2992c78"
      },
      "outputs": [],
      "source": []
    },
    {
      "cell_type": "code",
      "execution_count": null,
      "id": "1c2c3efb",
      "metadata": {
        "id": "1c2c3efb"
      },
      "outputs": [],
      "source": []
    },
    {
      "cell_type": "code",
      "execution_count": null,
      "id": "d7f03d03",
      "metadata": {
        "id": "d7f03d03"
      },
      "outputs": [],
      "source": []
    },
    {
      "cell_type": "code",
      "execution_count": null,
      "id": "e63a4c5a",
      "metadata": {
        "id": "e63a4c5a"
      },
      "outputs": [],
      "source": [
        "# median_income\n"
      ]
    },
    {
      "cell_type": "code",
      "execution_count": null,
      "id": "792b69e7",
      "metadata": {
        "id": "792b69e7"
      },
      "outputs": [],
      "source": []
    },
    {
      "cell_type": "code",
      "execution_count": null,
      "id": "96ea45c1",
      "metadata": {
        "id": "96ea45c1"
      },
      "outputs": [],
      "source": []
    },
    {
      "cell_type": "code",
      "execution_count": null,
      "id": "ac913435",
      "metadata": {
        "id": "ac913435"
      },
      "outputs": [],
      "source": []
    },
    {
      "cell_type": "code",
      "execution_count": null,
      "id": "dde885a0",
      "metadata": {
        "id": "dde885a0"
      },
      "outputs": [],
      "source": []
    },
    {
      "cell_type": "code",
      "execution_count": null,
      "id": "c28c71f2",
      "metadata": {
        "id": "c28c71f2"
      },
      "outputs": [],
      "source": [
        "#scatter matrix for the original data for house_median_age and median_income\n",
        "\n"
      ]
    },
    {
      "cell_type": "code",
      "execution_count": null,
      "id": "8e061944",
      "metadata": {
        "id": "8e061944"
      },
      "outputs": [],
      "source": [
        "#scatter matrix for the squared data for house_median_age and median_income\n"
      ]
    },
    {
      "cell_type": "code",
      "execution_count": null,
      "id": "dc18a8f1",
      "metadata": {
        "id": "dc18a8f1"
      },
      "outputs": [],
      "source": [
        "#scatter matrix for the cubed data for house_median_age and median_income\n"
      ]
    }
  ],
  "metadata": {
    "kernelspec": {
      "display_name": "Python 3",
      "language": "python",
      "name": "python3"
    },
    "language_info": {
      "codemirror_mode": {
        "name": "ipython",
        "version": 3
      },
      "file_extension": ".py",
      "mimetype": "text/x-python",
      "name": "python",
      "nbconvert_exporter": "python",
      "pygments_lexer": "ipython3",
      "version": "3.6.13"
    },
    "colab": {
      "provenance": [],
      "include_colab_link": true
    }
  },
  "nbformat": 4,
  "nbformat_minor": 5
}