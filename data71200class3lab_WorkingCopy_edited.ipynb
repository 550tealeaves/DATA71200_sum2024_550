{
  "cells": [
    {
      "cell_type": "markdown",
      "metadata": {
        "id": "view-in-github",
        "colab_type": "text"
      },
      "source": [
        "<a href=\"https://colab.research.google.com/github/550tealeaves/Data71200_sum2024/blob/main/data71200class3lab_WorkingCopy_edited.ipynb\" target=\"_parent\"><img src=\"https://colab.research.google.com/assets/colab-badge.svg\" alt=\"Open In Colab\"/></a>"
      ]
    },
    {
      "cell_type": "code",
      "execution_count": null,
      "id": "f0464131",
      "metadata": {
        "id": "f0464131"
      },
      "outputs": [],
      "source": [
        "import os\n",
        "import numpy as np\n",
        "import pandas as pd\n",
        "from pandas.plotting import scatter_matrix"
      ]
    },
    {
      "cell_type": "markdown",
      "id": "6a0df9f7",
      "metadata": {
        "id": "6a0df9f7"
      },
      "source": [
        "# In-Class Activity 1"
      ]
    },
    {
      "cell_type": "code",
      "execution_count": null,
      "id": "b6a5716a",
      "metadata": {
        "id": "b6a5716a"
      },
      "outputs": [],
      "source": [
        "# Import the California Housing Data from used in the HOML book, Chapter 2\n",
        "# Apply one-hot encoding to the ocean_proximity value\n",
        "\n",
        "import os\n",
        "import tarfile\n",
        "from six.moves import urllib\n",
        "\n",
        "DOWNLOAD_ROOT = \"https://raw.githubusercontent.com/ageron/handson-ml/master/\"\n",
        "HOUSING_PATH = os.path.join(\"datasets\", \"housing\")\n",
        "HOUSING_URL = DOWNLOAD_ROOT + \"datasets/housing/housing.tgz\"\n",
        "\n",
        "def fetch_housing_data(housing_url=HOUSING_URL, housing_path=HOUSING_PATH):\n",
        "    os.makedirs(housing_path, exist_ok=True)\n",
        "    tgz_path = os.path.join(housing_path, \"housing.tgz\")\n",
        "    urllib.request.urlretrieve(housing_url, tgz_path)\n",
        "    housing_tgz = tarfile.open(tgz_path)\n",
        "    housing_tgz.extractall(path=housing_path)\n",
        "    housing_tgz.close()"
      ]
    },
    {
      "cell_type": "code",
      "execution_count": null,
      "id": "89d5af6f",
      "metadata": {
        "id": "89d5af6f"
      },
      "outputs": [],
      "source": [
        "fetch_housing_data()\n",
        "\n",
        "def load_housing_data(housing_path=HOUSING_PATH):\n",
        "    csv_path = os.path.join(housing_path, \"housing.csv\")\n",
        "    return pd.read_csv(csv_path)"
      ]
    },
    {
      "cell_type": "code",
      "execution_count": null,
      "id": "64b2c72b",
      "metadata": {
        "id": "64b2c72b"
      },
      "outputs": [],
      "source": [
        "housing = load_housing_data()"
      ]
    },
    {
      "cell_type": "code",
      "source": [
        "#print the housing.head (data.head) so that you can see feature names\n",
        "print(housing.head())"
      ],
      "metadata": {
        "id": "4cXyiTWSeZ_q",
        "outputId": "9dd194c2-cf9c-4ae7-9c90-c2b09544e03d",
        "colab": {
          "base_uri": "https://localhost:8080/"
        }
      },
      "id": "4cXyiTWSeZ_q",
      "execution_count": null,
      "outputs": [
        {
          "output_type": "stream",
          "name": "stdout",
          "text": [
            "   longitude  latitude  housing_median_age  total_rooms  total_bedrooms  \\\n",
            "0    -122.23     37.88                41.0        880.0           129.0   \n",
            "1    -122.22     37.86                21.0       7099.0          1106.0   \n",
            "2    -122.24     37.85                52.0       1467.0           190.0   \n",
            "3    -122.25     37.85                52.0       1274.0           235.0   \n",
            "4    -122.25     37.85                52.0       1627.0           280.0   \n",
            "\n",
            "   population  households  median_income  median_house_value ocean_proximity  \n",
            "0       322.0       126.0         8.3252            452600.0        NEAR BAY  \n",
            "1      2401.0      1138.0         8.3014            358500.0        NEAR BAY  \n",
            "2       496.0       177.0         7.2574            352100.0        NEAR BAY  \n",
            "3       558.0       219.0         5.6431            341300.0        NEAR BAY  \n",
            "4       565.0       259.0         3.8462            342200.0        NEAR BAY  \n"
          ]
        }
      ]
    },
    {
      "cell_type": "code",
      "execution_count": null,
      "id": "277d5b32",
      "metadata": {
        "id": "277d5b32",
        "outputId": "0ed1c7e3-907e-4d86-b3cc-4938ff18cea4",
        "colab": {
          "base_uri": "https://localhost:8080/",
          "height": 277
        }
      },
      "outputs": [
        {
          "output_type": "display_data",
          "data": {
            "text/plain": [
              "array([['NEAR BAY'],\n",
              "       ['NEAR BAY'],\n",
              "       ['NEAR BAY'],\n",
              "       ...,\n",
              "       ['INLAND'],\n",
              "       ['INLAND'],\n",
              "       ['INLAND']], dtype=object)"
            ]
          },
          "metadata": {}
        },
        {
          "output_type": "stream",
          "name": "stdout",
          "text": [
            "housing_cat_encoded\n"
          ]
        },
        {
          "output_type": "display_data",
          "data": {
            "text/plain": [
              "array([[3.],\n",
              "       [3.],\n",
              "       [3.],\n",
              "       ...,\n",
              "       [1.],\n",
              "       [1.],\n",
              "       [1.]])"
            ]
          },
          "metadata": {}
        }
      ],
      "source": [
        "from sklearn.preprocessing import OrdinalEncoder # just to raise an ImportError if Scikit-Learn < 0.20\n",
        "from sklearn.preprocessing import OneHotEncoder\n",
        "\n",
        "#housing_cat is the dataframe\n",
        "housing_cat = housing['ocean_proximity'].values.reshape(-1,1)\n",
        "\n",
        "\n",
        "display(housing_cat)\n",
        "\n",
        "#Had to add this from the class 3 code book\n",
        "ohe = OneHotEncoder(sparse=False)\n",
        "\n",
        "\n",
        "ordinal_encoder = OrdinalEncoder()\n",
        "housing_cat_encoded = ordinal_encoder.fit_transform(housing_cat)\n",
        "print('housing_cat_encoded')\n",
        "display(housing_cat_encoded)\n"
      ]
    },
    {
      "cell_type": "code",
      "execution_count": null,
      "id": "0fd2d1a0",
      "metadata": {
        "id": "0fd2d1a0"
      },
      "outputs": [],
      "source": []
    },
    {
      "cell_type": "markdown",
      "id": "03e57732",
      "metadata": {
        "id": "03e57732"
      },
      "source": [
        "# In-Class Activity 2"
      ]
    },
    {
      "cell_type": "code",
      "execution_count": null,
      "id": "789d6a39",
      "metadata": {
        "id": "789d6a39"
      },
      "outputs": [],
      "source": [
        "# Apply binning to the housing_median_age value in the California Housing dataset that we looked at last class\n",
        "# Plot both the original data and the binned data using matplotlib\n",
        "\n",
        "from sklearn.preprocessing import KBinsDiscretizer\n"
      ]
    },
    {
      "cell_type": "code",
      "execution_count": null,
      "id": "8b658584",
      "metadata": {
        "id": "8b658584"
      },
      "outputs": [],
      "source": []
    },
    {
      "cell_type": "code",
      "execution_count": null,
      "id": "7a74b2a2",
      "metadata": {
        "id": "7a74b2a2"
      },
      "outputs": [],
      "source": []
    },
    {
      "cell_type": "code",
      "execution_count": null,
      "id": "a1b04681",
      "metadata": {
        "id": "a1b04681"
      },
      "outputs": [],
      "source": []
    },
    {
      "cell_type": "code",
      "execution_count": null,
      "id": "418b988c",
      "metadata": {
        "id": "418b988c"
      },
      "outputs": [],
      "source": []
    },
    {
      "cell_type": "code",
      "execution_count": null,
      "id": "458eff69",
      "metadata": {
        "id": "458eff69"
      },
      "outputs": [],
      "source": []
    },
    {
      "cell_type": "markdown",
      "id": "9c1e2d22",
      "metadata": {
        "id": "9c1e2d22"
      },
      "source": [
        "# In-Class Activity 3"
      ]
    },
    {
      "cell_type": "code",
      "execution_count": null,
      "id": "974c03c3",
      "metadata": {
        "id": "974c03c3"
      },
      "outputs": [],
      "source": [
        "#Apply the following transformations to housing_median_age and median_income in the California Housing dataset\n",
        "# Squaring (**2)\n",
        "# Cubing (**3)\n",
        "# np.log\n",
        "# np.exp\n",
        "# Plot histograms and scatter matrices to explore the resultant data\n",
        "\n",
        "# housing_median_age\n"
      ]
    },
    {
      "cell_type": "code",
      "execution_count": null,
      "id": "2ddc83f3",
      "metadata": {
        "id": "2ddc83f3"
      },
      "outputs": [],
      "source": []
    },
    {
      "cell_type": "code",
      "execution_count": null,
      "id": "a2992c78",
      "metadata": {
        "id": "a2992c78"
      },
      "outputs": [],
      "source": []
    },
    {
      "cell_type": "code",
      "execution_count": null,
      "id": "1c2c3efb",
      "metadata": {
        "id": "1c2c3efb"
      },
      "outputs": [],
      "source": []
    },
    {
      "cell_type": "code",
      "execution_count": null,
      "id": "d7f03d03",
      "metadata": {
        "id": "d7f03d03"
      },
      "outputs": [],
      "source": []
    },
    {
      "cell_type": "code",
      "execution_count": null,
      "id": "e63a4c5a",
      "metadata": {
        "id": "e63a4c5a"
      },
      "outputs": [],
      "source": [
        "# median_income\n"
      ]
    },
    {
      "cell_type": "code",
      "execution_count": null,
      "id": "792b69e7",
      "metadata": {
        "id": "792b69e7"
      },
      "outputs": [],
      "source": []
    },
    {
      "cell_type": "code",
      "execution_count": null,
      "id": "96ea45c1",
      "metadata": {
        "id": "96ea45c1"
      },
      "outputs": [],
      "source": []
    },
    {
      "cell_type": "code",
      "execution_count": null,
      "id": "ac913435",
      "metadata": {
        "id": "ac913435"
      },
      "outputs": [],
      "source": []
    },
    {
      "cell_type": "code",
      "execution_count": null,
      "id": "dde885a0",
      "metadata": {
        "id": "dde885a0"
      },
      "outputs": [],
      "source": []
    },
    {
      "cell_type": "code",
      "execution_count": null,
      "id": "c28c71f2",
      "metadata": {
        "id": "c28c71f2"
      },
      "outputs": [],
      "source": [
        "#scatter matrix for the original data for house_median_age and median_income\n",
        "\n"
      ]
    },
    {
      "cell_type": "code",
      "execution_count": null,
      "id": "8e061944",
      "metadata": {
        "id": "8e061944"
      },
      "outputs": [],
      "source": [
        "#scatter matrix for the squared data for house_median_age and median_income\n"
      ]
    },
    {
      "cell_type": "code",
      "execution_count": null,
      "id": "dc18a8f1",
      "metadata": {
        "id": "dc18a8f1"
      },
      "outputs": [],
      "source": [
        "#scatter matrix for the cubed data for house_median_age and median_income\n"
      ]
    }
  ],
  "metadata": {
    "kernelspec": {
      "display_name": "Python 3",
      "language": "python",
      "name": "python3"
    },
    "language_info": {
      "codemirror_mode": {
        "name": "ipython",
        "version": 3
      },
      "file_extension": ".py",
      "mimetype": "text/x-python",
      "name": "python",
      "nbconvert_exporter": "python",
      "pygments_lexer": "ipython3",
      "version": "3.6.13"
    },
    "colab": {
      "provenance": [],
      "include_colab_link": true
    }
  },
  "nbformat": 4,
  "nbformat_minor": 5
}