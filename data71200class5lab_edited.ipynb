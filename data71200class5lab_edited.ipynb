{
  "nbformat": 4,
  "nbformat_minor": 0,
  "metadata": {
    "colab": {
      "provenance": [],
      "include_colab_link": true
    },
    "kernelspec": {
      "name": "python3",
      "display_name": "Python 3"
    },
    "language_info": {
      "name": "python"
    }
  },
  "cells": [
    {
      "cell_type": "markdown",
      "metadata": {
        "id": "view-in-github",
        "colab_type": "text"
      },
      "source": [
        "<a href=\"https://colab.research.google.com/github/550tealeaves/DATA71200_sum2024_550/blob/main/data71200class5lab_edited.ipynb\" target=\"_parent\"><img src=\"https://colab.research.google.com/assets/colab-badge.svg\" alt=\"Open In Colab\"/></a>"
      ]
    },
    {
      "cell_type": "markdown",
      "source": [
        "# Import Libraries"
      ],
      "metadata": {
        "id": "m6BcKm2cz1O3"
      }
    },
    {
      "cell_type": "code",
      "execution_count": 1,
      "metadata": {
        "id": "S8CCh3Vj5BjW"
      },
      "outputs": [],
      "source": [
        "%matplotlib inline\n",
        "import matplotlib.pyplot as plt\n",
        "import numpy as np\n",
        "import pandas as pd"
      ]
    },
    {
      "cell_type": "markdown",
      "source": [
        "# Import Wine Dataset"
      ],
      "metadata": {
        "id": "sVikFUZZz6zM"
      }
    },
    {
      "cell_type": "code",
      "source": [
        "from sklearn.datasets import load_wine\n",
        "wine_dataset = load_wine()"
      ],
      "metadata": {
        "id": "c8RB_u8X5ERs"
      },
      "execution_count": 2,
      "outputs": []
    },
    {
      "cell_type": "markdown",
      "source": [
        "# Testing/Training Split"
      ],
      "metadata": {
        "id": "Lsa1vGsIz86h"
      }
    },
    {
      "cell_type": "code",
      "source": [
        "#stratify based on target and split it 80/20\n",
        "\n",
        "from sklearn.model_selection import train_test_split\n",
        "X_train, X_test, y_train, y_test = train_test_split(\n",
        "    wine_dataset.data, wine_dataset.target, stratify=wine_dataset.target, random_state=66,test_size=0.2)"
      ],
      "metadata": {
        "id": "I99bBrL-5HVs"
      },
      "execution_count": 3,
      "outputs": []
    },
    {
      "cell_type": "markdown",
      "source": [
        "# Import KNN Classifier\n",
        "Based on the knn score - doesn't look like k=4 is good at all\n"
      ],
      "metadata": {
        "id": "1BwMiPOo0AlR"
      }
    },
    {
      "cell_type": "code",
      "source": [
        "# https://scikit-learn.org/stable/modules/generated/sklearn.neighbors.KNeighborsClassifier.html#sklearn.neighbors.KNeighborsClassifier\n",
        "from sklearn.neighbors import KNeighborsClassifier\n",
        "# k = 4\n",
        "knn = KNeighborsClassifier(n_neighbors=4)\n",
        "knn.fit(X_train, y_train)\n",
        "print(\"knn score: {}\".format(knn.score(X_train, y_train)))"
      ],
      "metadata": {
        "id": "JRuP52Rq5RXf",
        "colab": {
          "base_uri": "https://localhost:8080/"
        },
        "outputId": "c00b7460-2b92-443c-da71-d5a7f7bd3702"
      },
      "execution_count": 4,
      "outputs": [
        {
          "output_type": "stream",
          "name": "stdout",
          "text": [
            "knn score: 0.823943661971831\n"
          ]
        }
      ]
    },
    {
      "cell_type": "code",
      "source": [
        "# create a validation split\n",
        "\n",
        "X_train_val, X_test_val, y_train_val, y_test_val = train_test_split(\n",
        "    X_train, y_train, stratify=y_train, random_state=66,test_size=0.2)"
      ],
      "metadata": {
        "id": "1xlLd8iClYIA"
      },
      "execution_count": 18,
      "outputs": []
    },
    {
      "cell_type": "code",
      "source": [
        "# test with cross validation on test set (common for small datasets)\n",
        "training_accuracy = []\n",
        "test_accuracy = []\n",
        "# try n_neighbors from 1 to 10\n",
        "neighbors_settings = range(1, 11)\n",
        "#use for loop to iterate & each time\n",
        "for n_neighbors in neighbors_settings:\n",
        "    # build the model\n",
        "    knn = KNeighborsClassifier(n_neighbors=n_neighbors)\n",
        "    knn.fit(X_train, y_train)\n",
        "    # record training set accuracy\n",
        "    training_accuracy.append(knn.score(X_train, y_train)) #append value of running it on training\n",
        "    # record generalization accuracy\n",
        "    test_accuracy.append(knn.score(X_test, y_test)) #append value of running it on test\n",
        "#plot graph\n",
        "#We see that k=4 probably gives the best performance, after 4, accuracy declines in testing\n",
        "plt.plot(neighbors_settings, training_accuracy, label=\"training accuracy\")\n",
        "plt.plot(neighbors_settings, test_accuracy, label=\"test accuracy\")\n",
        "plt.ylabel(\"Accuracy\")\n",
        "plt.xlabel(\"n_neighbors\")\n",
        "plt.legend()"
      ],
      "metadata": {
        "colab": {
          "base_uri": "https://localhost:8080/",
          "height": 467
        },
        "id": "dldO2iRIlgvi",
        "outputId": "b14f21b7-22bb-4b87-c557-2f809959d29b"
      },
      "execution_count": 19,
      "outputs": [
        {
          "output_type": "execute_result",
          "data": {
            "text/plain": [
              "<matplotlib.legend.Legend at 0x780b546c5960>"
            ]
          },
          "metadata": {},
          "execution_count": 19
        },
        {
          "output_type": "display_data",
          "data": {
            "text/plain": [
              "<Figure size 640x480 with 1 Axes>"
            ],
            "image/png": "[encoded data removed]"
          },
          "metadata": {}
        }
      ]
    },
    {
      "cell_type": "code",
      "source": [
        "# test with cross validation on test set (common for small datasets)\n",
        "training_accuracy = []\n",
        "test_accuracy = []\n",
        "# try n_neighbors from 1 to 10\n",
        "neighbors_settings = range(1, 11)\n",
        "\n",
        "for n_neighbors in neighbors_settings:\n",
        "    # build the model\n",
        "    knn = KNeighborsClassifier(n_neighbors=n_neighbors,metric='manhattan')\n",
        "    knn.fit(X_train, y_train)\n",
        "    # record training set accuracy\n",
        "    training_accuracy.append(knn.score(X_train, y_train))\n",
        "    # record generalization accuracy\n",
        "    test_accuracy.append(knn.score(X_test, y_test))\n",
        "\n",
        "plt.plot(neighbors_settings, training_accuracy, label=\"training accuracy\")\n",
        "plt.plot(neighbors_settings, test_accuracy, label=\"test accuracy\")\n",
        "plt.ylabel(\"Accuracy\")\n",
        "plt.xlabel(\"n_neighbors\")\n",
        "plt.legend()\n"
      ],
      "metadata": {
        "colab": {
          "base_uri": "https://localhost:8080/",
          "height": 467
        },
        "id": "tFTnsq92lv5X",
        "outputId": "2c771760-84df-4dbe-8b39-0d3012dab452"
      },
      "execution_count": 20,
      "outputs": [
        {
          "output_type": "execute_result",
          "data": {
            "text/plain": [
              "<matplotlib.legend.Legend at 0x780b95425de0>"
            ]
          },
          "metadata": {},
          "execution_count": 20
        },
        {
          "output_type": "display_data",
          "data": {
            "text/plain": [
              "<Figure size 640x480 with 1 Axes>"
            ],
            "image/png": "[encoded data removed]"
          },
          "metadata": {}
        }
      ]
    },
    {
      "cell_type": "code",
      "source": [
        "#take inverse of the distance - 4 is the best performance for testing/training accuracy\n",
        "\n",
        "# test with cross validation on test set (common for small datasets)\n",
        "training_accuracy = []\n",
        "test_accuracy = []\n",
        "# try n_neighbors from 1 to 10\n",
        "neighbors_settings = range(1, 11)\n",
        "\n",
        "for n_neighbors in neighbors_settings:\n",
        "    # build the model\n",
        "    knn = KNeighborsClassifier(n_neighbors=n_neighbors,weights='distance')\n",
        "    knn.fit(X_train, y_train)\n",
        "    # record training set accuracy\n",
        "    training_accuracy.append(knn.score(X_train, y_train))\n",
        "    # record generalization accuracy\n",
        "    test_accuracy.append(knn.score(X_test, y_test))\n",
        "\n",
        "plt.plot(neighbors_settings, training_accuracy, label=\"training accuracy\")\n",
        "plt.plot(neighbors_settings, test_accuracy, label=\"test accuracy\")\n",
        "plt.ylabel(\"Accuracy\")\n",
        "plt.xlabel(\"n_neighbors\")\n",
        "plt.legend()"
      ],
      "metadata": {
        "colab": {
          "base_uri": "https://localhost:8080/",
          "height": 467
        },
        "id": "xJxNHrFdl2qI",
        "outputId": "c4f18831-a667-4215-8d93-f2529988c52c"
      },
      "execution_count": 21,
      "outputs": [
        {
          "output_type": "execute_result",
          "data": {
            "text/plain": [
              "<matplotlib.legend.Legend at 0x780b954c6770>"
            ]
          },
          "metadata": {},
          "execution_count": 21
        },
        {
          "output_type": "display_data",
          "data": {
            "text/plain": [
              "<Figure size 640x480 with 1 Axes>"
            ],
            "image/png": "[encoded data removed]"
          },
          "metadata": {}
        }
      ]
    },
    {
      "cell_type": "code",
      "source": [
        "# test with cross validation on test set (common for small datasets)\n",
        "training_accuracy = []\n",
        "test_accuracy = []\n",
        "# try n_neighbors from 1 to 10\n",
        "neighbors_settings = range(1, 11)\n",
        "\n",
        "for n_neighbors in neighbors_settings:\n",
        "    # build the model\n",
        "    knn = KNeighborsClassifier(n_neighbors=n_neighbors,algorithm=\"brute\")\n",
        "    knn.fit(X_train, y_train)\n",
        "    # record training set accuracy\n",
        "    training_accuracy.append(knn.score(X_train, y_train))\n",
        "    # record generalization accuracy\n",
        "    test_accuracy.append(knn.score(X_test, y_test))\n",
        "\n",
        "plt.plot(neighbors_settings, training_accuracy, label=\"training accuracy\")\n",
        "plt.plot(neighbors_settings, test_accuracy, label=\"test accuracy\")\n",
        "plt.ylabel(\"Accuracy\")\n",
        "plt.xlabel(\"n_neighbors\")\n",
        "plt.legend()"
      ],
      "metadata": {
        "colab": {
          "base_uri": "https://localhost:8080/",
          "height": 467
        },
        "id": "0yeUrxLIl9Gz",
        "outputId": "7abfd5c7-44ff-4b0f-fcef-f4efc1e57ed9"
      },
      "execution_count": 22,
      "outputs": [
        {
          "output_type": "execute_result",
          "data": {
            "text/plain": [
              "<matplotlib.legend.Legend at 0x780b9536b580>"
            ]
          },
          "metadata": {},
          "execution_count": 22
        },
        {
          "output_type": "display_data",
          "data": {
            "text/plain": [
              "<Figure size 640x480 with 1 Axes>"
            ],
            "image/png": "[encoded data removed]"
          },
          "metadata": {}
        }
      ]
    },
    {
      "cell_type": "markdown",
      "source": [
        "# Perform Grid Search"
      ],
      "metadata": {
        "id": "0ye96G2c0F1R"
      }
    },
    {
      "cell_type": "code",
      "source": [
        "from sklearn.model_selection import GridSearchCV\n",
        "\n",
        "# parameter validation on training set\n",
        "\n",
        "knn2 = KNeighborsClassifier() #instantiate vanilla version of classifier\n",
        "\n",
        "#dictionary of all values of k\n",
        "#look through all k-values from 1-25\n",
        "param_grid = {\"n_neighbors\": np.arange(1, 25)}\n",
        "\n",
        "#grid search on all values of k in dictionary\n",
        "knn_gscv = GridSearchCV(knn2, param_grid, cv=5) #pass it grid search, instantiated value, param_grid, #folds\n",
        "knn_gscv.fit(X_train, y_train) #pass it the training set\n",
        "#dictionary of all values of k\n",
        "\n",
        "#grid search on all values of k in dictionary\n"
      ],
      "metadata": {
        "id": "GfGoZgNI0Dkk",
        "colab": {
          "base_uri": "https://localhost:8080/",
          "height": 220
        },
        "outputId": "bfe88872-956c-4d45-f5fc-62768b855ef8"
      },
      "execution_count": 23,
      "outputs": [
        {
          "output_type": "execute_result",
          "data": {
            "text/plain": [
              "GridSearchCV(cv=5, estimator=KNeighborsClassifier(),\n",
              "             param_grid={'n_neighbors': array([ 1,  2,  3,  4,  5,  6,  7,  8,  9, 10, 11, 12, 13, 14, 15, 16, 17,\n",
              "       18, 19, 20, 21, 22, 23, 24])})"
            ],
            "text/html": [
              "<style>#sk-container-id-2 {color: black;background-color: white;}#sk-container-id-2 pre{padding: 0;}#sk-container-id-2 div.sk-toggleable {background-color: white;}#sk-container-id-2 label.sk-toggleable__label {cursor: pointer;display: block;width: 100%;margin-bottom: 0;padding: 0.3em;box-sizing: border-box;text-align: center;}#sk-container-id-2 label.sk-toggleable__label-arrow:before {content: \"▸\";float: left;margin-right: 0.25em;color: #696969;}#sk-container-id-2 label.sk-toggleable__label-arrow:hover:before {color: black;}#sk-container-id-2 div.sk-estimator:hover label.sk-toggleable__label-arrow:before {color: black;}#sk-container-id-2 div.sk-toggleable__content {max-height: 0;max-width: 0;overflow: hidden;text-align: left;background-color: #f0f8ff;}#sk-container-id-2 div.sk-toggleable__content pre {margin: 0.2em;color: black;border-radius: 0.25em;background-color: #f0f8ff;}#sk-container-id-2 input.sk-toggleable__control:checked~div.sk-toggleable__content {max-height: 200px;max-width: 100%;overflow: auto;}#sk-container-id-2 input.sk-toggleable__control:checked~label.sk-toggleable__label-arrow:before {content: \"▾\";}#sk-container-id-2 div.sk-estimator input.sk-toggleable__control:checked~label.sk-toggleable__label {background-color: #d4ebff;}#sk-container-id-2 div.sk-label input.sk-toggleable__control:checked~label.sk-toggleable__label {background-color: #d4ebff;}#sk-container-id-2 input.sk-hidden--visually {border: 0;clip: rect(1px 1px 1px 1px);clip: rect(1px, 1px, 1px, 1px);height: 1px;margin: -1px;overflow: hidden;padding: 0;position: absolute;width: 1px;}#sk-container-id-2 div.sk-estimator {font-family: monospace;background-color: #f0f8ff;border: 1px dotted black;border-radius: 0.25em;box-sizing: border-box;margin-bottom: 0.5em;}#sk-container-id-2 div.sk-estimator:hover {background-color: #d4ebff;}#sk-container-id-2 div.sk-parallel-item::after {content: \"\";width: 100%;border-bottom: 1px solid gray;flex-grow: 1;}#sk-container-id-2 div.sk-label:hover label.sk-toggleable__label {background-color: #d4ebff;}#sk-container-id-2 div.sk-serial::before {content: \"\";position: absolute;border-left: 1px solid gray;box-sizing: border-box;top: 0;bottom: 0;left: 50%;z-index: 0;}#sk-container-id-2 div.sk-serial {display: flex;flex-direction: column;align-items: center;background-color: white;padding-right: 0.2em;padding-left: 0.2em;position: relative;}#sk-container-id-2 div.sk-item {position: relative;z-index: 1;}#sk-container-id-2 div.sk-parallel {display: flex;align-items: stretch;justify-content: center;background-color: white;position: relative;}#sk-container-id-2 div.sk-item::before, #sk-container-id-2 div.sk-parallel-item::before {content: \"\";position: absolute;border-left: 1px solid gray;box-sizing: border-box;top: 0;bottom: 0;left: 50%;z-index: -1;}#sk-container-id-2 div.sk-parallel-item {display: flex;flex-direction: column;z-index: 1;position: relative;background-color: white;}#sk-container-id-2 div.sk-parallel-item:first-child::after {align-self: flex-end;width: 50%;}#sk-container-id-2 div.sk-parallel-item:last-child::after {align-self: flex-start;width: 50%;}#sk-container-id-2 div.sk-parallel-item:only-child::after {width: 0;}#sk-container-id-2 div.sk-dashed-wrapped {border: 1px dashed gray;margin: 0 0.4em 0.5em 0.4em;box-sizing: border-box;padding-bottom: 0.4em;background-color: white;}#sk-container-id-2 div.sk-label label {font-family: monospace;font-weight: bold;display: inline-block;line-height: 1.2em;}#sk-container-id-2 div.sk-label-container {text-align: center;}#sk-container-id-2 div.sk-container {/* jupyter's `normalize.less` sets `[hidden] { display: none; }` but bootstrap.min.css set `[hidden] { display: none !important; }` so we also need the `!important` here to be able to override the default hidden behavior on the sphinx rendered scikit-learn.org. See: https://github.com/scikit-learn/scikit-learn/issues/21755 */display: inline-block !important;position: relative;}#sk-container-id-2 div.sk-text-repr-fallback {display: none;}</style><div id=\"sk-container-id-2\" class=\"sk-top-container\"><div class=\"sk-text-repr-fallback\"><pre>GridSearchCV(cv=5, estimator=KNeighborsClassifier(),\n",
              "             param_grid={&#x27;n_neighbors&#x27;: array([ 1,  2,  3,  4,  5,  6,  7,  8,  9, 10, 11, 12, 13, 14, 15, 16, 17,\n",
              "       18, 19, 20, 21, 22, 23, 24])})</pre><b>In a Jupyter environment, please rerun this cell to show the HTML representation or trust the notebook. <br />On GitHub, the HTML representation is unable to render, please try loading this page with nbviewer.org.</b></div><div class=\"sk-container\" hidden><div class=\"sk-item sk-dashed-wrapped\"><div class=\"sk-label-container\"><div class=\"sk-label sk-toggleable\"><input class=\"sk-toggleable__control sk-hidden--visually\" id=\"sk-estimator-id-4\" type=\"checkbox\" ><label for=\"sk-estimator-id-4\" class=\"sk-toggleable__label sk-toggleable__label-arrow\">GridSearchCV</label><div class=\"sk-toggleable__content\"><pre>GridSearchCV(cv=5, estimator=KNeighborsClassifier(),\n",
              "             param_grid={&#x27;n_neighbors&#x27;: array([ 1,  2,  3,  4,  5,  6,  7,  8,  9, 10, 11, 12, 13, 14, 15, 16, 17,\n",
              "       18, 19, 20, 21, 22, 23, 24])})</pre></div></div></div><div class=\"sk-parallel\"><div class=\"sk-parallel-item\"><div class=\"sk-item\"><div class=\"sk-label-container\"><div class=\"sk-label sk-toggleable\"><input class=\"sk-toggleable__control sk-hidden--visually\" id=\"sk-estimator-id-5\" type=\"checkbox\" ><label for=\"sk-estimator-id-5\" class=\"sk-toggleable__label sk-toggleable__label-arrow\">estimator: KNeighborsClassifier</label><div class=\"sk-toggleable__content\"><pre>KNeighborsClassifier()</pre></div></div></div><div class=\"sk-serial\"><div class=\"sk-item\"><div class=\"sk-estimator sk-toggleable\"><input class=\"sk-toggleable__control sk-hidden--visually\" id=\"sk-estimator-id-6\" type=\"checkbox\" ><label for=\"sk-estimator-id-6\" class=\"sk-toggleable__label sk-toggleable__label-arrow\">KNeighborsClassifier</label><div class=\"sk-toggleable__content\"><pre>KNeighborsClassifier()</pre></div></div></div></div></div></div></div></div></div></div>"
            ]
          },
          "metadata": {},
          "execution_count": 23
        }
      ]
    },
    {
      "cell_type": "code",
      "source": [
        "#best performing k (on training set)\n",
        "knn_gscv.best_params_"
      ],
      "metadata": {
        "id": "o5OFsRH35lKA",
        "colab": {
          "base_uri": "https://localhost:8080/"
        },
        "outputId": "73239f34-8634-4546-c354-d06bf4b0a9c1"
      },
      "execution_count": 24,
      "outputs": [
        {
          "output_type": "execute_result",
          "data": {
            "text/plain": [
              "{'n_neighbors': 13}"
            ]
          },
          "metadata": {},
          "execution_count": 24
        }
      ]
    },
    {
      "cell_type": "code",
      "source": [
        "#accuracy of best performing k\n",
        "knn_gscv.best_score_"
      ],
      "metadata": {
        "id": "vjeUWrTg5mXG",
        "colab": {
          "base_uri": "https://localhost:8080/"
        },
        "outputId": "59f90eed-0a64-4e08-f8ee-910545722bba"
      },
      "execution_count": 25,
      "outputs": [
        {
          "output_type": "execute_result",
          "data": {
            "text/plain": [
              "0.7317733990147783"
            ]
          },
          "metadata": {},
          "execution_count": 25
        }
      ]
    },
    {
      "cell_type": "code",
      "source": [
        "#cross validation results\n",
        "knn_gscv.cv_results_"
      ],
      "metadata": {
        "id": "llfgP5Iq6JLf",
        "colab": {
          "base_uri": "https://localhost:8080/"
        },
        "outputId": "776ca36c-ebf3-42a8-dc08-76a0a6ac52c6"
      },
      "execution_count": 26,
      "outputs": [
        {
          "output_type": "execute_result",
          "data": {
            "text/plain": [
              "{'mean_fit_time': array([0.00110278, 0.00078945, 0.00080338, 0.00074525, 0.00086622,\n",
              "        0.00074334, 0.00116143, 0.00071321, 0.00073123, 0.00068984,\n",
              "        0.00076957, 0.00067725, 0.00069423, 0.0006556 , 0.00066772,\n",
              "        0.00070429, 0.00075393, 0.00103769, 0.00098147, 0.00080175,\n",
              "        0.0006907 , 0.00071363, 0.00066948, 0.0006649 ]),\n",
              " 'std_fit_time': array([4.03719259e-04, 1.56863293e-04, 1.69301206e-04, 2.21333612e-05,\n",
              "        1.30212817e-04, 1.30259484e-05, 1.25942578e-04, 3.20516871e-05,\n",
              "        3.35965534e-05, 2.46518816e-05, 1.53052725e-04, 3.06742343e-05,\n",
              "        4.03983802e-05, 1.19660477e-05, 1.24129789e-05, 1.55539574e-05,\n",
              "        1.01408186e-04, 1.69080069e-04, 2.24420692e-04, 7.70400343e-05,\n",
              "        1.45400152e-05, 7.56959126e-05, 1.07811606e-05, 7.58965394e-06]),\n",
              " 'mean_score_time': array([0.00427089, 0.00390439, 0.0033226 , 0.00342898, 0.00343971,\n",
              "        0.00358677, 0.00420666, 0.00328221, 0.00335226, 0.00310373,\n",
              "        0.00340238, 0.00320015, 0.00307703, 0.00301056, 0.00310388,\n",
              "        0.00317512, 0.00335221, 0.00487542, 0.00407734, 0.00342398,\n",
              "        0.00318413, 0.00317812, 0.00306082, 0.00313087]),\n",
              " 'std_score_time': array([1.35386927e-03, 1.21745936e-03, 1.96752453e-04, 1.34118739e-04,\n",
              "        1.28489822e-04, 4.51256703e-04, 3.95910401e-04, 1.66771749e-04,\n",
              "        2.87479527e-04, 6.48775462e-05, 3.75901097e-04, 3.75621509e-04,\n",
              "        1.31446284e-05, 6.86081350e-05, 1.09173281e-04, 8.46132187e-05,\n",
              "        2.55936160e-04, 7.20855110e-04, 6.64697548e-04, 1.94828416e-04,\n",
              "        1.49983396e-04, 8.95271130e-05, 3.61375249e-05, 9.75098061e-05]),\n",
              " 'param_n_neighbors': masked_array(data=[1, 2, 3, 4, 5, 6, 7, 8, 9, 10, 11, 12, 13, 14, 15, 16,\n",
              "                    17, 18, 19, 20, 21, 22, 23, 24],\n",
              "              mask=[False, False, False, False, False, False, False, False,\n",
              "                    False, False, False, False, False, False, False, False,\n",
              "                    False, False, False, False, False, False, False, False],\n",
              "        fill_value='?',\n",
              "             dtype=object),\n",
              " 'params': [{'n_neighbors': 1},\n",
              "  {'n_neighbors': 2},\n",
              "  {'n_neighbors': 3},\n",
              "  {'n_neighbors': 4},\n",
              "  {'n_neighbors': 5},\n",
              "  {'n_neighbors': 6},\n",
              "  {'n_neighbors': 7},\n",
              "  {'n_neighbors': 8},\n",
              "  {'n_neighbors': 9},\n",
              "  {'n_neighbors': 10},\n",
              "  {'n_neighbors': 11},\n",
              "  {'n_neighbors': 12},\n",
              "  {'n_neighbors': 13},\n",
              "  {'n_neighbors': 14},\n",
              "  {'n_neighbors': 15},\n",
              "  {'n_neighbors': 16},\n",
              "  {'n_neighbors': 17},\n",
              "  {'n_neighbors': 18},\n",
              "  {'n_neighbors': 19},\n",
              "  {'n_neighbors': 20},\n",
              "  {'n_neighbors': 21},\n",
              "  {'n_neighbors': 22},\n",
              "  {'n_neighbors': 23},\n",
              "  {'n_neighbors': 24}],\n",
              " 'split0_test_score': array([0.82758621, 0.65517241, 0.82758621, 0.79310345, 0.79310345,\n",
              "        0.75862069, 0.82758621, 0.75862069, 0.75862069, 0.68965517,\n",
              "        0.68965517, 0.68965517, 0.79310345, 0.75862069, 0.72413793,\n",
              "        0.62068966, 0.68965517, 0.65517241, 0.68965517, 0.65517241,\n",
              "        0.68965517, 0.72413793, 0.72413793, 0.62068966]),\n",
              " 'split1_test_score': array([0.75862069, 0.75862069, 0.75862069, 0.75862069, 0.72413793,\n",
              "        0.72413793, 0.65517241, 0.72413793, 0.72413793, 0.75862069,\n",
              "        0.72413793, 0.75862069, 0.75862069, 0.75862069, 0.75862069,\n",
              "        0.75862069, 0.75862069, 0.72413793, 0.72413793, 0.72413793,\n",
              "        0.68965517, 0.72413793, 0.72413793, 0.75862069]),\n",
              " 'split2_test_score': array([0.71428571, 0.67857143, 0.71428571, 0.71428571, 0.71428571,\n",
              "        0.64285714, 0.64285714, 0.64285714, 0.67857143, 0.67857143,\n",
              "        0.67857143, 0.67857143, 0.67857143, 0.67857143, 0.71428571,\n",
              "        0.67857143, 0.67857143, 0.67857143, 0.67857143, 0.67857143,\n",
              "        0.67857143, 0.67857143, 0.67857143, 0.64285714]),\n",
              " 'split3_test_score': array([0.67857143, 0.60714286, 0.57142857, 0.57142857, 0.57142857,\n",
              "        0.57142857, 0.57142857, 0.53571429, 0.60714286, 0.57142857,\n",
              "        0.64285714, 0.64285714, 0.64285714, 0.60714286, 0.64285714,\n",
              "        0.64285714, 0.64285714, 0.64285714, 0.60714286, 0.64285714,\n",
              "        0.64285714, 0.64285714, 0.64285714, 0.71428571]),\n",
              " 'split4_test_score': array([0.64285714, 0.67857143, 0.71428571, 0.64285714, 0.64285714,\n",
              "        0.67857143, 0.71428571, 0.71428571, 0.78571429, 0.71428571,\n",
              "        0.78571429, 0.75      , 0.78571429, 0.75      , 0.78571429,\n",
              "        0.78571429, 0.78571429, 0.71428571, 0.78571429, 0.75      ,\n",
              "        0.75      , 0.75      , 0.71428571, 0.71428571]),\n",
              " 'mean_test_score': array([0.72438424, 0.67561576, 0.71724138, 0.69605911, 0.68916256,\n",
              "        0.67512315, 0.68226601, 0.67512315, 0.71083744, 0.68251232,\n",
              "        0.70418719, 0.70394089, 0.7317734 , 0.71059113, 0.72512315,\n",
              "        0.69729064, 0.71108374, 0.68300493, 0.69704433, 0.69014778,\n",
              "        0.69014778, 0.70394089, 0.69679803, 0.69014778]),\n",
              " 'std_test_score': array([0.06429657, 0.04901787, 0.08386546, 0.08003372, 0.07571478,\n",
              "        0.06508431, 0.08569163, 0.07922616, 0.06302435, 0.06198094,\n",
              "        0.04831857, 0.04402326, 0.06021349, 0.05982231, 0.04833112,\n",
              "        0.06443794, 0.05291613, 0.03186396, 0.05843723, 0.04081988,\n",
              "        0.03450562, 0.03824164, 0.03175717, 0.05082254]),\n",
              " 'rank_test_score': array([ 3, 22,  4, 14, 18, 23, 21, 23,  6, 20,  8,  9,  1,  7,  2, 11,  5,\n",
              "        19, 12, 15, 15,  9, 13, 15], dtype=int32)}"
            ]
          },
          "metadata": {},
          "execution_count": 26
        }
      ]
    },
    {
      "cell_type": "markdown",
      "source": [
        "# Best Performing"
      ],
      "metadata": {
        "id": "d4uKhO0x0ah-"
      }
    },
    {
      "cell_type": "code",
      "source": [
        "# accuracy of k = ? on testing data\n",
        "knn8 = KNeighborsClassifier(n_neighbors=13)\n",
        "knn8.fit(X_train, y_train)\n",
        "print(\"knn score: {}\".format(knn8.score(X_test, y_test)))"
      ],
      "metadata": {
        "id": "ALIWYPqe5pUv",
        "colab": {
          "base_uri": "https://localhost:8080/"
        },
        "outputId": "14f661bb-70a2-45dc-c3c2-def23459c71e"
      },
      "execution_count": 27,
      "outputs": [
        {
          "output_type": "stream",
          "name": "stdout",
          "text": [
            "knn score: 0.6111111111111112\n"
          ]
        }
      ]
    },
    {
      "cell_type": "markdown",
      "source": [
        "# Worst Performing"
      ],
      "metadata": {
        "id": "oy-K8VDf0k5H"
      }
    },
    {
      "cell_type": "code",
      "source": [
        "# accuracy of k = ? on testing data\n",
        "knn11 = KNeighborsClassifier(n_neighbors=6)\n",
        "knn11.fit(X_train, y_train)\n",
        "print(\"knn score: {}\".format(knn11.score(X_test, y_test)))"
      ],
      "metadata": {
        "id": "FkbCgOob0gor",
        "colab": {
          "base_uri": "https://localhost:8080/"
        },
        "outputId": "3faaad57-12ac-4599-d535-c502d8b4032c"
      },
      "execution_count": 30,
      "outputs": [
        {
          "output_type": "stream",
          "name": "stdout",
          "text": [
            "knn score: 0.6944444444444444\n"
          ]
        }
      ]
    },
    {
      "cell_type": "markdown",
      "source": [
        "# Import Logistic Regression and Perform Grid Search"
      ],
      "metadata": {
        "id": "6ij4yoFf0x2z"
      }
    },
    {
      "cell_type": "code",
      "source": [],
      "metadata": {
        "id": "1VgOu-tEp9db"
      },
      "execution_count": null,
      "outputs": []
    },
    {
      "cell_type": "code",
      "source": [
        "#try increasing max_iter\n"
      ],
      "metadata": {
        "id": "_1aYZgAR149z"
      },
      "execution_count": null,
      "outputs": []
    },
    {
      "cell_type": "code",
      "source": [
        "#dictionary of all values of c\n",
        "\n",
        "#grid search on all values of k in dictionary for logist regression\n"
      ],
      "metadata": {
        "id": "gcYp6Vzy0-c2"
      },
      "execution_count": null,
      "outputs": []
    },
    {
      "cell_type": "code",
      "source": [
        "#best performing c (on training set)\n"
      ],
      "metadata": {
        "id": "FYBP8g-J2U9Z"
      },
      "execution_count": null,
      "outputs": []
    },
    {
      "cell_type": "code",
      "source": [
        "#accuracy of best performing c\n"
      ],
      "metadata": {
        "id": "xAdtEYGC2a00"
      },
      "execution_count": null,
      "outputs": []
    },
    {
      "cell_type": "code",
      "source": [
        "#cross validation results\n"
      ],
      "metadata": {
        "id": "H94e81u62ev3"
      },
      "execution_count": null,
      "outputs": []
    },
    {
      "cell_type": "markdown",
      "source": [
        "# Import Linear SVC and Perform Grid Search"
      ],
      "metadata": {
        "id": "x8SQLdAG57ry"
      }
    },
    {
      "cell_type": "code",
      "source": [],
      "metadata": {
        "id": "SV4fAOwr6FjI"
      },
      "execution_count": null,
      "outputs": []
    },
    {
      "cell_type": "code",
      "source": [
        "#dictionary of all values of c\n",
        "\n",
        "#grid search on all values of c in dictionary for linear svc\n"
      ],
      "metadata": {
        "id": "zS5c9Fxo2lV4"
      },
      "execution_count": null,
      "outputs": []
    },
    {
      "cell_type": "code",
      "source": [
        "#try increasing max_iter for linear svc and rerun grid search\n"
      ],
      "metadata": {
        "id": "VH0EBh7l3eNM"
      },
      "execution_count": null,
      "outputs": []
    },
    {
      "cell_type": "code",
      "source": [
        "#best performing c (on training set)\n"
      ],
      "metadata": {
        "id": "3srg9PZ134Pk"
      },
      "execution_count": null,
      "outputs": []
    },
    {
      "cell_type": "code",
      "source": [
        "#accuracy of best performing c\n"
      ],
      "metadata": {
        "id": "oyicYqzL37BH"
      },
      "execution_count": null,
      "outputs": []
    },
    {
      "cell_type": "code",
      "source": [
        "#cross validation results\n"
      ],
      "metadata": {
        "id": "4oi7nqTO38yq"
      },
      "execution_count": null,
      "outputs": []
    },
    {
      "cell_type": "markdown",
      "source": [
        "# Best Performing"
      ],
      "metadata": {
        "id": "4f-Eynw_2ox5"
      }
    },
    {
      "cell_type": "code",
      "source": [
        "# accuracy of C = ? on testing data\n"
      ],
      "metadata": {
        "id": "79sh62-42pTZ"
      },
      "execution_count": null,
      "outputs": []
    },
    {
      "cell_type": "code",
      "source": [
        "# accuracy of C = ? on testing data\n"
      ],
      "metadata": {
        "id": "N6Cjaypo4OCP"
      },
      "execution_count": null,
      "outputs": []
    },
    {
      "cell_type": "code",
      "source": [
        "# accuracy of C = ? on testing data with increased max_iter\n"
      ],
      "metadata": {
        "id": "6zsqIEWx32AQ"
      },
      "execution_count": null,
      "outputs": []
    },
    {
      "cell_type": "markdown",
      "source": [
        "# Worst Performing"
      ],
      "metadata": {
        "id": "-82ryD_i2px3"
      }
    },
    {
      "cell_type": "code",
      "source": [
        "# accuracy of C = ? on testing data\n"
      ],
      "metadata": {
        "id": "Ix99uGAo2r55"
      },
      "execution_count": null,
      "outputs": []
    },
    {
      "cell_type": "code",
      "source": [
        "# accuracy of C = ? on testing data\n"
      ],
      "metadata": {
        "id": "Gk7Eii7G4Rry"
      },
      "execution_count": null,
      "outputs": []
    }
  ]
}