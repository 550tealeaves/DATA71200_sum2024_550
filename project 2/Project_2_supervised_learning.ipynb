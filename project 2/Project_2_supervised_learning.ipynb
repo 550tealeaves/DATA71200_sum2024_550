{
  "cells": [
    {
      "cell_type": "markdown",
      "metadata": {
        "id": "view-in-github",
        "colab_type": "text"
      },
      "source": [
        "<a href=\"https://colab.research.google.com/github/550tealeaves/DATA71200_sum2024_550/blob/main/Project_2_supervised_learning.ipynb\" target=\"_parent\"><img src=\"https://colab.research.google.com/assets/colab-badge.svg\" alt=\"Open In Colab\"/></a>"
      ]
    },
    {
      "cell_type": "markdown",
      "source": [
        "# 1. Load data and include training split"
      ],
      "metadata": {
        "id": "ijHcAd2lydpN"
      }
    },
    {
      "cell_type": "markdown",
      "source": [
        "# Load Libraries"
      ],
      "metadata": {
        "id": "P0_K6RTyeDXn"
      }
    },
    {
      "cell_type": "code",
      "execution_count": 1,
      "metadata": {
        "id": "Ru5SKocjXTsJ"
      },
      "outputs": [],
      "source": [
        "%matplotlib inline\n",
        "import matplotlib.pyplot as plt\n",
        "import numpy as np\n",
        "import pandas as pd"
      ]
    },
    {
      "cell_type": "markdown",
      "source": [
        "# Load pizza dataset"
      ],
      "metadata": {
        "id": "oVoyDLteeF4K"
      }
    },
    {
      "cell_type": "code",
      "source": [
        "from sklearn.datasets import load_wine\n",
        "dataset = pd.read_csv(\"https://raw.githubusercontent.com/550tealeaves/DATA71200_sum2024_550/main/project%201/pizza_edited.csv\")\n",
        "print(dataset.head())"
      ],
      "metadata": {
        "id": "jETaoxdgeBC0",
        "colab": {
          "base_uri": "https://localhost:8080/"
        },
        "outputId": "a46caf13-fe71-4cb1-ae63-3da50a8dd7a3"
      },
      "execution_count": 2,
      "outputs": [
        {
          "output_type": "stream",
          "name": "stdout",
          "text": [
            "  company  price_cad  diameter_in      topping           variant     size  \\\n",
            "0       A         29         22.0      chicken  double_signature    jumbo   \n",
            "1       A         25         20.0    pepperoni  double_signature    jumbo   \n",
            "2       A         19         16.0    mushrooms  double_signature  regular   \n",
            "3       A         22         14.0  smoked_beef  double_signature  regular   \n",
            "4       A         30         18.0   mozzarella  double_signature    jumbo   \n",
            "\n",
            "  extra_sauce extra_cheese extra_mushrooms  \n",
            "0      yes_es       yes_ec           no_em  \n",
            "1      yes_es       yes_ec           no_em  \n",
            "2      yes_es       yes_ec          yes_em  \n",
            "3      yes_es        no_ec          yes_em  \n",
            "4      yes_es        no_ec          yes_em  \n"
          ]
        }
      ]
    },
    {
      "cell_type": "markdown",
      "source": [
        "# Create dummy variables"
      ],
      "metadata": {
        "id": "GiMafuJPei-D"
      }
    },
    {
      "cell_type": "code",
      "source": [
        "columns = ['topping', 'variant', 'size', 'extra_sauce', 'extra_cheese','extra_mushrooms']\n",
        "dataset = pd.concat([dataset]+[pd.get_dummies(dataset[i],drop_first=True) for i in columns],axis=1)\n",
        "dataset.drop(columns,axis=1,inplace=True)\n",
        "dataset.head(3)"
      ],
      "metadata": {
        "colab": {
          "base_uri": "https://localhost:8080/",
          "height": 193
        },
        "id": "w9Qsk5IPiH5T",
        "outputId": "0903df1d-29cb-4688-cd28-aae960d3cc69"
      },
      "execution_count": 3,
      "outputs": [
        {
          "output_type": "execute_result",
          "data": {
            "text/plain": [
              "  company  price_cad  diameter_in  black_pepper  chicken   meat  mozzarella  \\\n",
              "0       A         29         22.0         False     True  False       False   \n",
              "1       A         25         20.0         False    False  False       False   \n",
              "2       A         19         16.0         False    False  False       False   \n",
              "\n",
              "   mushrooms  onion  pepperoni  ...  super_supreme  thai_veggie  jumbo  large  \\\n",
              "0      False  False      False  ...          False        False   True  False   \n",
              "1      False  False       True  ...          False        False   True  False   \n",
              "2       True  False      False  ...          False        False  False  False   \n",
              "\n",
              "   medium  regular  small  yes_es  yes_ec  yes_em  \n",
              "0   False    False  False    True    True   False  \n",
              "1   False    False  False    True    True   False  \n",
              "2   False     True  False    True    True    True  \n",
              "\n",
              "[3 rows x 41 columns]"
            ],
            "text/html": [
              "\n",
              "  <div id=\"df-192d195f-3986-4e77-8c79-48eafb61f9ae\" class=\"colab-df-container\">\n",
              "    <div>\n",
              "<style scoped>\n",
              "    .dataframe tbody tr th:only-of-type {\n",
              "        vertical-align: middle;\n",
              "    }\n",
              "\n",
              "    .dataframe tbody tr th {\n",
              "        vertical-align: top;\n",
              "    }\n",
              "\n",
              "    .dataframe thead th {\n",
              "        text-align: right;\n",
              "    }\n",
              "</style>\n",
              "<table border=\"1\" class=\"dataframe\">\n",
              "  <thead>\n",
              "    <tr style=\"text-align: right;\">\n",
              "      <th></th>\n",
              "      <th>company</th>\n",
              "      <th>price_cad</th>\n",
              "      <th>diameter_in</th>\n",
              "      <th>black_pepper</th>\n",
              "      <th>chicken</th>\n",
              "      <th>meat</th>\n",
              "      <th>mozzarella</th>\n",
              "      <th>mushrooms</th>\n",
              "      <th>onion</th>\n",
              "      <th>pepperoni</th>\n",
              "      <th>...</th>\n",
              "      <th>super_supreme</th>\n",
              "      <th>thai_veggie</th>\n",
              "      <th>jumbo</th>\n",
              "      <th>large</th>\n",
              "      <th>medium</th>\n",
              "      <th>regular</th>\n",
              "      <th>small</th>\n",
              "      <th>yes_es</th>\n",
              "      <th>yes_ec</th>\n",
              "      <th>yes_em</th>\n",
              "    </tr>\n",
              "  </thead>\n",
              "  <tbody>\n",
              "    <tr>\n",
              "      <th>0</th>\n",
              "      <td>A</td>\n",
              "      <td>29</td>\n",
              "      <td>22.0</td>\n",
              "      <td>False</td>\n",
              "      <td>True</td>\n",
              "      <td>False</td>\n",
              "      <td>False</td>\n",
              "      <td>False</td>\n",
              "      <td>False</td>\n",
              "      <td>False</td>\n",
              "      <td>...</td>\n",
              "      <td>False</td>\n",
              "      <td>False</td>\n",
              "      <td>True</td>\n",
              "      <td>False</td>\n",
              "      <td>False</td>\n",
              "      <td>False</td>\n",
              "      <td>False</td>\n",
              "      <td>True</td>\n",
              "      <td>True</td>\n",
              "      <td>False</td>\n",
              "    </tr>\n",
              "    <tr>\n",
              "      <th>1</th>\n",
              "      <td>A</td>\n",
              "      <td>25</td>\n",
              "      <td>20.0</td>\n",
              "      <td>False</td>\n",
              "      <td>False</td>\n",
              "      <td>False</td>\n",
              "      <td>False</td>\n",
              "      <td>False</td>\n",
              "      <td>False</td>\n",
              "      <td>True</td>\n",
              "      <td>...</td>\n",
              "      <td>False</td>\n",
              "      <td>False</td>\n",
              "      <td>True</td>\n",
              "      <td>False</td>\n",
              "      <td>False</td>\n",
              "      <td>False</td>\n",
              "      <td>False</td>\n",
              "      <td>True</td>\n",
              "      <td>True</td>\n",
              "      <td>False</td>\n",
              "    </tr>\n",
              "    <tr>\n",
              "      <th>2</th>\n",
              "      <td>A</td>\n",
              "      <td>19</td>\n",
              "      <td>16.0</td>\n",
              "      <td>False</td>\n",
              "      <td>False</td>\n",
              "      <td>False</td>\n",
              "      <td>False</td>\n",
              "      <td>True</td>\n",
              "      <td>False</td>\n",
              "      <td>False</td>\n",
              "      <td>...</td>\n",
              "      <td>False</td>\n",
              "      <td>False</td>\n",
              "      <td>False</td>\n",
              "      <td>False</td>\n",
              "      <td>False</td>\n",
              "      <td>True</td>\n",
              "      <td>False</td>\n",
              "      <td>True</td>\n",
              "      <td>True</td>\n",
              "      <td>True</td>\n",
              "    </tr>\n",
              "  </tbody>\n",
              "</table>\n",
              "<p>3 rows × 41 columns</p>\n",
              "</div>\n",
              "    <div class=\"colab-df-buttons\">\n",
              "\n",
              "  <div class=\"colab-df-container\">\n",
              "    <button class=\"colab-df-convert\" onclick=\"convertToInteractive('df-192d195f-3986-4e77-8c79-48eafb61f9ae')\"\n",
              "            title=\"Convert this dataframe to an interactive table.\"\n",
              "            style=\"display:none;\">\n",
              "\n",
              "  <svg xmlns=\"http://www.w3.org/2000/svg\" height=\"24px\" viewBox=\"0 -960 960 960\">\n",
              "    <path d=\"M120-120v-720h720v720H120Zm60-500h600v-160H180v160Zm220 220h160v-160H400v160Zm0 220h160v-160H400v160ZM180-400h160v-160H180v160Zm440 0h160v-160H620v160ZM180-180h160v-160H180v160Zm440 0h160v-160H620v160Z\"/>\n",
              "  </svg>\n",
              "    </button>\n",
              "\n",
              "  <style>\n",
              "    .colab-df-container {\n",
              "      display:flex;\n",
              "      gap: 12px;\n",
              "    }\n",
              "\n",
              "    .colab-df-convert {\n",
              "      background-color: #E8F0FE;\n",
              "      border: none;\n",
              "      border-radius: 50%;\n",
              "      cursor: pointer;\n",
              "      display: none;\n",
              "      fill: #1967D2;\n",
              "      height: 32px;\n",
              "      padding: 0 0 0 0;\n",
              "      width: 32px;\n",
              "    }\n",
              "\n",
              "    .colab-df-convert:hover {\n",
              "      background-color: #E2EBFA;\n",
              "      box-shadow: 0px 1px 2px rgba(60, 64, 67, 0.3), 0px 1px 3px 1px rgba(60, 64, 67, 0.15);\n",
              "      fill: #174EA6;\n",
              "    }\n",
              "\n",
              "    .colab-df-buttons div {\n",
              "      margin-bottom: 4px;\n",
              "    }\n",
              "\n",
              "    [theme=dark] .colab-df-convert {\n",
              "      background-color: #3B4455;\n",
              "      fill: #D2E3FC;\n",
              "    }\n",
              "\n",
              "    [theme=dark] .colab-df-convert:hover {\n",
              "      background-color: #434B5C;\n",
              "      box-shadow: 0px 1px 3px 1px rgba(0, 0, 0, 0.15);\n",
              "      filter: drop-shadow(0px 1px 2px rgba(0, 0, 0, 0.3));\n",
              "      fill: #FFFFFF;\n",
              "    }\n",
              "  </style>\n",
              "\n",
              "    <script>\n",
              "      const buttonEl =\n",
              "        document.querySelector('#df-192d195f-3986-4e77-8c79-48eafb61f9ae button.colab-df-convert');\n",
              "      buttonEl.style.display =\n",
              "        google.colab.kernel.accessAllowed ? 'block' : 'none';\n",
              "\n",
              "      async function convertToInteractive(key) {\n",
              "        const element = document.querySelector('#df-192d195f-3986-4e77-8c79-48eafb61f9ae');\n",
              "        const dataTable =\n",
              "          await google.colab.kernel.invokeFunction('convertToInteractive',\n",
              "                                                    [key], {});\n",
              "        if (!dataTable) return;\n",
              "\n",
              "        const docLinkHtml = 'Like what you see? Visit the ' +\n",
              "          '<a target=\"_blank\" href=https://colab.research.google.com/notebooks/data_table.ipynb>data table notebook</a>'\n",
              "          + ' to learn more about interactive tables.';\n",
              "        element.innerHTML = '';\n",
              "        dataTable['output_type'] = 'display_data';\n",
              "        await google.colab.output.renderOutput(dataTable, element);\n",
              "        const docLink = document.createElement('div');\n",
              "        docLink.innerHTML = docLinkHtml;\n",
              "        element.appendChild(docLink);\n",
              "      }\n",
              "    </script>\n",
              "  </div>\n",
              "\n",
              "\n",
              "<div id=\"df-9c5282df-3645-4b6e-a942-10af66861a63\">\n",
              "  <button class=\"colab-df-quickchart\" onclick=\"quickchart('df-9c5282df-3645-4b6e-a942-10af66861a63')\"\n",
              "            title=\"Suggest charts\"\n",
              "            style=\"display:none;\">\n",
              "\n",
              "<svg xmlns=\"http://www.w3.org/2000/svg\" height=\"24px\"viewBox=\"0 0 24 24\"\n",
              "     width=\"24px\">\n",
              "    <g>\n",
              "        <path d=\"M19 3H5c-1.1 0-2 .9-2 2v14c0 1.1.9 2 2 2h14c1.1 0 2-.9 2-2V5c0-1.1-.9-2-2-2zM9 17H7v-7h2v7zm4 0h-2V7h2v10zm4 0h-2v-4h2v4z\"/>\n",
              "    </g>\n",
              "</svg>\n",
              "  </button>\n",
              "\n",
              "<style>\n",
              "  .colab-df-quickchart {\n",
              "      --bg-color: #E8F0FE;\n",
              "      --fill-color: #1967D2;\n",
              "      --hover-bg-color: #E2EBFA;\n",
              "      --hover-fill-color: #174EA6;\n",
              "      --disabled-fill-color: #AAA;\n",
              "      --disabled-bg-color: #DDD;\n",
              "  }\n",
              "\n",
              "  [theme=dark] .colab-df-quickchart {\n",
              "      --bg-color: #3B4455;\n",
              "      --fill-color: #D2E3FC;\n",
              "      --hover-bg-color: #434B5C;\n",
              "      --hover-fill-color: #FFFFFF;\n",
              "      --disabled-bg-color: #3B4455;\n",
              "      --disabled-fill-color: #666;\n",
              "  }\n",
              "\n",
              "  .colab-df-quickchart {\n",
              "    background-color: var(--bg-color);\n",
              "    border: none;\n",
              "    border-radius: 50%;\n",
              "    cursor: pointer;\n",
              "    display: none;\n",
              "    fill: var(--fill-color);\n",
              "    height: 32px;\n",
              "    padding: 0;\n",
              "    width: 32px;\n",
              "  }\n",
              "\n",
              "  .colab-df-quickchart:hover {\n",
              "    background-color: var(--hover-bg-color);\n",
              "    box-shadow: 0 1px 2px rgba(60, 64, 67, 0.3), 0 1px 3px 1px rgba(60, 64, 67, 0.15);\n",
              "    fill: var(--button-hover-fill-color);\n",
              "  }\n",
              "\n",
              "  .colab-df-quickchart-complete:disabled,\n",
              "  .colab-df-quickchart-complete:disabled:hover {\n",
              "    background-color: var(--disabled-bg-color);\n",
              "    fill: var(--disabled-fill-color);\n",
              "    box-shadow: none;\n",
              "  }\n",
              "\n",
              "  .colab-df-spinner {\n",
              "    border: 2px solid var(--fill-color);\n",
              "    border-color: transparent;\n",
              "    border-bottom-color: var(--fill-color);\n",
              "    animation:\n",
              "      spin 1s steps(1) infinite;\n",
              "  }\n",
              "\n",
              "  @keyframes spin {\n",
              "    0% {\n",
              "      border-color: transparent;\n",
              "      border-bottom-color: var(--fill-color);\n",
              "      border-left-color: var(--fill-color);\n",
              "    }\n",
              "    20% {\n",
              "      border-color: transparent;\n",
              "      border-left-color: var(--fill-color);\n",
              "      border-top-color: var(--fill-color);\n",
              "    }\n",
              "    30% {\n",
              "      border-color: transparent;\n",
              "      border-left-color: var(--fill-color);\n",
              "      border-top-color: var(--fill-color);\n",
              "      border-right-color: var(--fill-color);\n",
              "    }\n",
              "    40% {\n",
              "      border-color: transparent;\n",
              "      border-right-color: var(--fill-color);\n",
              "      border-top-color: var(--fill-color);\n",
              "    }\n",
              "    60% {\n",
              "      border-color: transparent;\n",
              "      border-right-color: var(--fill-color);\n",
              "    }\n",
              "    80% {\n",
              "      border-color: transparent;\n",
              "      border-right-color: var(--fill-color);\n",
              "      border-bottom-color: var(--fill-color);\n",
              "    }\n",
              "    90% {\n",
              "      border-color: transparent;\n",
              "      border-bottom-color: var(--fill-color);\n",
              "    }\n",
              "  }\n",
              "</style>\n",
              "\n",
              "  <script>\n",
              "    async function quickchart(key) {\n",
              "      const quickchartButtonEl =\n",
              "        document.querySelector('#' + key + ' button');\n",
              "      quickchartButtonEl.disabled = true;  // To prevent multiple clicks.\n",
              "      quickchartButtonEl.classList.add('colab-df-spinner');\n",
              "      try {\n",
              "        const charts = await google.colab.kernel.invokeFunction(\n",
              "            'suggestCharts', [key], {});\n",
              "      } catch (error) {\n",
              "        console.error('Error during call to suggestCharts:', error);\n",
              "      }\n",
              "      quickchartButtonEl.classList.remove('colab-df-spinner');\n",
              "      quickchartButtonEl.classList.add('colab-df-quickchart-complete');\n",
              "    }\n",
              "    (() => {\n",
              "      let quickchartButtonEl =\n",
              "        document.querySelector('#df-9c5282df-3645-4b6e-a942-10af66861a63 button');\n",
              "      quickchartButtonEl.style.display =\n",
              "        google.colab.kernel.accessAllowed ? 'block' : 'none';\n",
              "    })();\n",
              "  </script>\n",
              "</div>\n",
              "\n",
              "    </div>\n",
              "  </div>\n"
            ],
            "application/vnd.google.colaboratory.intrinsic+json": {
              "type": "dataframe",
              "variable_name": "dataset"
            }
          },
          "metadata": {},
          "execution_count": 3
        }
      ]
    },
    {
      "cell_type": "markdown",
      "source": [
        "# Split dataset into training and testing"
      ],
      "metadata": {
        "id": "W4NCc1zMysMV"
      }
    },
    {
      "cell_type": "code",
      "source": [
        "#predicting the company name based on certain features\n",
        "y = dataset['company']\n",
        "print(y)"
      ],
      "metadata": {
        "colab": {
          "base_uri": "https://localhost:8080/"
        },
        "id": "UULNhsTvgEqz",
        "outputId": "3f90222e-1064-4b9a-c92c-188b6e83e92f"
      },
      "execution_count": 4,
      "outputs": [
        {
          "output_type": "stream",
          "name": "stdout",
          "text": [
            "0      A\n",
            "1      A\n",
            "2      A\n",
            "3      A\n",
            "4      A\n",
            "      ..\n",
            "124    E\n",
            "125    E\n",
            "126    E\n",
            "127    E\n",
            "128    E\n",
            "Name: company, Length: 129, dtype: object\n"
          ]
        }
      ]
    },
    {
      "cell_type": "code",
      "source": [
        "#dropped the features that are probably not relevant to the model\n",
        "X = dataset.drop(['company'], axis=1)\n",
        "print(X)"
      ],
      "metadata": {
        "colab": {
          "base_uri": "https://localhost:8080/"
        },
        "id": "wytcL5gfgKdn",
        "outputId": "c4cea766-097a-49c5-a1eb-edd339e285bb"
      },
      "execution_count": 5,
      "outputs": [
        {
          "output_type": "stream",
          "name": "stdout",
          "text": [
            "     price_cad  diameter_in  black_pepper  chicken   meat  mozzarella  \\\n",
            "0           29         22.0         False     True  False       False   \n",
            "1           25         20.0         False    False  False       False   \n",
            "2           19         16.0         False    False  False       False   \n",
            "3           22         14.0         False    False  False       False   \n",
            "4           30         18.0         False    False  False        True   \n",
            "..         ...          ...           ...      ...    ...         ...   \n",
            "124         11          8.5         False    False  False       False   \n",
            "125         14         12.0         False    False  False       False   \n",
            "126         17         14.0         False    False  False       False   \n",
            "127         12          8.5         False    False   True       False   \n",
            "128         15         12.0         False    False   True       False   \n",
            "\n",
            "     mushrooms  onion  pepperoni  sausage  ...  super_supreme  thai_veggie  \\\n",
            "0        False  False      False    False  ...          False        False   \n",
            "1        False  False       True    False  ...          False        False   \n",
            "2         True  False      False    False  ...          False        False   \n",
            "3        False  False      False    False  ...          False        False   \n",
            "4        False  False      False    False  ...          False        False   \n",
            "..         ...    ...        ...      ...  ...            ...          ...   \n",
            "124      False  False      False    False  ...          False        False   \n",
            "125      False  False      False    False  ...          False        False   \n",
            "126      False  False      False    False  ...          False        False   \n",
            "127      False  False      False    False  ...          False        False   \n",
            "128      False  False      False    False  ...          False        False   \n",
            "\n",
            "     jumbo  large  medium  regular  small  yes_es  yes_ec  yes_em  \n",
            "0     True  False   False    False  False    True    True   False  \n",
            "1     True  False   False    False  False    True    True   False  \n",
            "2    False  False   False     True  False    True    True    True  \n",
            "3    False  False   False     True  False    True   False    True  \n",
            "4     True  False   False    False  False    True   False    True  \n",
            "..     ...    ...     ...      ...    ...     ...     ...     ...  \n",
            "124  False  False   False    False   True    True    True    True  \n",
            "125  False  False    True    False  False    True    True    True  \n",
            "126  False   True   False    False  False    True    True    True  \n",
            "127  False  False   False    False   True    True   False    True  \n",
            "128  False  False    True    False  False   False   False    True  \n",
            "\n",
            "[129 rows x 40 columns]\n"
          ]
        }
      ]
    },
    {
      "cell_type": "code",
      "source": [
        "#do testing/training split - need different code for own data b/c no .data or .target\n",
        "from sklearn.model_selection import train_test_split\n",
        "\n",
        "X_train, X_test, y_train, y_test = train_test_split(X, y, random_state=0, stratify=y)"
      ],
      "metadata": {
        "id": "siC8ZjyQehCY"
      },
      "execution_count": 6,
      "outputs": []
    },
    {
      "cell_type": "markdown",
      "source": [
        "# Examine target attribute - company - as this is a categorical variable, I chose to visualize it with a bar plot."
      ],
      "metadata": {
        "id": "U5cM5qLfzDJ_"
      }
    },
    {
      "cell_type": "code",
      "source": [
        "plt.bar(y_train.value_counts().index, y_train.value_counts())\n",
        "plt.xlabel(\"Company\")\n",
        "plt.ylabel(\"Count\")\n",
        "plt.show()"
      ],
      "metadata": {
        "id": "Uz4KDaD4zJ_T",
        "colab": {
          "base_uri": "https://localhost:8080/",
          "height": 449
        },
        "outputId": "ccbb8d14-6c1b-4f3e-88fe-ffafce11e787"
      },
      "execution_count": 7,
      "outputs": [
        {
          "output_type": "display_data",
          "data": {
            "text/plain": [
              "<Figure size 640x480 with 1 Axes>"
            ],
            "image/png": "[encoded data removed]"
          },
          "metadata": {}
        }
      ]
    },
    {
      "cell_type": "markdown",
      "source": [
        "# **K-Nearest Neighbor**"
      ],
      "metadata": {
        "id": "-ElAKdSEgzbt"
      }
    },
    {
      "cell_type": "code",
      "source": [
        "#import KNN clasifier and fit to training data\n",
        "from sklearn.neighbors import KNeighborsClassifier\n",
        "\n",
        "\n",
        "\n",
        "knn = KNeighborsClassifier(n_neighbors=1)\n",
        "knn.fit(X_train, y_train)"
      ],
      "metadata": {
        "colab": {
          "base_uri": "https://localhost:8080/",
          "height": 74
        },
        "id": "i4p4v8qugy6g",
        "outputId": "b27a1962-9002-49b4-8083-dca87a580b88"
      },
      "execution_count": 8,
      "outputs": [
        {
          "output_type": "execute_result",
          "data": {
            "text/plain": [
              "KNeighborsClassifier(n_neighbors=1)"
            ],
            "text/html": [
              "<style>#sk-container-id-1 {color: black;background-color: white;}#sk-container-id-1 pre{padding: 0;}#sk-container-id-1 div.sk-toggleable {background-color: white;}#sk-container-id-1 label.sk-toggleable__label {cursor: pointer;display: block;width: 100%;margin-bottom: 0;padding: 0.3em;box-sizing: border-box;text-align: center;}#sk-container-id-1 label.sk-toggleable__label-arrow:before {content: \"▸\";float: left;margin-right: 0.25em;color: #696969;}#sk-container-id-1 label.sk-toggleable__label-arrow:hover:before {color: black;}#sk-container-id-1 div.sk-estimator:hover label.sk-toggleable__label-arrow:before {color: black;}#sk-container-id-1 div.sk-toggleable__content {max-height: 0;max-width: 0;overflow: hidden;text-align: left;background-color: #f0f8ff;}#sk-container-id-1 div.sk-toggleable__content pre {margin: 0.2em;color: black;border-radius: 0.25em;background-color: #f0f8ff;}#sk-container-id-1 input.sk-toggleable__control:checked~div.sk-toggleable__content {max-height: 200px;max-width: 100%;overflow: auto;}#sk-container-id-1 input.sk-toggleable__control:checked~label.sk-toggleable__label-arrow:before {content: \"▾\";}#sk-container-id-1 div.sk-estimator input.sk-toggleable__control:checked~label.sk-toggleable__label {background-color: #d4ebff;}#sk-container-id-1 div.sk-label input.sk-toggleable__control:checked~label.sk-toggleable__label {background-color: #d4ebff;}#sk-container-id-1 input.sk-hidden--visually {border: 0;clip: rect(1px 1px 1px 1px);clip: rect(1px, 1px, 1px, 1px);height: 1px;margin: -1px;overflow: hidden;padding: 0;position: absolute;width: 1px;}#sk-container-id-1 div.sk-estimator {font-family: monospace;background-color: #f0f8ff;border: 1px dotted black;border-radius: 0.25em;box-sizing: border-box;margin-bottom: 0.5em;}#sk-container-id-1 div.sk-estimator:hover {background-color: #d4ebff;}#sk-container-id-1 div.sk-parallel-item::after {content: \"\";width: 100%;border-bottom: 1px solid gray;flex-grow: 1;}#sk-container-id-1 div.sk-label:hover label.sk-toggleable__label {background-color: #d4ebff;}#sk-container-id-1 div.sk-serial::before {content: \"\";position: absolute;border-left: 1px solid gray;box-sizing: border-box;top: 0;bottom: 0;left: 50%;z-index: 0;}#sk-container-id-1 div.sk-serial {display: flex;flex-direction: column;align-items: center;background-color: white;padding-right: 0.2em;padding-left: 0.2em;position: relative;}#sk-container-id-1 div.sk-item {position: relative;z-index: 1;}#sk-container-id-1 div.sk-parallel {display: flex;align-items: stretch;justify-content: center;background-color: white;position: relative;}#sk-container-id-1 div.sk-item::before, #sk-container-id-1 div.sk-parallel-item::before {content: \"\";position: absolute;border-left: 1px solid gray;box-sizing: border-box;top: 0;bottom: 0;left: 50%;z-index: -1;}#sk-container-id-1 div.sk-parallel-item {display: flex;flex-direction: column;z-index: 1;position: relative;background-color: white;}#sk-container-id-1 div.sk-parallel-item:first-child::after {align-self: flex-end;width: 50%;}#sk-container-id-1 div.sk-parallel-item:last-child::after {align-self: flex-start;width: 50%;}#sk-container-id-1 div.sk-parallel-item:only-child::after {width: 0;}#sk-container-id-1 div.sk-dashed-wrapped {border: 1px dashed gray;margin: 0 0.4em 0.5em 0.4em;box-sizing: border-box;padding-bottom: 0.4em;background-color: white;}#sk-container-id-1 div.sk-label label {font-family: monospace;font-weight: bold;display: inline-block;line-height: 1.2em;}#sk-container-id-1 div.sk-label-container {text-align: center;}#sk-container-id-1 div.sk-container {/* jupyter's `normalize.less` sets `[hidden] { display: none; }` but bootstrap.min.css set `[hidden] { display: none !important; }` so we also need the `!important` here to be able to override the default hidden behavior on the sphinx rendered scikit-learn.org. See: https://github.com/scikit-learn/scikit-learn/issues/21755 */display: inline-block !important;position: relative;}#sk-container-id-1 div.sk-text-repr-fallback {display: none;}</style><div id=\"sk-container-id-1\" class=\"sk-top-container\"><div class=\"sk-text-repr-fallback\"><pre>KNeighborsClassifier(n_neighbors=1)</pre><b>In a Jupyter environment, please rerun this cell to show the HTML representation or trust the notebook. <br />On GitHub, the HTML representation is unable to render, please try loading this page with nbviewer.org.</b></div><div class=\"sk-container\" hidden><div class=\"sk-item\"><div class=\"sk-estimator sk-toggleable\"><input class=\"sk-toggleable__control sk-hidden--visually\" id=\"sk-estimator-id-1\" type=\"checkbox\" checked><label for=\"sk-estimator-id-1\" class=\"sk-toggleable__label sk-toggleable__label-arrow\">KNeighborsClassifier</label><div class=\"sk-toggleable__content\"><pre>KNeighborsClassifier(n_neighbors=1)</pre></div></div></div></div></div>"
            ]
          },
          "metadata": {},
          "execution_count": 8
        }
      ]
    },
    {
      "cell_type": "markdown",
      "source": [
        "## Grid Search"
      ],
      "metadata": {
        "id": "bi3UE2SpGnSO"
      }
    },
    {
      "cell_type": "code",
      "source": [
        "from sklearn.model_selection import GridSearchCV\n",
        "\n",
        "#dictionary of all values of k\n",
        "param_grid = {\"n_neighbors\": np.arange(1, 25)}\n",
        "\n",
        "#grid search on all values of k in dictionary\n",
        "knn_gscv = GridSearchCV(knn, param_grid, cv=5)\n",
        "knn_gscv.fit(X_train, y_train)"
      ],
      "metadata": {
        "colab": {
          "base_uri": "https://localhost:8080/",
          "height": 117
        },
        "id": "UP2AXAe8Gl0j",
        "outputId": "6e967bdc-4255-44ad-fd59-bd42c67cef05"
      },
      "execution_count": 9,
      "outputs": [
        {
          "output_type": "execute_result",
          "data": {
            "text/plain": [
              "GridSearchCV(cv=5, estimator=KNeighborsClassifier(n_neighbors=1),\n",
              "             param_grid={'n_neighbors': array([ 1,  2,  3,  4,  5,  6,  7,  8,  9, 10, 11, 12, 13, 14, 15, 16, 17,\n",
              "       18, 19, 20, 21, 22, 23, 24])})"
            ],
            "text/html": [
              "<style>#sk-container-id-2 {color: black;background-color: white;}#sk-container-id-2 pre{padding: 0;}#sk-container-id-2 div.sk-toggleable {background-color: white;}#sk-container-id-2 label.sk-toggleable__label {cursor: pointer;display: block;width: 100%;margin-bottom: 0;padding: 0.3em;box-sizing: border-box;text-align: center;}#sk-container-id-2 label.sk-toggleable__label-arrow:before {content: \"▸\";float: left;margin-right: 0.25em;color: #696969;}#sk-container-id-2 label.sk-toggleable__label-arrow:hover:before {color: black;}#sk-container-id-2 div.sk-estimator:hover label.sk-toggleable__label-arrow:before {color: black;}#sk-container-id-2 div.sk-toggleable__content {max-height: 0;max-width: 0;overflow: hidden;text-align: left;background-color: #f0f8ff;}#sk-container-id-2 div.sk-toggleable__content pre {margin: 0.2em;color: black;border-radius: 0.25em;background-color: #f0f8ff;}#sk-container-id-2 input.sk-toggleable__control:checked~div.sk-toggleable__content {max-height: 200px;max-width: 100%;overflow: auto;}#sk-container-id-2 input.sk-toggleable__control:checked~label.sk-toggleable__label-arrow:before {content: \"▾\";}#sk-container-id-2 div.sk-estimator input.sk-toggleable__control:checked~label.sk-toggleable__label {background-color: #d4ebff;}#sk-container-id-2 div.sk-label input.sk-toggleable__control:checked~label.sk-toggleable__label {background-color: #d4ebff;}#sk-container-id-2 input.sk-hidden--visually {border: 0;clip: rect(1px 1px 1px 1px);clip: rect(1px, 1px, 1px, 1px);height: 1px;margin: -1px;overflow: hidden;padding: 0;position: absolute;width: 1px;}#sk-container-id-2 div.sk-estimator {font-family: monospace;background-color: #f0f8ff;border: 1px dotted black;border-radius: 0.25em;box-sizing: border-box;margin-bottom: 0.5em;}#sk-container-id-2 div.sk-estimator:hover {background-color: #d4ebff;}#sk-container-id-2 div.sk-parallel-item::after {content: \"\";width: 100%;border-bottom: 1px solid gray;flex-grow: 1;}#sk-container-id-2 div.sk-label:hover label.sk-toggleable__label {background-color: #d4ebff;}#sk-container-id-2 div.sk-serial::before {content: \"\";position: absolute;border-left: 1px solid gray;box-sizing: border-box;top: 0;bottom: 0;left: 50%;z-index: 0;}#sk-container-id-2 div.sk-serial {display: flex;flex-direction: column;align-items: center;background-color: white;padding-right: 0.2em;padding-left: 0.2em;position: relative;}#sk-container-id-2 div.sk-item {position: relative;z-index: 1;}#sk-container-id-2 div.sk-parallel {display: flex;align-items: stretch;justify-content: center;background-color: white;position: relative;}#sk-container-id-2 div.sk-item::before, #sk-container-id-2 div.sk-parallel-item::before {content: \"\";position: absolute;border-left: 1px solid gray;box-sizing: border-box;top: 0;bottom: 0;left: 50%;z-index: -1;}#sk-container-id-2 div.sk-parallel-item {display: flex;flex-direction: column;z-index: 1;position: relative;background-color: white;}#sk-container-id-2 div.sk-parallel-item:first-child::after {align-self: flex-end;width: 50%;}#sk-container-id-2 div.sk-parallel-item:last-child::after {align-self: flex-start;width: 50%;}#sk-container-id-2 div.sk-parallel-item:only-child::after {width: 0;}#sk-container-id-2 div.sk-dashed-wrapped {border: 1px dashed gray;margin: 0 0.4em 0.5em 0.4em;box-sizing: border-box;padding-bottom: 0.4em;background-color: white;}#sk-container-id-2 div.sk-label label {font-family: monospace;font-weight: bold;display: inline-block;line-height: 1.2em;}#sk-container-id-2 div.sk-label-container {text-align: center;}#sk-container-id-2 div.sk-container {/* jupyter's `normalize.less` sets `[hidden] { display: none; }` but bootstrap.min.css set `[hidden] { display: none !important; }` so we also need the `!important` here to be able to override the default hidden behavior on the sphinx rendered scikit-learn.org. See: https://github.com/scikit-learn/scikit-learn/issues/21755 */display: inline-block !important;position: relative;}#sk-container-id-2 div.sk-text-repr-fallback {display: none;}</style><div id=\"sk-container-id-2\" class=\"sk-top-container\"><div class=\"sk-text-repr-fallback\"><pre>GridSearchCV(cv=5, estimator=KNeighborsClassifier(n_neighbors=1),\n",
              "             param_grid={&#x27;n_neighbors&#x27;: array([ 1,  2,  3,  4,  5,  6,  7,  8,  9, 10, 11, 12, 13, 14, 15, 16, 17,\n",
              "       18, 19, 20, 21, 22, 23, 24])})</pre><b>In a Jupyter environment, please rerun this cell to show the HTML representation or trust the notebook. <br />On GitHub, the HTML representation is unable to render, please try loading this page with nbviewer.org.</b></div><div class=\"sk-container\" hidden><div class=\"sk-item sk-dashed-wrapped\"><div class=\"sk-label-container\"><div class=\"sk-label sk-toggleable\"><input class=\"sk-toggleable__control sk-hidden--visually\" id=\"sk-estimator-id-2\" type=\"checkbox\" ><label for=\"sk-estimator-id-2\" class=\"sk-toggleable__label sk-toggleable__label-arrow\">GridSearchCV</label><div class=\"sk-toggleable__content\"><pre>GridSearchCV(cv=5, estimator=KNeighborsClassifier(n_neighbors=1),\n",
              "             param_grid={&#x27;n_neighbors&#x27;: array([ 1,  2,  3,  4,  5,  6,  7,  8,  9, 10, 11, 12, 13, 14, 15, 16, 17,\n",
              "       18, 19, 20, 21, 22, 23, 24])})</pre></div></div></div><div class=\"sk-parallel\"><div class=\"sk-parallel-item\"><div class=\"sk-item\"><div class=\"sk-label-container\"><div class=\"sk-label sk-toggleable\"><input class=\"sk-toggleable__control sk-hidden--visually\" id=\"sk-estimator-id-3\" type=\"checkbox\" ><label for=\"sk-estimator-id-3\" class=\"sk-toggleable__label sk-toggleable__label-arrow\">estimator: KNeighborsClassifier</label><div class=\"sk-toggleable__content\"><pre>KNeighborsClassifier(n_neighbors=1)</pre></div></div></div><div class=\"sk-serial\"><div class=\"sk-item\"><div class=\"sk-estimator sk-toggleable\"><input class=\"sk-toggleable__control sk-hidden--visually\" id=\"sk-estimator-id-4\" type=\"checkbox\" ><label for=\"sk-estimator-id-4\" class=\"sk-toggleable__label sk-toggleable__label-arrow\">KNeighborsClassifier</label><div class=\"sk-toggleable__content\"><pre>KNeighborsClassifier(n_neighbors=1)</pre></div></div></div></div></div></div></div></div></div></div>"
            ]
          },
          "metadata": {},
          "execution_count": 9
        }
      ]
    },
    {
      "cell_type": "code",
      "source": [
        "print(\"Test set score: {:.2f}\".format(knn.score(X_test, y_test)))"
      ],
      "metadata": {
        "colab": {
          "base_uri": "https://localhost:8080/"
        },
        "id": "8Gn6Cl_ehN6y",
        "outputId": "eb2620c3-5a5d-41cd-8930-09c2e29c5366"
      },
      "execution_count": 10,
      "outputs": [
        {
          "output_type": "stream",
          "name": "stdout",
          "text": [
            "Test set score: 0.33\n"
          ]
        }
      ]
    },
    {
      "cell_type": "code",
      "source": [
        "# generate list of predictions for y2_test\n",
        "y_pred = knn.predict(X_test)"
      ],
      "metadata": {
        "id": "zIEmV9nPhfw6"
      },
      "execution_count": 11,
      "outputs": []
    },
    {
      "cell_type": "code",
      "source": [
        "# generate a confusion matrix on pizza data - shows where model might be making mistakes\n",
        "# model failing in the confusion b/w class 2 & class 3\n",
        "from sklearn.metrics import confusion_matrix\n",
        "\n",
        "confusion_matrix(y_test, y_pred)"
      ],
      "metadata": {
        "colab": {
          "base_uri": "https://localhost:8080/"
        },
        "id": "0p9Kt965hi2A",
        "outputId": "4faa29c5-da1e-48f5-8c03-fbc36a515b11"
      },
      "execution_count": 12,
      "outputs": [
        {
          "output_type": "execute_result",
          "data": {
            "text/plain": [
              "array([[1, 0, 0, 5, 0],\n",
              "       [0, 1, 0, 0, 5],\n",
              "       [0, 0, 7, 0, 1],\n",
              "       [3, 2, 0, 0, 0],\n",
              "       [0, 4, 2, 0, 2]])"
            ]
          },
          "metadata": {},
          "execution_count": 12
        }
      ]
    },
    {
      "cell_type": "code",
      "source": [
        "# calculate class-wise precision score on pizza data\n",
        "from sklearn.metrics import precision_score\n",
        "precision_score(y_test, y_pred, average=None)"
      ],
      "metadata": {
        "colab": {
          "base_uri": "https://localhost:8080/"
        },
        "id": "d8KPRVXKhiLz",
        "outputId": "8bf0c75e-df94-473f-bd48-97f725bc3625"
      },
      "execution_count": 13,
      "outputs": [
        {
          "output_type": "execute_result",
          "data": {
            "text/plain": [
              "array([0.25      , 0.14285714, 0.77777778, 0.        , 0.25      ])"
            ]
          },
          "metadata": {},
          "execution_count": 13
        }
      ]
    },
    {
      "cell_type": "code",
      "source": [
        "# calculate class-wise recall score on iris data\n",
        "from sklearn.metrics import recall_score\n",
        "recall_score(y_test, y_pred, average=None)"
      ],
      "metadata": {
        "colab": {
          "base_uri": "https://localhost:8080/"
        },
        "id": "wP56coMmhsnc",
        "outputId": "2bda933f-b7eb-4372-890a-a6a15dc56d96"
      },
      "execution_count": 14,
      "outputs": [
        {
          "output_type": "execute_result",
          "data": {
            "text/plain": [
              "array([0.16666667, 0.16666667, 0.875     , 0.        , 0.25      ])"
            ]
          },
          "metadata": {},
          "execution_count": 14
        }
      ]
    },
    {
      "cell_type": "code",
      "source": [
        "# calculate overall and class-wise F1-score on iris data\n",
        "from sklearn.metrics import f1_score\n",
        "\n",
        "# Calculate metrics globally by counting the total true positives, false negatives and false positives.\n",
        "print(\"F1 score of micro\")\n",
        "print(f1_score(y_test, y_pred, average='micro'))\n",
        "# Calculate metrics for each label, and find their unweighted mean. This does not take label imbalance into account.\n",
        "print(\"F1 score of macro\")\n",
        "print(f1_score(y_test, y_pred, average='macro'))\n",
        "# Calculate metrics for each label, and find their average weighted by support (the number of true instances for each label). This alters ‘macro’ to account for label imbalance; it can result in an F-score that is not between precision and recall.\n",
        "print(\"F1 score of weighted\")\n",
        "print(f1_score(y_test, y_pred, average='weighted'))\n",
        "\n",
        "# Class-wise, no averaging\n",
        "print('F1 score per class')\n",
        "print(f1_score(y_test, y_pred, average=None))"
      ],
      "metadata": {
        "colab": {
          "base_uri": "https://localhost:8080/"
        },
        "id": "0YoNy38zhvYy",
        "outputId": "b3a2028b-b245-477e-8f22-60dcf90625c5"
      },
      "execution_count": 15,
      "outputs": [
        {
          "output_type": "stream",
          "name": "stdout",
          "text": [
            "F1 score of micro\n",
            "0.3333333333333333\n",
            "F1 score of macro\n",
            "0.28547511312217194\n",
            "F1 score of weighted\n",
            "0.3245852187028658\n",
            "F1 score per class\n",
            "[0.2        0.15384615 0.82352941 0.         0.25      ]\n"
          ]
        }
      ]
    },
    {
      "cell_type": "code",
      "source": [
        "# calculate AUC score (ROC implementation in scikit-learn only works for binary classification) on iris data\n",
        "from sklearn.metrics import roc_auc_score\n",
        "roc_auc_score(y_test, knn.predict_proba(X_test), multi_class='ovr')"
      ],
      "metadata": {
        "colab": {
          "base_uri": "https://localhost:8080/"
        },
        "id": "4skeBhI5h1KA",
        "outputId": "67686622-a99d-44a5-c2b7-ffdd37672261"
      },
      "execution_count": 16,
      "outputs": [
        {
          "output_type": "execute_result",
          "data": {
            "text/plain": [
              "0.5626428571428571"
            ]
          },
          "metadata": {},
          "execution_count": 16
        }
      ]
    },
    {
      "cell_type": "code",
      "source": [
        "from sklearn.linear_model import LogisticRegression\n",
        "logreg = LogisticRegression().fit(X_train, y_train)"
      ],
      "metadata": {
        "colab": {
          "base_uri": "https://localhost:8080/"
        },
        "id": "AjqX--D7iBPV",
        "outputId": "02cbcb08-b1a9-4811-c69a-f9771831d325"
      },
      "execution_count": 17,
      "outputs": [
        {
          "output_type": "stream",
          "name": "stderr",
          "text": [
            "/usr/local/lib/python3.10/dist-packages/sklearn/linear_model/_logistic.py:458: ConvergenceWarning: lbfgs failed to converge (status=1):\n",
            "STOP: TOTAL NO. of ITERATIONS REACHED LIMIT.\n",
            "\n",
            "Increase the number of iterations (max_iter) or scale the data as shown in:\n",
            "    https://scikit-learn.org/stable/modules/preprocessing.html\n",
            "Please also refer to the documentation for alternative solver options:\n",
            "    https://scikit-learn.org/stable/modules/linear_model.html#logistic-regression\n",
            "  n_iter_i = _check_optimize_result(\n"
          ]
        }
      ]
    },
    {
      "cell_type": "code",
      "source": [
        "#best performing k (on training set) - not working\n",
        "knn_gscv.best_params_"
      ],
      "metadata": {
        "colab": {
          "base_uri": "https://localhost:8080/"
        },
        "id": "-t3VuW5eh-U-",
        "outputId": "a8f54c8f-bbde-4b8d-946b-4251f61c1c5b"
      },
      "execution_count": 18,
      "outputs": [
        {
          "output_type": "execute_result",
          "data": {
            "text/plain": [
              "{'n_neighbors': 8}"
            ]
          },
          "metadata": {},
          "execution_count": 18
        }
      ]
    },
    {
      "cell_type": "code",
      "source": [
        "# @title Default title text\n",
        "#accuracy of best performing k\n",
        "\n",
        "# best k (8) performs at 0.49)\n",
        "knn_gscv.best_score_"
      ],
      "metadata": {
        "colab": {
          "base_uri": "https://localhost:8080/"
        },
        "id": "MFcIR9P8iqq9",
        "outputId": "2c187ea3-e965-4e85-c7fb-812b1eb76075"
      },
      "execution_count": 19,
      "outputs": [
        {
          "output_type": "execute_result",
          "data": {
            "text/plain": [
              "0.4905263157894737"
            ]
          },
          "metadata": {},
          "execution_count": 19
        }
      ]
    },
    {
      "cell_type": "markdown",
      "source": [
        "# **Cross Validation Results**"
      ],
      "metadata": {
        "id": "ubmcw8FCjUTX"
      }
    },
    {
      "cell_type": "code",
      "source": [
        "#cross validation results - 8 & 9th k are tied for best and 23rd k is worst performing\n",
        "knn_gscv.cv_results_"
      ],
      "metadata": {
        "id": "0jk2yGaxjLny",
        "colab": {
          "base_uri": "https://localhost:8080/"
        },
        "outputId": "3f303bef-b213-439e-b6ab-b56bea5eea74"
      },
      "execution_count": 20,
      "outputs": [
        {
          "output_type": "execute_result",
          "data": {
            "text/plain": [
              "{'mean_fit_time': array([0.01278834, 0.01304464, 0.01168137, 0.00612259, 0.01526885,\n",
              "        0.01120162, 0.01577339, 0.02249446, 0.01812353, 0.02199483,\n",
              "        0.02160349, 0.01728454, 0.02576141, 0.01678786, 0.01474357,\n",
              "        0.01579704, 0.02486153, 0.01586928, 0.02164884, 0.01314545,\n",
              "        0.01746826, 0.02008924, 0.02104855, 0.01978455]),\n",
              " 'std_fit_time': array([0.00173815, 0.00541538, 0.00588498, 0.00050732, 0.00226066,\n",
              "        0.003434  , 0.00489159, 0.0080079 , 0.01280975, 0.01229416,\n",
              "        0.01877424, 0.00653216, 0.01678762, 0.00420101, 0.00210274,\n",
              "        0.00949705, 0.00773927, 0.0031833 , 0.01029276, 0.0051448 ,\n",
              "        0.00408146, 0.00534796, 0.00502464, 0.00767422]),\n",
              " 'mean_score_time': array([0.0784296 , 0.08688393, 0.01844006, 0.0194828 , 0.02664976,\n",
              "        0.02186942, 0.05981216, 0.06605492, 0.04188218, 0.05381742,\n",
              "        0.02607574, 0.05120125, 0.0433054 , 0.04629173, 0.03161497,\n",
              "        0.03886366, 0.03283582, 0.06988382, 0.07639861, 0.06017542,\n",
              "        0.02750115, 0.03045244, 0.04089842, 0.03941197]),\n",
              " 'std_score_time': array([0.03317478, 0.02256445, 0.01422954, 0.00617597, 0.01146497,\n",
              "        0.00648579, 0.02349952, 0.03012296, 0.01790451, 0.02547489,\n",
              "        0.011289  , 0.02662645, 0.00509143, 0.02628029, 0.01031615,\n",
              "        0.01751075, 0.00726104, 0.04205796, 0.03183941, 0.01373251,\n",
              "        0.00901463, 0.00264429, 0.01846279, 0.01647704]),\n",
              " 'param_n_neighbors': masked_array(data=[1, 2, 3, 4, 5, 6, 7, 8, 9, 10, 11, 12, 13, 14, 15, 16,\n",
              "                    17, 18, 19, 20, 21, 22, 23, 24],\n",
              "              mask=[False, False, False, False, False, False, False, False,\n",
              "                    False, False, False, False, False, False, False, False,\n",
              "                    False, False, False, False, False, False, False, False],\n",
              "        fill_value='?',\n",
              "             dtype=object),\n",
              " 'params': [{'n_neighbors': 1},\n",
              "  {'n_neighbors': 2},\n",
              "  {'n_neighbors': 3},\n",
              "  {'n_neighbors': 4},\n",
              "  {'n_neighbors': 5},\n",
              "  {'n_neighbors': 6},\n",
              "  {'n_neighbors': 7},\n",
              "  {'n_neighbors': 8},\n",
              "  {'n_neighbors': 9},\n",
              "  {'n_neighbors': 10},\n",
              "  {'n_neighbors': 11},\n",
              "  {'n_neighbors': 12},\n",
              "  {'n_neighbors': 13},\n",
              "  {'n_neighbors': 14},\n",
              "  {'n_neighbors': 15},\n",
              "  {'n_neighbors': 16},\n",
              "  {'n_neighbors': 17},\n",
              "  {'n_neighbors': 18},\n",
              "  {'n_neighbors': 19},\n",
              "  {'n_neighbors': 20},\n",
              "  {'n_neighbors': 21},\n",
              "  {'n_neighbors': 22},\n",
              "  {'n_neighbors': 23},\n",
              "  {'n_neighbors': 24}],\n",
              " 'split0_test_score': array([0.3 , 0.35, 0.3 , 0.25, 0.3 , 0.3 , 0.35, 0.4 , 0.4 , 0.4 , 0.4 ,\n",
              "        0.45, 0.35, 0.35, 0.3 , 0.3 , 0.3 , 0.25, 0.25, 0.2 , 0.1 , 0.1 ,\n",
              "        0.1 , 0.1 ]),\n",
              " 'split1_test_score': array([0.26315789, 0.52631579, 0.47368421, 0.52631579, 0.52631579,\n",
              "        0.47368421, 0.52631579, 0.52631579, 0.57894737, 0.47368421,\n",
              "        0.52631579, 0.52631579, 0.47368421, 0.47368421, 0.26315789,\n",
              "        0.31578947, 0.26315789, 0.26315789, 0.26315789, 0.26315789,\n",
              "        0.26315789, 0.21052632, 0.10526316, 0.10526316]),\n",
              " 'split2_test_score': array([0.31578947, 0.36842105, 0.42105263, 0.31578947, 0.42105263,\n",
              "        0.47368421, 0.52631579, 0.63157895, 0.52631579, 0.52631579,\n",
              "        0.57894737, 0.42105263, 0.36842105, 0.42105263, 0.31578947,\n",
              "        0.36842105, 0.36842105, 0.31578947, 0.42105263, 0.36842105,\n",
              "        0.36842105, 0.36842105, 0.31578947, 0.36842105]),\n",
              " 'split3_test_score': array([0.42105263, 0.42105263, 0.63157895, 0.63157895, 0.63157895,\n",
              "        0.52631579, 0.52631579, 0.47368421, 0.52631579, 0.52631579,\n",
              "        0.52631579, 0.36842105, 0.42105263, 0.47368421, 0.47368421,\n",
              "        0.42105263, 0.31578947, 0.36842105, 0.42105263, 0.42105263,\n",
              "        0.31578947, 0.36842105, 0.31578947, 0.31578947]),\n",
              " 'split4_test_score': array([0.21052632, 0.36842105, 0.42105263, 0.47368421, 0.47368421,\n",
              "        0.47368421, 0.42105263, 0.42105263, 0.42105263, 0.42105263,\n",
              "        0.36842105, 0.36842105, 0.31578947, 0.31578947, 0.31578947,\n",
              "        0.31578947, 0.31578947, 0.31578947, 0.36842105, 0.26315789,\n",
              "        0.36842105, 0.26315789, 0.26315789, 0.26315789]),\n",
              " 'mean_test_score': array([0.30210526, 0.40684211, 0.44947368, 0.43947368, 0.47052632,\n",
              "        0.44947368, 0.47      , 0.49052632, 0.49052632, 0.46947368,\n",
              "        0.48      , 0.42684211, 0.38578947, 0.40684211, 0.33368421,\n",
              "        0.34421053, 0.31263158, 0.30263158, 0.34473684, 0.30315789,\n",
              "        0.28315789, 0.26210526, 0.22      , 0.23052632]),\n",
              " 'std_test_score': array([0.06963299, 0.06427951, 0.10743032, 0.13915057, 0.1100793 ,\n",
              "        0.07746682, 0.07253999, 0.08304456, 0.06841295, 0.05225126,\n",
              "        0.0811551 , 0.05880622, 0.05559051, 0.06427951, 0.07259343,\n",
              "        0.04485742, 0.033881  , 0.04243294, 0.07461814, 0.08      ,\n",
              "        0.09955024, 0.10153394, 0.09775315, 0.10961529]),\n",
              " 'rank_test_score': array([20, 11,  7,  9,  4,  7,  5,  1,  1,  6,  3, 10, 13, 11, 16, 15, 17,\n",
              "        19, 14, 18, 21, 22, 24, 23], dtype=int32)}"
            ]
          },
          "metadata": {},
          "execution_count": 20
        }
      ]
    },
    {
      "cell_type": "markdown",
      "source": [
        "# **Best Performing k - adjusted paramter**\n",
        "While the default best performing k is 9 with a score of 0.48, I adjusted the parameter"
      ],
      "metadata": {
        "id": "a_gzZuS2jfoN"
      }
    },
    {
      "cell_type": "code",
      "source": [
        "# accuracy of k = 4 on testing data\n",
        "knn4 = KNeighborsClassifier(n_neighbors=4)\n",
        "knn4.fit(X_train, y_train)\n",
        "print(\"knn score: {}\".format(knn4.score(X_test, y_test)))"
      ],
      "metadata": {
        "id": "uM1RNQAwjkSd",
        "colab": {
          "base_uri": "https://localhost:8080/"
        },
        "outputId": "2bbbe743-75b2-4e54-c0d1-b726be850bd3"
      },
      "execution_count": 21,
      "outputs": [
        {
          "output_type": "stream",
          "name": "stdout",
          "text": [
            "knn score: 0.42424242424242425\n"
          ]
        }
      ]
    },
    {
      "cell_type": "markdown",
      "source": [
        "# **Worst Performing k - adjusted parameter**\n",
        "While the worst performing k is 23 with a score of 0.30, I adjusted the parameter"
      ],
      "metadata": {
        "id": "UmsWbCVHjnfY"
      }
    },
    {
      "cell_type": "code",
      "source": [
        "# accuracy of k = 1 on testing data\n",
        "knn1 = KNeighborsClassifier(n_neighbors=1)\n",
        "knn1.fit(X_train, y_train)\n",
        "print(\"knn score: {}\".format(knn1.score(X_test, y_test)))"
      ],
      "metadata": {
        "id": "a-yS49ovjroV",
        "colab": {
          "base_uri": "https://localhost:8080/"
        },
        "outputId": "99bae7f5-b38b-4bd1-a068-8af7600b8fd6"
      },
      "execution_count": 22,
      "outputs": [
        {
          "output_type": "stream",
          "name": "stdout",
          "text": [
            "knn score: 0.3333333333333333\n"
          ]
        }
      ]
    },
    {
      "cell_type": "markdown",
      "source": [
        "# **Logistic Regression**"
      ],
      "metadata": {
        "id": "2KV4PAljj4lB"
      }
    },
    {
      "cell_type": "code",
      "source": [
        "from sklearn.linear_model import LogisticRegression\n",
        "logreg = LogisticRegression().fit(X_train, y_train)"
      ],
      "metadata": {
        "id": "lhsXwexbj77E",
        "colab": {
          "base_uri": "https://localhost:8080/"
        },
        "outputId": "a408a273-e6cc-42ef-b006-2c78a2d921bc"
      },
      "execution_count": 23,
      "outputs": [
        {
          "output_type": "stream",
          "name": "stderr",
          "text": [
            "/usr/local/lib/python3.10/dist-packages/sklearn/linear_model/_logistic.py:458: ConvergenceWarning: lbfgs failed to converge (status=1):\n",
            "STOP: TOTAL NO. of ITERATIONS REACHED LIMIT.\n",
            "\n",
            "Increase the number of iterations (max_iter) or scale the data as shown in:\n",
            "    https://scikit-learn.org/stable/modules/preprocessing.html\n",
            "Please also refer to the documentation for alternative solver options:\n",
            "    https://scikit-learn.org/stable/modules/linear_model.html#logistic-regression\n",
            "  n_iter_i = _check_optimize_result(\n"
          ]
        }
      ]
    },
    {
      "cell_type": "code",
      "source": [
        "#try increasing max_iter\n",
        "logreg = LogisticRegression(max_iter=10000).fit(X_train, y_train)"
      ],
      "metadata": {
        "id": "CSDRqZFwj_ve"
      },
      "execution_count": 24,
      "outputs": []
    },
    {
      "cell_type": "markdown",
      "source": [
        "# **Grid Search**"
      ],
      "metadata": {
        "id": "LJdi2nHwoUV1"
      }
    },
    {
      "cell_type": "code",
      "source": [
        "from sklearn.model_selection import GridSearchCV\n",
        "\n",
        "\n",
        "#dictionary of all values of c\n",
        "param_grid = {\"C\": [0.001,0.1, 1, 10]}\n",
        "\n",
        "#grid search on all values of k in dictionary for logist regression\n",
        "logreg_gscv = GridSearchCV(logreg, param_grid, cv=5)\n",
        "logreg_gscv.fit(X_train, y_train)"
      ],
      "metadata": {
        "colab": {
          "base_uri": "https://localhost:8080/",
          "height": 117
        },
        "id": "os52SQWloapW",
        "outputId": "65a14e3b-0915-4b59-980d-72b502ff5d7b"
      },
      "execution_count": 25,
      "outputs": [
        {
          "output_type": "execute_result",
          "data": {
            "text/plain": [
              "GridSearchCV(cv=5, estimator=LogisticRegression(max_iter=10000),\n",
              "             param_grid={'C': [0.001, 0.1, 1, 10]})"
            ],
            "text/html": [
              "<style>#sk-container-id-3 {color: black;background-color: white;}#sk-container-id-3 pre{padding: 0;}#sk-container-id-3 div.sk-toggleable {background-color: white;}#sk-container-id-3 label.sk-toggleable__label {cursor: pointer;display: block;width: 100%;margin-bottom: 0;padding: 0.3em;box-sizing: border-box;text-align: center;}#sk-container-id-3 label.sk-toggleable__label-arrow:before {content: \"▸\";float: left;margin-right: 0.25em;color: #696969;}#sk-container-id-3 label.sk-toggleable__label-arrow:hover:before {color: black;}#sk-container-id-3 div.sk-estimator:hover label.sk-toggleable__label-arrow:before {color: black;}#sk-container-id-3 div.sk-toggleable__content {max-height: 0;max-width: 0;overflow: hidden;text-align: left;background-color: #f0f8ff;}#sk-container-id-3 div.sk-toggleable__content pre {margin: 0.2em;color: black;border-radius: 0.25em;background-color: #f0f8ff;}#sk-container-id-3 input.sk-toggleable__control:checked~div.sk-toggleable__content {max-height: 200px;max-width: 100%;overflow: auto;}#sk-container-id-3 input.sk-toggleable__control:checked~label.sk-toggleable__label-arrow:before {content: \"▾\";}#sk-container-id-3 div.sk-estimator input.sk-toggleable__control:checked~label.sk-toggleable__label {background-color: #d4ebff;}#sk-container-id-3 div.sk-label input.sk-toggleable__control:checked~label.sk-toggleable__label {background-color: #d4ebff;}#sk-container-id-3 input.sk-hidden--visually {border: 0;clip: rect(1px 1px 1px 1px);clip: rect(1px, 1px, 1px, 1px);height: 1px;margin: -1px;overflow: hidden;padding: 0;position: absolute;width: 1px;}#sk-container-id-3 div.sk-estimator {font-family: monospace;background-color: #f0f8ff;border: 1px dotted black;border-radius: 0.25em;box-sizing: border-box;margin-bottom: 0.5em;}#sk-container-id-3 div.sk-estimator:hover {background-color: #d4ebff;}#sk-container-id-3 div.sk-parallel-item::after {content: \"\";width: 100%;border-bottom: 1px solid gray;flex-grow: 1;}#sk-container-id-3 div.sk-label:hover label.sk-toggleable__label {background-color: #d4ebff;}#sk-container-id-3 div.sk-serial::before {content: \"\";position: absolute;border-left: 1px solid gray;box-sizing: border-box;top: 0;bottom: 0;left: 50%;z-index: 0;}#sk-container-id-3 div.sk-serial {display: flex;flex-direction: column;align-items: center;background-color: white;padding-right: 0.2em;padding-left: 0.2em;position: relative;}#sk-container-id-3 div.sk-item {position: relative;z-index: 1;}#sk-container-id-3 div.sk-parallel {display: flex;align-items: stretch;justify-content: center;background-color: white;position: relative;}#sk-container-id-3 div.sk-item::before, #sk-container-id-3 div.sk-parallel-item::before {content: \"\";position: absolute;border-left: 1px solid gray;box-sizing: border-box;top: 0;bottom: 0;left: 50%;z-index: -1;}#sk-container-id-3 div.sk-parallel-item {display: flex;flex-direction: column;z-index: 1;position: relative;background-color: white;}#sk-container-id-3 div.sk-parallel-item:first-child::after {align-self: flex-end;width: 50%;}#sk-container-id-3 div.sk-parallel-item:last-child::after {align-self: flex-start;width: 50%;}#sk-container-id-3 div.sk-parallel-item:only-child::after {width: 0;}#sk-container-id-3 div.sk-dashed-wrapped {border: 1px dashed gray;margin: 0 0.4em 0.5em 0.4em;box-sizing: border-box;padding-bottom: 0.4em;background-color: white;}#sk-container-id-3 div.sk-label label {font-family: monospace;font-weight: bold;display: inline-block;line-height: 1.2em;}#sk-container-id-3 div.sk-label-container {text-align: center;}#sk-container-id-3 div.sk-container {/* jupyter's `normalize.less` sets `[hidden] { display: none; }` but bootstrap.min.css set `[hidden] { display: none !important; }` so we also need the `!important` here to be able to override the default hidden behavior on the sphinx rendered scikit-learn.org. See: https://github.com/scikit-learn/scikit-learn/issues/21755 */display: inline-block !important;position: relative;}#sk-container-id-3 div.sk-text-repr-fallback {display: none;}</style><div id=\"sk-container-id-3\" class=\"sk-top-container\"><div class=\"sk-text-repr-fallback\"><pre>GridSearchCV(cv=5, estimator=LogisticRegression(max_iter=10000),\n",
              "             param_grid={&#x27;C&#x27;: [0.001, 0.1, 1, 10]})</pre><b>In a Jupyter environment, please rerun this cell to show the HTML representation or trust the notebook. <br />On GitHub, the HTML representation is unable to render, please try loading this page with nbviewer.org.</b></div><div class=\"sk-container\" hidden><div class=\"sk-item sk-dashed-wrapped\"><div class=\"sk-label-container\"><div class=\"sk-label sk-toggleable\"><input class=\"sk-toggleable__control sk-hidden--visually\" id=\"sk-estimator-id-5\" type=\"checkbox\" ><label for=\"sk-estimator-id-5\" class=\"sk-toggleable__label sk-toggleable__label-arrow\">GridSearchCV</label><div class=\"sk-toggleable__content\"><pre>GridSearchCV(cv=5, estimator=LogisticRegression(max_iter=10000),\n",
              "             param_grid={&#x27;C&#x27;: [0.001, 0.1, 1, 10]})</pre></div></div></div><div class=\"sk-parallel\"><div class=\"sk-parallel-item\"><div class=\"sk-item\"><div class=\"sk-label-container\"><div class=\"sk-label sk-toggleable\"><input class=\"sk-toggleable__control sk-hidden--visually\" id=\"sk-estimator-id-6\" type=\"checkbox\" ><label for=\"sk-estimator-id-6\" class=\"sk-toggleable__label sk-toggleable__label-arrow\">estimator: LogisticRegression</label><div class=\"sk-toggleable__content\"><pre>LogisticRegression(max_iter=10000)</pre></div></div></div><div class=\"sk-serial\"><div class=\"sk-item\"><div class=\"sk-estimator sk-toggleable\"><input class=\"sk-toggleable__control sk-hidden--visually\" id=\"sk-estimator-id-7\" type=\"checkbox\" ><label for=\"sk-estimator-id-7\" class=\"sk-toggleable__label sk-toggleable__label-arrow\">LogisticRegression</label><div class=\"sk-toggleable__content\"><pre>LogisticRegression(max_iter=10000)</pre></div></div></div></div></div></div></div></div></div></div>"
            ]
          },
          "metadata": {},
          "execution_count": 25
        }
      ]
    },
    {
      "cell_type": "code",
      "source": [
        "#best performing c (on training set)\n",
        "logreg_gscv.best_params_"
      ],
      "metadata": {
        "colab": {
          "base_uri": "https://localhost:8080/"
        },
        "id": "qDnQsjoNokwC",
        "outputId": "e3d85d01-de02-4b86-de89-cd5870cd3c9d"
      },
      "execution_count": 26,
      "outputs": [
        {
          "output_type": "execute_result",
          "data": {
            "text/plain": [
              "{'C': 0.1}"
            ]
          },
          "metadata": {},
          "execution_count": 26
        }
      ]
    },
    {
      "cell_type": "code",
      "source": [
        "#accuracy of best performing c\n",
        "logreg_gscv.best_score_"
      ],
      "metadata": {
        "colab": {
          "base_uri": "https://localhost:8080/"
        },
        "id": "nRnPxL0MosCH",
        "outputId": "737d33da-409e-45e4-cbf8-74cfbce75522"
      },
      "execution_count": 27,
      "outputs": [
        {
          "output_type": "execute_result",
          "data": {
            "text/plain": [
              "0.5105263157894736"
            ]
          },
          "metadata": {},
          "execution_count": 27
        }
      ]
    },
    {
      "cell_type": "code",
      "source": [
        "#cross validation results\n",
        "logreg_gscv.cv_results_"
      ],
      "metadata": {
        "colab": {
          "base_uri": "https://localhost:8080/"
        },
        "id": "QRc0-UM5oxde",
        "outputId": "04921959-23dd-442f-ee9e-69a495a8ff68"
      },
      "execution_count": 28,
      "outputs": [
        {
          "output_type": "execute_result",
          "data": {
            "text/plain": [
              "{'mean_fit_time': array([0.01285319, 0.05672555, 0.08619423, 0.20361743]),\n",
              " 'std_fit_time': array([0.00170592, 0.01014221, 0.01681712, 0.00556958]),\n",
              " 'mean_score_time': array([0.00291681, 0.00299282, 0.00287962, 0.00297995]),\n",
              " 'std_score_time': array([0.00015983, 0.00031875, 0.00014543, 0.0002815 ]),\n",
              " 'param_C': masked_array(data=[0.001, 0.1, 1, 10],\n",
              "              mask=[False, False, False, False],\n",
              "        fill_value='?',\n",
              "             dtype=object),\n",
              " 'params': [{'C': 0.001}, {'C': 0.1}, {'C': 1}, {'C': 10}],\n",
              " 'split0_test_score': array([0.25, 0.5 , 0.45, 0.45]),\n",
              " 'split1_test_score': array([0.31578947, 0.42105263, 0.31578947, 0.36842105]),\n",
              " 'split2_test_score': array([0.36842105, 0.52631579, 0.68421053, 0.42105263]),\n",
              " 'split3_test_score': array([0.42105263, 0.57894737, 0.52631579, 0.52631579]),\n",
              " 'split4_test_score': array([0.42105263, 0.52631579, 0.52631579, 0.52631579]),\n",
              " 'mean_test_score': array([0.35526316, 0.51052632, 0.50052632, 0.45842105]),\n",
              " 'std_test_score': array([0.06552579, 0.05156821, 0.11979206, 0.06129715]),\n",
              " 'rank_test_score': array([4, 1, 2, 3], dtype=int32)}"
            ]
          },
          "metadata": {},
          "execution_count": 28
        }
      ]
    },
    {
      "cell_type": "markdown",
      "metadata": {
        "id": "_qJliL_4XTsM"
      },
      "source": [
        "# Random Forest"
      ]
    },
    {
      "cell_type": "code",
      "source": [
        "# https://scikit-learn.org/stable/modules/generated/sklearn.ensemble.RandomForestClassifier.html\n",
        "\n",
        "from sklearn.ensemble import RandomForestClassifier\n",
        "from sklearn.datasets import make_moons\n",
        "\n",
        "#fit on training/testing\n",
        "forest = RandomForestClassifier(n_estimators=5, random_state=2)\n",
        "forest.fit(X_train, y_train)\n",
        "\n"
      ],
      "metadata": {
        "id": "1i5f--aqq4HB",
        "outputId": "a6265b07-f424-4fca-c0f0-58d708dca783",
        "colab": {
          "base_uri": "https://localhost:8080/",
          "height": 74
        }
      },
      "execution_count": 29,
      "outputs": [
        {
          "output_type": "execute_result",
          "data": {
            "text/plain": [
              "RandomForestClassifier(n_estimators=5, random_state=2)"
            ],
            "text/html": [
              "<style>#sk-container-id-4 {color: black;background-color: white;}#sk-container-id-4 pre{padding: 0;}#sk-container-id-4 div.sk-toggleable {background-color: white;}#sk-container-id-4 label.sk-toggleable__label {cursor: pointer;display: block;width: 100%;margin-bottom: 0;padding: 0.3em;box-sizing: border-box;text-align: center;}#sk-container-id-4 label.sk-toggleable__label-arrow:before {content: \"▸\";float: left;margin-right: 0.25em;color: #696969;}#sk-container-id-4 label.sk-toggleable__label-arrow:hover:before {color: black;}#sk-container-id-4 div.sk-estimator:hover label.sk-toggleable__label-arrow:before {color: black;}#sk-container-id-4 div.sk-toggleable__content {max-height: 0;max-width: 0;overflow: hidden;text-align: left;background-color: #f0f8ff;}#sk-container-id-4 div.sk-toggleable__content pre {margin: 0.2em;color: black;border-radius: 0.25em;background-color: #f0f8ff;}#sk-container-id-4 input.sk-toggleable__control:checked~div.sk-toggleable__content {max-height: 200px;max-width: 100%;overflow: auto;}#sk-container-id-4 input.sk-toggleable__control:checked~label.sk-toggleable__label-arrow:before {content: \"▾\";}#sk-container-id-4 div.sk-estimator input.sk-toggleable__control:checked~label.sk-toggleable__label {background-color: #d4ebff;}#sk-container-id-4 div.sk-label input.sk-toggleable__control:checked~label.sk-toggleable__label {background-color: #d4ebff;}#sk-container-id-4 input.sk-hidden--visually {border: 0;clip: rect(1px 1px 1px 1px);clip: rect(1px, 1px, 1px, 1px);height: 1px;margin: -1px;overflow: hidden;padding: 0;position: absolute;width: 1px;}#sk-container-id-4 div.sk-estimator {font-family: monospace;background-color: #f0f8ff;border: 1px dotted black;border-radius: 0.25em;box-sizing: border-box;margin-bottom: 0.5em;}#sk-container-id-4 div.sk-estimator:hover {background-color: #d4ebff;}#sk-container-id-4 div.sk-parallel-item::after {content: \"\";width: 100%;border-bottom: 1px solid gray;flex-grow: 1;}#sk-container-id-4 div.sk-label:hover label.sk-toggleable__label {background-color: #d4ebff;}#sk-container-id-4 div.sk-serial::before {content: \"\";position: absolute;border-left: 1px solid gray;box-sizing: border-box;top: 0;bottom: 0;left: 50%;z-index: 0;}#sk-container-id-4 div.sk-serial {display: flex;flex-direction: column;align-items: center;background-color: white;padding-right: 0.2em;padding-left: 0.2em;position: relative;}#sk-container-id-4 div.sk-item {position: relative;z-index: 1;}#sk-container-id-4 div.sk-parallel {display: flex;align-items: stretch;justify-content: center;background-color: white;position: relative;}#sk-container-id-4 div.sk-item::before, #sk-container-id-4 div.sk-parallel-item::before {content: \"\";position: absolute;border-left: 1px solid gray;box-sizing: border-box;top: 0;bottom: 0;left: 50%;z-index: -1;}#sk-container-id-4 div.sk-parallel-item {display: flex;flex-direction: column;z-index: 1;position: relative;background-color: white;}#sk-container-id-4 div.sk-parallel-item:first-child::after {align-self: flex-end;width: 50%;}#sk-container-id-4 div.sk-parallel-item:last-child::after {align-self: flex-start;width: 50%;}#sk-container-id-4 div.sk-parallel-item:only-child::after {width: 0;}#sk-container-id-4 div.sk-dashed-wrapped {border: 1px dashed gray;margin: 0 0.4em 0.5em 0.4em;box-sizing: border-box;padding-bottom: 0.4em;background-color: white;}#sk-container-id-4 div.sk-label label {font-family: monospace;font-weight: bold;display: inline-block;line-height: 1.2em;}#sk-container-id-4 div.sk-label-container {text-align: center;}#sk-container-id-4 div.sk-container {/* jupyter's `normalize.less` sets `[hidden] { display: none; }` but bootstrap.min.css set `[hidden] { display: none !important; }` so we also need the `!important` here to be able to override the default hidden behavior on the sphinx rendered scikit-learn.org. See: https://github.com/scikit-learn/scikit-learn/issues/21755 */display: inline-block !important;position: relative;}#sk-container-id-4 div.sk-text-repr-fallback {display: none;}</style><div id=\"sk-container-id-4\" class=\"sk-top-container\"><div class=\"sk-text-repr-fallback\"><pre>RandomForestClassifier(n_estimators=5, random_state=2)</pre><b>In a Jupyter environment, please rerun this cell to show the HTML representation or trust the notebook. <br />On GitHub, the HTML representation is unable to render, please try loading this page with nbviewer.org.</b></div><div class=\"sk-container\" hidden><div class=\"sk-item\"><div class=\"sk-estimator sk-toggleable\"><input class=\"sk-toggleable__control sk-hidden--visually\" id=\"sk-estimator-id-8\" type=\"checkbox\" checked><label for=\"sk-estimator-id-8\" class=\"sk-toggleable__label sk-toggleable__label-arrow\">RandomForestClassifier</label><div class=\"sk-toggleable__content\"><pre>RandomForestClassifier(n_estimators=5, random_state=2)</pre></div></div></div></div></div>"
            ]
          },
          "metadata": {},
          "execution_count": 29
        }
      ]
    },
    {
      "cell_type": "markdown",
      "source": [
        "## Testing/Training Split Evaluation"
      ],
      "metadata": {
        "id": "BvJe4kM2orxg"
      }
    },
    {
      "cell_type": "code",
      "source": [
        "# Accuracy\n",
        "#report accuracy\n",
        "print(\"Accuracy on training set: {:.3f}\".format(forest.score(X_train, y_train)))\n",
        "print(\"Accuracy on test set: {:.3f}\".format(forest.score(X_test, y_test)))"
      ],
      "metadata": {
        "id": "iTFvh-maotcj",
        "outputId": "d19dfa1a-1f54-4b4d-9683-fa3744273db6",
        "colab": {
          "base_uri": "https://localhost:8080/"
        }
      },
      "execution_count": 30,
      "outputs": [
        {
          "output_type": "stream",
          "name": "stdout",
          "text": [
            "Accuracy on training set: 0.812\n",
            "Accuracy on test set: 0.455\n"
          ]
        }
      ]
    },
    {
      "cell_type": "markdown",
      "source": [
        "***It looks like this method presents a model that is significantly more accurate on the training set than the test set. The low accuracy on the test set infers that it might not generalize to new data well.  ***"
      ],
      "metadata": {
        "id": "hJoB1QFbR8X5"
      }
    },
    {
      "cell_type": "code",
      "source": [
        "# Classification Report\n",
        "from sklearn.metrics import classification_report\n",
        "print(\"Accuracy on training set: {:.3f}\".format(forest.score(X_train, y_train)))\n",
        "print(\"Accuracy on test set: {:.3f}\".format(forest.score(X_test, y_test)))\n",
        "\n",
        "# Get the unique class labels from your y_test data\n",
        "unique_classes = y_test.unique()\n",
        "\n",
        "# Generate target names dynamically\n",
        "target_names = [f\"class {i+1}\" for i in range(len(unique_classes))]\n",
        "\n",
        "print(classification_report(y_test, forest.predict(X_test),\n",
        "                            target_names=target_names)) # Use dynamically generated target names"
      ],
      "metadata": {
        "colab": {
          "base_uri": "https://localhost:8080/"
        },
        "id": "tikB9EixROlU",
        "outputId": "b703bd03-b894-4536-a201-e1c627a5801b"
      },
      "execution_count": 35,
      "outputs": [
        {
          "output_type": "stream",
          "name": "stdout",
          "text": [
            "Accuracy on training set: 0.812\n",
            "Accuracy on test set: 0.455\n",
            "              precision    recall  f1-score   support\n",
            "\n",
            "     class 1       0.75      0.50      0.60         6\n",
            "     class 2       0.20      0.17      0.18         6\n",
            "     class 3       0.58      0.88      0.70         8\n",
            "     class 4       0.33      0.40      0.36         5\n",
            "     class 5       0.33      0.25      0.29         8\n",
            "\n",
            "    accuracy                           0.45        33\n",
            "   macro avg       0.44      0.44      0.43        33\n",
            "weighted avg       0.45      0.45      0.44        33\n",
            "\n"
          ]
        }
      ]
    },
    {
      "cell_type": "markdown",
      "source": [
        "## Cross Validation"
      ],
      "metadata": {
        "id": "5M6xmNZ5ot85"
      }
    },
    {
      "cell_type": "markdown",
      "source": [
        "Below seems to be a repeated code for the class validation (notebook 5)"
      ],
      "metadata": {
        "id": "OVbkr37GU6Bq"
      }
    },
    {
      "cell_type": "code",
      "execution_count": 36,
      "metadata": {
        "id": "oQ1-2oHZXTsM",
        "colab": {
          "base_uri": "https://localhost:8080/"
        },
        "outputId": "ee3864f4-8ed9-4f7e-93cd-4c3e12528518"
      },
      "outputs": [
        {
          "output_type": "stream",
          "name": "stdout",
          "text": [
            "cv_scores:\n",
            "[0.53846154 0.53846154 0.5        0.34615385 0.4       ]\n",
            "cv_scores mean:\n",
            "0.46461538461538454\n"
          ]
        }
      ],
      "source": [
        "from sklearn.model_selection import cross_val_score\n",
        "from sklearn.neighbors import KNeighborsClassifier\n",
        "\n",
        "# for n_neighbors in neighbors_settings:\n",
        "#     # build the model\n",
        "#     knn = KNeighborsClassifier(n_neighbors=n_neighbors,algorithm=\"brute\")\n",
        "#     knn.fit(X_train, y_train)\n",
        "#     # record training set accuracy\n",
        "#     training_accuracy.append(knn.score(X_train, y_train))\n",
        "#     # record generalization accuracy\n",
        "#     test_accuracy.append(knn.score(X_test, y_test))\n",
        "\n",
        "\n",
        "knn_cv = KNeighborsClassifier(n_neighbors=4)\n",
        "\n",
        "#5-fold cross validation\n",
        "cv_scores_all = cross_val_score(knn_cv, X, y, cv=5) #pass classifier, dataset, target, and # folds\n",
        "\n",
        "#return scores for each fold\n",
        "print(\"cv_scores:\\n{}\".format(cv_scores_all))\n",
        "print(\"cv_scores mean:\\n{}\".format(np.mean(cv_scores_all))) #calculate the mean\n"
      ]
    },
    {
      "cell_type": "markdown",
      "source": [
        "## Feature Importances"
      ],
      "metadata": {
        "id": "RGG-Hp1LupPn"
      }
    },
    {
      "cell_type": "code",
      "execution_count": 37,
      "metadata": {
        "id": "Y7jZrDwsXTsM",
        "outputId": "cf831a09-0cfa-4d88-f6b2-104ebac43148",
        "colab": {
          "base_uri": "https://localhost:8080/"
        }
      },
      "outputs": [
        {
          "output_type": "stream",
          "name": "stdout",
          "text": [
            "Feature importances:\n",
            "[0.04880814 0.08395576 0.00256678 0.06379841 0.02167242 0.03803952\n",
            " 0.01167015 0.         0.00402906 0.00955731 0.05719902 0.00479132\n",
            " 0.06300022 0.0049805  0.02106427 0.02218526 0.03712895 0.00393402\n",
            " 0.01175363 0.02275885 0.01430966 0.00978082 0.         0.00522391\n",
            " 0.00671285 0.01704558 0.00349367 0.01865363 0.00886566 0.00850114\n",
            " 0.01340177 0.         0.04618016 0.02651671 0.01532238 0.06627498\n",
            " 0.0126469  0.05846174 0.03305613 0.10265873]\n"
          ]
        }
      ],
      "source": [
        "# print list of feature importances\n",
        "print(\"Feature importances:\")\n",
        "print(forest.feature_importances_)"
      ]
    },
    {
      "cell_type": "markdown",
      "source": [
        "Below class code does not work - said y_names was noto defined"
      ],
      "metadata": {
        "id": "j5P5XlotZSuG"
      }
    },
    {
      "cell_type": "markdown",
      "source": [
        "### Had to use Gemini suggestion to get this working\n",
        "### - it looks very messy because of the numerous features. It looks like extra mushrooms column (yes_em) and diameter in inches (diameter_in) are the most important features."
      ],
      "metadata": {
        "id": "eW4mBbSdZaVO"
      }
    },
    {
      "cell_type": "code",
      "source": [
        "# plot feature importances\n",
        "def plot_feature_importances(model):\n",
        "    n_features = X.shape[1]\n",
        "    plt.barh(np.arange(n_features), model.feature_importances_, align='center')\n",
        "    # Define y_names here, assuming 'X' has column names you want to use\n",
        "    y_names = X.columns\n",
        "    plt.yticks(np.arange(n_features), y_names)\n",
        "    plt.xlabel(\"Feature importance\")\n",
        "    plt.ylabel(\"Feature\")\n",
        "    plt.ylim(-1, n_features)\n",
        "\n",
        "plot_feature_importances(forest)"
      ],
      "metadata": {
        "colab": {
          "base_uri": "https://localhost:8080/",
          "height": 449
        },
        "id": "7egGrH2dZEDi",
        "outputId": "570cddce-ac70-4bb1-d8c4-82680fcef65b"
      },
      "execution_count": 39,
      "outputs": [
        {
          "output_type": "display_data",
          "data": {
            "text/plain": [
              "<Figure size 640x480 with 1 Axes>"
            ],
            "image/png": "[encoded data removed]"
          },
          "metadata": {}
        }
      ]
    },
    {
      "cell_type": "markdown",
      "source": [
        "## Random Forest - adjusted parameter - tripled the original estimator of 5"
      ],
      "metadata": {
        "id": "f9aL-bPjGjza"
      }
    },
    {
      "cell_type": "code",
      "source": [
        "#fit on training/testing\n",
        "forest = RandomForestClassifier(n_estimators=15, random_state=2)\n",
        "forest.fit(X_train, y_train)"
      ],
      "metadata": {
        "colab": {
          "base_uri": "https://localhost:8080/",
          "height": 74
        },
        "id": "fkg6iXwYGjE8",
        "outputId": "5e03bf4f-a087-4878-c4ca-fb078b866900"
      },
      "execution_count": 40,
      "outputs": [
        {
          "output_type": "execute_result",
          "data": {
            "text/plain": [
              "RandomForestClassifier(n_estimators=15, random_state=2)"
            ],
            "text/html": [
              "<style>#sk-container-id-5 {color: black;background-color: white;}#sk-container-id-5 pre{padding: 0;}#sk-container-id-5 div.sk-toggleable {background-color: white;}#sk-container-id-5 label.sk-toggleable__label {cursor: pointer;display: block;width: 100%;margin-bottom: 0;padding: 0.3em;box-sizing: border-box;text-align: center;}#sk-container-id-5 label.sk-toggleable__label-arrow:before {content: \"▸\";float: left;margin-right: 0.25em;color: #696969;}#sk-container-id-5 label.sk-toggleable__label-arrow:hover:before {color: black;}#sk-container-id-5 div.sk-estimator:hover label.sk-toggleable__label-arrow:before {color: black;}#sk-container-id-5 div.sk-toggleable__content {max-height: 0;max-width: 0;overflow: hidden;text-align: left;background-color: #f0f8ff;}#sk-container-id-5 div.sk-toggleable__content pre {margin: 0.2em;color: black;border-radius: 0.25em;background-color: #f0f8ff;}#sk-container-id-5 input.sk-toggleable__control:checked~div.sk-toggleable__content {max-height: 200px;max-width: 100%;overflow: auto;}#sk-container-id-5 input.sk-toggleable__control:checked~label.sk-toggleable__label-arrow:before {content: \"▾\";}#sk-container-id-5 div.sk-estimator input.sk-toggleable__control:checked~label.sk-toggleable__label {background-color: #d4ebff;}#sk-container-id-5 div.sk-label input.sk-toggleable__control:checked~label.sk-toggleable__label {background-color: #d4ebff;}#sk-container-id-5 input.sk-hidden--visually {border: 0;clip: rect(1px 1px 1px 1px);clip: rect(1px, 1px, 1px, 1px);height: 1px;margin: -1px;overflow: hidden;padding: 0;position: absolute;width: 1px;}#sk-container-id-5 div.sk-estimator {font-family: monospace;background-color: #f0f8ff;border: 1px dotted black;border-radius: 0.25em;box-sizing: border-box;margin-bottom: 0.5em;}#sk-container-id-5 div.sk-estimator:hover {background-color: #d4ebff;}#sk-container-id-5 div.sk-parallel-item::after {content: \"\";width: 100%;border-bottom: 1px solid gray;flex-grow: 1;}#sk-container-id-5 div.sk-label:hover label.sk-toggleable__label {background-color: #d4ebff;}#sk-container-id-5 div.sk-serial::before {content: \"\";position: absolute;border-left: 1px solid gray;box-sizing: border-box;top: 0;bottom: 0;left: 50%;z-index: 0;}#sk-container-id-5 div.sk-serial {display: flex;flex-direction: column;align-items: center;background-color: white;padding-right: 0.2em;padding-left: 0.2em;position: relative;}#sk-container-id-5 div.sk-item {position: relative;z-index: 1;}#sk-container-id-5 div.sk-parallel {display: flex;align-items: stretch;justify-content: center;background-color: white;position: relative;}#sk-container-id-5 div.sk-item::before, #sk-container-id-5 div.sk-parallel-item::before {content: \"\";position: absolute;border-left: 1px solid gray;box-sizing: border-box;top: 0;bottom: 0;left: 50%;z-index: -1;}#sk-container-id-5 div.sk-parallel-item {display: flex;flex-direction: column;z-index: 1;position: relative;background-color: white;}#sk-container-id-5 div.sk-parallel-item:first-child::after {align-self: flex-end;width: 50%;}#sk-container-id-5 div.sk-parallel-item:last-child::after {align-self: flex-start;width: 50%;}#sk-container-id-5 div.sk-parallel-item:only-child::after {width: 0;}#sk-container-id-5 div.sk-dashed-wrapped {border: 1px dashed gray;margin: 0 0.4em 0.5em 0.4em;box-sizing: border-box;padding-bottom: 0.4em;background-color: white;}#sk-container-id-5 div.sk-label label {font-family: monospace;font-weight: bold;display: inline-block;line-height: 1.2em;}#sk-container-id-5 div.sk-label-container {text-align: center;}#sk-container-id-5 div.sk-container {/* jupyter's `normalize.less` sets `[hidden] { display: none; }` but bootstrap.min.css set `[hidden] { display: none !important; }` so we also need the `!important` here to be able to override the default hidden behavior on the sphinx rendered scikit-learn.org. See: https://github.com/scikit-learn/scikit-learn/issues/21755 */display: inline-block !important;position: relative;}#sk-container-id-5 div.sk-text-repr-fallback {display: none;}</style><div id=\"sk-container-id-5\" class=\"sk-top-container\"><div class=\"sk-text-repr-fallback\"><pre>RandomForestClassifier(n_estimators=15, random_state=2)</pre><b>In a Jupyter environment, please rerun this cell to show the HTML representation or trust the notebook. <br />On GitHub, the HTML representation is unable to render, please try loading this page with nbviewer.org.</b></div><div class=\"sk-container\" hidden><div class=\"sk-item\"><div class=\"sk-estimator sk-toggleable\"><input class=\"sk-toggleable__control sk-hidden--visually\" id=\"sk-estimator-id-9\" type=\"checkbox\" checked><label for=\"sk-estimator-id-9\" class=\"sk-toggleable__label sk-toggleable__label-arrow\">RandomForestClassifier</label><div class=\"sk-toggleable__content\"><pre>RandomForestClassifier(n_estimators=15, random_state=2)</pre></div></div></div></div></div>"
            ]
          },
          "metadata": {},
          "execution_count": 40
        }
      ]
    },
    {
      "cell_type": "code",
      "source": [
        "# Accuracy - small increase for training set accuracy, but no change to test set accuracy\n",
        "#report accuracy\n",
        "print(\"Accuracy on training set: {:.3f}\".format(forest.score(X_train, y_train)))\n",
        "print(\"Accuracy on test set: {:.3f}\".format(forest.score(X_test, y_test)))"
      ],
      "metadata": {
        "colab": {
          "base_uri": "https://localhost:8080/"
        },
        "id": "1FyXYHhTG0RQ",
        "outputId": "20ec11de-6093-4750-ee6b-f8dbc0f3cf97"
      },
      "execution_count": 41,
      "outputs": [
        {
          "output_type": "stream",
          "name": "stdout",
          "text": [
            "Accuracy on training set: 0.844\n",
            "Accuracy on test set: 0.455\n"
          ]
        }
      ]
    },
    {
      "cell_type": "code",
      "source": [
        "# Classification Report\n",
        "from sklearn.metrics import classification_report\n",
        "print(\"Accuracy on training set: {:.3f}\".format(forest.score(X_train, y_train)))\n",
        "print(\"Accuracy on test set: {:.3f}\".format(forest.score(X_test, y_test)))\n",
        "\n",
        "# Get the unique class labels from your y_test data\n",
        "unique_classes = y_test.unique()\n",
        "\n",
        "# Generate target names dynamically\n",
        "target_names = [f\"class {i+1}\" for i in range(len(unique_classes))]\n",
        "\n",
        "print(classification_report(y_test, forest.predict(X_test),\n",
        "                            target_names=target_names)) # Use dynamically generated target names"
      ],
      "metadata": {
        "colab": {
          "base_uri": "https://localhost:8080/"
        },
        "id": "3UU4VyhuHCHS",
        "outputId": "51b4d718-5dac-4bcb-97c3-5e4a7cf44364"
      },
      "execution_count": 42,
      "outputs": [
        {
          "output_type": "stream",
          "name": "stdout",
          "text": [
            "Accuracy on training set: 0.844\n",
            "Accuracy on test set: 0.455\n",
            "              precision    recall  f1-score   support\n",
            "\n",
            "     class 1       0.67      0.67      0.67         6\n",
            "     class 2       0.22      0.33      0.27         6\n",
            "     class 3       0.78      0.88      0.82         8\n",
            "     class 4       0.33      0.20      0.25         5\n",
            "     class 5       0.17      0.12      0.14         8\n",
            "\n",
            "    accuracy                           0.45        33\n",
            "   macro avg       0.43      0.44      0.43        33\n",
            "weighted avg       0.44      0.45      0.44        33\n",
            "\n"
          ]
        }
      ]
    },
    {
      "cell_type": "code",
      "source": [
        "# print list of feature importances\n",
        "print(\"Feature importances:\")\n",
        "print(forest.feature_importances_)"
      ],
      "metadata": {
        "colab": {
          "base_uri": "https://localhost:8080/"
        },
        "id": "znmKmBBGHM4a",
        "outputId": "1acd2941-83ed-485c-bea7-faf1e37470cd"
      },
      "execution_count": 43,
      "outputs": [
        {
          "output_type": "stream",
          "name": "stdout",
          "text": [
            "Feature importances:\n",
            "[0.06847589 0.05976391 0.00911849 0.04447287 0.02932914 0.03560816\n",
            " 0.02712643 0.         0.00134302 0.01064279 0.04898863 0.01683296\n",
            " 0.05130787 0.00846241 0.01215083 0.01742342 0.03800052 0.00711573\n",
            " 0.00899105 0.01823591 0.01113549 0.0051895  0.         0.0027707\n",
            " 0.00256331 0.01836712 0.00194624 0.01417916 0.0108608  0.00653323\n",
            " 0.01112954 0.00108108 0.03834484 0.03728266 0.01660093 0.09891386\n",
            " 0.01448111 0.03379093 0.0399179  0.12152157]\n"
          ]
        }
      ]
    },
    {
      "cell_type": "markdown",
      "source": [
        "### Unlike the default random forest, it seems like extra mushrooms and regular size are the most important features."
      ],
      "metadata": {
        "id": "VyF8PJhZVsmf"
      }
    },
    {
      "cell_type": "code",
      "source": [
        "##\n",
        "\n",
        "# plot feature importances\n",
        "def plot_feature_importances(model):\n",
        "    n_features = X.shape[1]\n",
        "    plt.barh(np.arange(n_features), model.feature_importances_, align='center')\n",
        "    # Define y_names here, assuming 'X' has column names you want to use\n",
        "    y_names = X.columns\n",
        "    plt.yticks(np.arange(n_features), y_names)\n",
        "    plt.xlabel(\"Feature importance\")\n",
        "    plt.ylabel(\"Feature\")\n",
        "    plt.ylim(-1, n_features)\n",
        "\n",
        "plot_feature_importances(forest)"
      ],
      "metadata": {
        "colab": {
          "base_uri": "https://localhost:8080/",
          "height": 449
        },
        "id": "6K4psUPfH1Ls",
        "outputId": "b16b7ae0-bbf6-471b-f9dc-5c85e2e8a524"
      },
      "execution_count": 44,
      "outputs": [
        {
          "output_type": "display_data",
          "data": {
            "text/plain": [
              "<Figure size 640x480 with 1 Axes>"
            ],
            "image/png": "[encoded data removed]"
          },
          "metadata": {}
        }
      ]
    },
    {
      "cell_type": "markdown",
      "source": [
        "## Random Forest - Adjusted Parameter - increased estimators to 20"
      ],
      "metadata": {
        "id": "R75xSLbmMyfa"
      }
    },
    {
      "cell_type": "code",
      "source": [
        "#fit on training/testing\n",
        "forest = RandomForestClassifier(n_estimators=20, random_state=6)\n",
        "forest.fit(X_train, y_train)"
      ],
      "metadata": {
        "id": "DOJncmynIuNW",
        "outputId": "ef9d3a18-f217-4f0f-8c98-72d294b28309",
        "colab": {
          "base_uri": "https://localhost:8080/",
          "height": 74
        }
      },
      "execution_count": 45,
      "outputs": [
        {
          "output_type": "execute_result",
          "data": {
            "text/plain": [
              "RandomForestClassifier(n_estimators=20, random_state=6)"
            ],
            "text/html": [
              "<style>#sk-container-id-6 {color: black;background-color: white;}#sk-container-id-6 pre{padding: 0;}#sk-container-id-6 div.sk-toggleable {background-color: white;}#sk-container-id-6 label.sk-toggleable__label {cursor: pointer;display: block;width: 100%;margin-bottom: 0;padding: 0.3em;box-sizing: border-box;text-align: center;}#sk-container-id-6 label.sk-toggleable__label-arrow:before {content: \"▸\";float: left;margin-right: 0.25em;color: #696969;}#sk-container-id-6 label.sk-toggleable__label-arrow:hover:before {color: black;}#sk-container-id-6 div.sk-estimator:hover label.sk-toggleable__label-arrow:before {color: black;}#sk-container-id-6 div.sk-toggleable__content {max-height: 0;max-width: 0;overflow: hidden;text-align: left;background-color: #f0f8ff;}#sk-container-id-6 div.sk-toggleable__content pre {margin: 0.2em;color: black;border-radius: 0.25em;background-color: #f0f8ff;}#sk-container-id-6 input.sk-toggleable__control:checked~div.sk-toggleable__content {max-height: 200px;max-width: 100%;overflow: auto;}#sk-container-id-6 input.sk-toggleable__control:checked~label.sk-toggleable__label-arrow:before {content: \"▾\";}#sk-container-id-6 div.sk-estimator input.sk-toggleable__control:checked~label.sk-toggleable__label {background-color: #d4ebff;}#sk-container-id-6 div.sk-label input.sk-toggleable__control:checked~label.sk-toggleable__label {background-color: #d4ebff;}#sk-container-id-6 input.sk-hidden--visually {border: 0;clip: rect(1px 1px 1px 1px);clip: rect(1px, 1px, 1px, 1px);height: 1px;margin: -1px;overflow: hidden;padding: 0;position: absolute;width: 1px;}#sk-container-id-6 div.sk-estimator {font-family: monospace;background-color: #f0f8ff;border: 1px dotted black;border-radius: 0.25em;box-sizing: border-box;margin-bottom: 0.5em;}#sk-container-id-6 div.sk-estimator:hover {background-color: #d4ebff;}#sk-container-id-6 div.sk-parallel-item::after {content: \"\";width: 100%;border-bottom: 1px solid gray;flex-grow: 1;}#sk-container-id-6 div.sk-label:hover label.sk-toggleable__label {background-color: #d4ebff;}#sk-container-id-6 div.sk-serial::before {content: \"\";position: absolute;border-left: 1px solid gray;box-sizing: border-box;top: 0;bottom: 0;left: 50%;z-index: 0;}#sk-container-id-6 div.sk-serial {display: flex;flex-direction: column;align-items: center;background-color: white;padding-right: 0.2em;padding-left: 0.2em;position: relative;}#sk-container-id-6 div.sk-item {position: relative;z-index: 1;}#sk-container-id-6 div.sk-parallel {display: flex;align-items: stretch;justify-content: center;background-color: white;position: relative;}#sk-container-id-6 div.sk-item::before, #sk-container-id-6 div.sk-parallel-item::before {content: \"\";position: absolute;border-left: 1px solid gray;box-sizing: border-box;top: 0;bottom: 0;left: 50%;z-index: -1;}#sk-container-id-6 div.sk-parallel-item {display: flex;flex-direction: column;z-index: 1;position: relative;background-color: white;}#sk-container-id-6 div.sk-parallel-item:first-child::after {align-self: flex-end;width: 50%;}#sk-container-id-6 div.sk-parallel-item:last-child::after {align-self: flex-start;width: 50%;}#sk-container-id-6 div.sk-parallel-item:only-child::after {width: 0;}#sk-container-id-6 div.sk-dashed-wrapped {border: 1px dashed gray;margin: 0 0.4em 0.5em 0.4em;box-sizing: border-box;padding-bottom: 0.4em;background-color: white;}#sk-container-id-6 div.sk-label label {font-family: monospace;font-weight: bold;display: inline-block;line-height: 1.2em;}#sk-container-id-6 div.sk-label-container {text-align: center;}#sk-container-id-6 div.sk-container {/* jupyter's `normalize.less` sets `[hidden] { display: none; }` but bootstrap.min.css set `[hidden] { display: none !important; }` so we also need the `!important` here to be able to override the default hidden behavior on the sphinx rendered scikit-learn.org. See: https://github.com/scikit-learn/scikit-learn/issues/21755 */display: inline-block !important;position: relative;}#sk-container-id-6 div.sk-text-repr-fallback {display: none;}</style><div id=\"sk-container-id-6\" class=\"sk-top-container\"><div class=\"sk-text-repr-fallback\"><pre>RandomForestClassifier(n_estimators=20, random_state=6)</pre><b>In a Jupyter environment, please rerun this cell to show the HTML representation or trust the notebook. <br />On GitHub, the HTML representation is unable to render, please try loading this page with nbviewer.org.</b></div><div class=\"sk-container\" hidden><div class=\"sk-item\"><div class=\"sk-estimator sk-toggleable\"><input class=\"sk-toggleable__control sk-hidden--visually\" id=\"sk-estimator-id-10\" type=\"checkbox\" checked><label for=\"sk-estimator-id-10\" class=\"sk-toggleable__label sk-toggleable__label-arrow\">RandomForestClassifier</label><div class=\"sk-toggleable__content\"><pre>RandomForestClassifier(n_estimators=20, random_state=6)</pre></div></div></div></div></div>"
            ]
          },
          "metadata": {},
          "execution_count": 45
        }
      ]
    },
    {
      "cell_type": "code",
      "source": [
        "# Accuracy\n",
        "#report accuracy\n",
        "print(\"Accuracy on training set: {:.3f}\".format(forest.score(X_train, y_train)))\n",
        "print(\"Accuracy on test set: {:.3f}\".format(forest.score(X_test, y_test)))"
      ],
      "metadata": {
        "id": "6wrBN8IDNIfU",
        "outputId": "404f19ad-919b-4a00-9181-73eba6b2c9c6",
        "colab": {
          "base_uri": "https://localhost:8080/"
        }
      },
      "execution_count": 46,
      "outputs": [
        {
          "output_type": "stream",
          "name": "stdout",
          "text": [
            "Accuracy on training set: 0.844\n",
            "Accuracy on test set: 0.394\n"
          ]
        }
      ]
    },
    {
      "cell_type": "code",
      "source": [
        "# Classification Report\n",
        "from sklearn.metrics import classification_report\n",
        "print(\"Accuracy on training set: {:.3f}\".format(forest.score(X_train, y_train)))\n",
        "print(\"Accuracy on test set: {:.3f}\".format(forest.score(X_test, y_test)))\n",
        "\n",
        "# Get the unique class labels from your y_test data\n",
        "unique_classes = y_test.unique()\n",
        "\n",
        "# Generate target names dynamically\n",
        "target_names = [f\"class {i+1}\" for i in range(len(unique_classes))]\n",
        "\n",
        "print(classification_report(y_test, forest.predict(X_test),\n",
        "                            target_names=target_names)) # Use dynamically generated target names"
      ],
      "metadata": {
        "id": "ugWzDtNINf81",
        "outputId": "a4d75d13-18d5-4b5b-9c03-f6b219cef011",
        "colab": {
          "base_uri": "https://localhost:8080/"
        }
      },
      "execution_count": 47,
      "outputs": [
        {
          "output_type": "stream",
          "name": "stdout",
          "text": [
            "Accuracy on training set: 0.844\n",
            "Accuracy on test set: 0.394\n",
            "              precision    recall  f1-score   support\n",
            "\n",
            "     class 1       0.57      0.67      0.62         6\n",
            "     class 2       0.12      0.17      0.14         6\n",
            "     class 3       0.78      0.88      0.82         8\n",
            "     class 4       0.00      0.00      0.00         5\n",
            "     class 5       0.14      0.12      0.13         8\n",
            "\n",
            "    accuracy                           0.39        33\n",
            "   macro avg       0.32      0.37      0.34        33\n",
            "weighted avg       0.35      0.39      0.37        33\n",
            "\n"
          ]
        }
      ]
    },
    {
      "cell_type": "code",
      "source": [
        "# print list of feature importances\n",
        "print(\"Feature importances:\")\n",
        "print(forest.feature_importances_)"
      ],
      "metadata": {
        "id": "JfL4NxcBNj-U",
        "outputId": "b4c0a75e-7c08-4cb0-86c8-699ff8edfff6",
        "colab": {
          "base_uri": "https://localhost:8080/"
        }
      },
      "execution_count": 48,
      "outputs": [
        {
          "output_type": "stream",
          "name": "stdout",
          "text": [
            "Feature importances:\n",
            "[0.10624073 0.06503097 0.00628998 0.0485307  0.0169213  0.02238524\n",
            " 0.03197568 0.         0.         0.00546214 0.01807372 0.01056823\n",
            " 0.02505947 0.00432386 0.01071157 0.02431869 0.06211547 0.03000002\n",
            " 0.01798642 0.02202419 0.00148763 0.0038986  0.00032028 0.00342768\n",
            " 0.00309779 0.01607279 0.0034572  0.02246251 0.01516291 0.00766527\n",
            " 0.0210388  0.00234087 0.02417867 0.01791872 0.02336773 0.09640804\n",
            " 0.01777521 0.02904024 0.02795352 0.13490719]\n"
          ]
        }
      ]
    },
    {
      "cell_type": "markdown",
      "source": [
        "### Extra mushrooms, price in Canadian dollars, and regular size are 3 key important features according to this code"
      ],
      "metadata": {
        "id": "pDg3w1oGVbx0"
      }
    },
    {
      "cell_type": "code",
      "source": [
        "# plot feature importances\n",
        "def plot_feature_importances(model):\n",
        "    n_features = X.shape[1]\n",
        "    plt.barh(np.arange(n_features), model.feature_importances_, align='center')\n",
        "    # Define y_names here, assuming 'X' has column names you want to use\n",
        "    y_names = X.columns\n",
        "    plt.yticks(np.arange(n_features), y_names)\n",
        "    plt.xlabel(\"Feature importance\")\n",
        "    plt.ylabel(\"Feature\")\n",
        "    plt.ylim(-1, n_features)\n",
        "\n",
        "plot_feature_importances(forest)"
      ],
      "metadata": {
        "id": "2layAd9WNnWQ",
        "outputId": "c5dee97c-8c66-48fd-ef83-85652e5e7841",
        "colab": {
          "base_uri": "https://localhost:8080/",
          "height": 449
        }
      },
      "execution_count": 49,
      "outputs": [
        {
          "output_type": "display_data",
          "data": {
            "text/plain": [
              "<Figure size 640x480 with 1 Axes>"
            ],
            "image/png": "[encoded data removed]"
          },
          "metadata": {}
        }
      ]
    },
    {
      "cell_type": "markdown",
      "source": [
        "**Had to use Gemini suggestion because the original code produces value error b/c mismatched classes**"
      ],
      "metadata": {
        "id": "5ARqkDD4a-Xq"
      }
    },
    {
      "cell_type": "markdown",
      "source": [
        "# **Feature Scaling - this did not work**"
      ],
      "metadata": {
        "id": "RQIebJ_oAK8e"
      }
    },
    {
      "cell_type": "markdown",
      "source": [
        "## **Scale the features**"
      ],
      "metadata": {
        "id": "PCJL6_DYAOtI"
      }
    },
    {
      "cell_type": "code",
      "source": [
        "# Compute the minimum value per feature on the training set\n",
        "min_on_training = X_train.min(axis=0)\n",
        "\n",
        "# Compute the range of each feature (max - min) on the training set\n",
        "range_on_training = (X_train - min_on_training).max(axis=0) - #CODE DOESN'T RUN - ERROR HERE\n",
        "\n",
        "# subtract the min, divide by range\n",
        "# afterward, min=0 and max=1 for each feature\n",
        "X_train_scaled = (X_train - min_on_training) / range_on_training\n",
        "print(\"Minimum for each feature\\n\", X_train_scaled.min(axis=0))\n",
        "print(\"Maximum for each feature\\n\", X_train_scaled.max(axis=0))"
      ],
      "metadata": {
        "id": "MeKvVO-7AI9O",
        "colab": {
          "base_uri": "https://localhost:8080/",
          "height": 106
        },
        "outputId": "50bc82b2-d981-4e26-8876-5942019883ae"
      },
      "execution_count": 56,
      "outputs": [
        {
          "output_type": "error",
          "ename": "SyntaxError",
          "evalue": "invalid syntax (<ipython-input-56-ff281add34e2>, line 5)",
          "traceback": [
            "\u001b[0;36m  File \u001b[0;32m\"<ipython-input-56-ff281add34e2>\"\u001b[0;36m, line \u001b[0;32m5\u001b[0m\n\u001b[0;31m    range_on_training = (X_train - min_on_training).max(axis=0) - #CODE DOESN'T RUN - ERROR HERE\u001b[0m\n\u001b[0m                                                                  ^\u001b[0m\n\u001b[0;31mSyntaxError\u001b[0m\u001b[0;31m:\u001b[0m invalid syntax\n"
          ]
        }
      ]
    },
    {
      "cell_type": "code",
      "source": [
        "# Compute the minimum value per feature on the training set\n",
        "min_on_training = X_train.min(axis=0)\n",
        "\n",
        "# Compute the range of each feature (max - min) on the training set\n",
        "range_on_training = (X_train  min_on_training).max(axis=0) - #CODE DOESN'T RUN - ERROR HERE\n",
        "\n",
        "# subtract the min, divide by range\n",
        "# afterward, min=0 and max=1 for each feature\n",
        "X_train_scaled = (X_train - min_on_training) / range_on_training\n",
        "print(\"Minimum for each feature\\n\", X_train_scaled.min(axis=0))\n",
        "print(\"Maximum for each feature\\n\", X_train_scaled.max(axis=0))"
      ],
      "metadata": {
        "colab": {
          "base_uri": "https://localhost:8080/",
          "height": 106
        },
        "id": "MP17ysuQC0mN",
        "outputId": "e179118b-93cf-4222-c8e6-75018380a7bc"
      },
      "execution_count": 57,
      "outputs": [
        {
          "output_type": "error",
          "ename": "SyntaxError",
          "evalue": "invalid syntax. Perhaps you forgot a comma? (<ipython-input-57-eb645fc789dc>, line 5)",
          "traceback": [
            "\u001b[0;36m  File \u001b[0;32m\"<ipython-input-57-eb645fc789dc>\"\u001b[0;36m, line \u001b[0;32m5\u001b[0m\n\u001b[0;31m    range_on_training = (X_train  min_on_training).max(axis=0) - #CODE DOESN'T RUN - ERROR HERE\u001b[0m\n\u001b[0m                         ^\u001b[0m\n\u001b[0;31mSyntaxError\u001b[0m\u001b[0;31m:\u001b[0m invalid syntax. Perhaps you forgot a comma?\n"
          ]
        }
      ]
    }
  ],
  "metadata": {
    "kernelspec": {
      "display_name": "Python 3",
      "language": "python",
      "name": "python3"
    },
    "language_info": {
      "codemirror_mode": {
        "name": "ipython",
        "version": 3
      },
      "file_extension": ".py",
      "mimetype": "text/x-python",
      "name": "python",
      "nbconvert_exporter": "python",
      "pygments_lexer": "ipython3",
      "version": "3.6.13"
    },
    "colab": {
      "provenance": [],
      "include_colab_link": true
    }
  },
  "nbformat": 4,
  "nbformat_minor": 0
}