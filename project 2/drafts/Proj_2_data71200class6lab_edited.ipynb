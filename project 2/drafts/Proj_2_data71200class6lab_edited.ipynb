{
  "cells": [
    {
      "cell_type": "markdown",
      "metadata": {
        "id": "view-in-github",
        "colab_type": "text"
      },
      "source": [
        "<a href=\"https://colab.research.google.com/github/550tealeaves/DATA71200_sum2024_550/blob/main/Proj_2_data71200class6lab_edited.ipynb\" target=\"_parent\"><img src=\"https://colab.research.google.com/assets/colab-badge.svg\" alt=\"Open In Colab\"/></a>"
      ]
    },
    {
      "cell_type": "markdown",
      "source": [
        "# Load Libraries"
      ],
      "metadata": {
        "id": "P0_K6RTyeDXn"
      }
    },
    {
      "cell_type": "code",
      "execution_count": 1,
      "metadata": {
        "id": "Ru5SKocjXTsJ"
      },
      "outputs": [],
      "source": [
        "%matplotlib inline\n",
        "import matplotlib.pyplot as plt\n",
        "import numpy as np\n",
        "import pandas as pd"
      ]
    },
    {
      "cell_type": "markdown",
      "source": [
        "# Load pizza dataset"
      ],
      "metadata": {
        "id": "oVoyDLteeF4K"
      }
    },
    {
      "cell_type": "code",
      "source": [
        "from sklearn.datasets import load_wine\n",
        "dataset = pd.read_csv(\"https://raw.githubusercontent.com/550tealeaves/DATA71200_sum2024_550/main/project%201/pizza_v2.csv\")\n",
        "print(dataset.head())"
      ],
      "metadata": {
        "id": "jETaoxdgeBC0",
        "colab": {
          "base_uri": "https://localhost:8080/"
        },
        "outputId": "bc793e87-4035-4692-e564-c672b020885d"
      },
      "execution_count": 2,
      "outputs": [
        {
          "output_type": "stream",
          "name": "stdout",
          "text": [
            "  company  price_cad  diameter_in      topping           variant     size  \\\n",
            "0       A         29         22.0      chicken  double_signature    jumbo   \n",
            "1       A         25         20.0    pepperoni  double_signature    jumbo   \n",
            "2       A         19         16.0    mushrooms  double_signature  regular   \n",
            "3       A         22         14.0  smoked_beef  double_signature  regular   \n",
            "4       A         30         18.0   mozzarella  double_signature    jumbo   \n",
            "\n",
            "  extra_sauce extra_cheese extra_mushrooms  \n",
            "0         yes          yes              no  \n",
            "1         yes          yes              no  \n",
            "2         yes          yes             yes  \n",
            "3         yes           no             yes  \n",
            "4         yes           no             yes  \n"
          ]
        }
      ]
    },
    {
      "cell_type": "markdown",
      "source": [
        "# Testing/Training Split"
      ],
      "metadata": {
        "id": "GiMafuJPei-D"
      }
    },
    {
      "cell_type": "code",
      "source": [
        "columns = ['topping', 'variant', 'size', 'extra_sauce', 'extra_cheese','extra_mushrooms']\n",
        "dataset = pd.concat([dataset]+[pd.get_dummies(dataset[i],drop_first=True) for i in columns],axis=1)\n",
        "dataset.drop(columns,axis=1,inplace=True)\n",
        "dataset.head(3)"
      ],
      "metadata": {
        "colab": {
          "base_uri": "https://localhost:8080/",
          "height": 193
        },
        "id": "w9Qsk5IPiH5T",
        "outputId": "985fa2b6-9ac8-4552-d85a-805d04b40f53"
      },
      "execution_count": 3,
      "outputs": [
        {
          "output_type": "execute_result",
          "data": {
            "text/plain": [
              "  company  price_cad  diameter_in  black_pepper  chicken   meat  mozzarella  \\\n",
              "0       A         29         22.0         False     True  False       False   \n",
              "1       A         25         20.0         False    False  False       False   \n",
              "2       A         19         16.0         False    False  False       False   \n",
              "\n",
              "   mushrooms  onion  pepperoni  ...  super_supreme  thai_veggie  jumbo  large  \\\n",
              "0      False  False      False  ...          False        False   True  False   \n",
              "1      False  False       True  ...          False        False   True  False   \n",
              "2       True  False      False  ...          False        False  False  False   \n",
              "\n",
              "   medium  regular  small   yes   yes    yes  \n",
              "0   False    False  False  True  True  False  \n",
              "1   False    False  False  True  True  False  \n",
              "2   False     True  False  True  True   True  \n",
              "\n",
              "[3 rows x 41 columns]"
            ],
            "text/html": [
              "\n",
              "  <div id=\"df-ca939514-a259-469e-ac3f-f344363d98dd\" class=\"colab-df-container\">\n",
              "    <div>\n",
              "<style scoped>\n",
              "    .dataframe tbody tr th:only-of-type {\n",
              "        vertical-align: middle;\n",
              "    }\n",
              "\n",
              "    .dataframe tbody tr th {\n",
              "        vertical-align: top;\n",
              "    }\n",
              "\n",
              "    .dataframe thead th {\n",
              "        text-align: right;\n",
              "    }\n",
              "</style>\n",
              "<table border=\"1\" class=\"dataframe\">\n",
              "  <thead>\n",
              "    <tr style=\"text-align: right;\">\n",
              "      <th></th>\n",
              "      <th>company</th>\n",
              "      <th>price_cad</th>\n",
              "      <th>diameter_in</th>\n",
              "      <th>black_pepper</th>\n",
              "      <th>chicken</th>\n",
              "      <th>meat</th>\n",
              "      <th>mozzarella</th>\n",
              "      <th>mushrooms</th>\n",
              "      <th>onion</th>\n",
              "      <th>pepperoni</th>\n",
              "      <th>...</th>\n",
              "      <th>super_supreme</th>\n",
              "      <th>thai_veggie</th>\n",
              "      <th>jumbo</th>\n",
              "      <th>large</th>\n",
              "      <th>medium</th>\n",
              "      <th>regular</th>\n",
              "      <th>small</th>\n",
              "      <th>yes</th>\n",
              "      <th>yes</th>\n",
              "      <th>yes</th>\n",
              "    </tr>\n",
              "  </thead>\n",
              "  <tbody>\n",
              "    <tr>\n",
              "      <th>0</th>\n",
              "      <td>A</td>\n",
              "      <td>29</td>\n",
              "      <td>22.0</td>\n",
              "      <td>False</td>\n",
              "      <td>True</td>\n",
              "      <td>False</td>\n",
              "      <td>False</td>\n",
              "      <td>False</td>\n",
              "      <td>False</td>\n",
              "      <td>False</td>\n",
              "      <td>...</td>\n",
              "      <td>False</td>\n",
              "      <td>False</td>\n",
              "      <td>True</td>\n",
              "      <td>False</td>\n",
              "      <td>False</td>\n",
              "      <td>False</td>\n",
              "      <td>False</td>\n",
              "      <td>True</td>\n",
              "      <td>True</td>\n",
              "      <td>False</td>\n",
              "    </tr>\n",
              "    <tr>\n",
              "      <th>1</th>\n",
              "      <td>A</td>\n",
              "      <td>25</td>\n",
              "      <td>20.0</td>\n",
              "      <td>False</td>\n",
              "      <td>False</td>\n",
              "      <td>False</td>\n",
              "      <td>False</td>\n",
              "      <td>False</td>\n",
              "      <td>False</td>\n",
              "      <td>True</td>\n",
              "      <td>...</td>\n",
              "      <td>False</td>\n",
              "      <td>False</td>\n",
              "      <td>True</td>\n",
              "      <td>False</td>\n",
              "      <td>False</td>\n",
              "      <td>False</td>\n",
              "      <td>False</td>\n",
              "      <td>True</td>\n",
              "      <td>True</td>\n",
              "      <td>False</td>\n",
              "    </tr>\n",
              "    <tr>\n",
              "      <th>2</th>\n",
              "      <td>A</td>\n",
              "      <td>19</td>\n",
              "      <td>16.0</td>\n",
              "      <td>False</td>\n",
              "      <td>False</td>\n",
              "      <td>False</td>\n",
              "      <td>False</td>\n",
              "      <td>True</td>\n",
              "      <td>False</td>\n",
              "      <td>False</td>\n",
              "      <td>...</td>\n",
              "      <td>False</td>\n",
              "      <td>False</td>\n",
              "      <td>False</td>\n",
              "      <td>False</td>\n",
              "      <td>False</td>\n",
              "      <td>True</td>\n",
              "      <td>False</td>\n",
              "      <td>True</td>\n",
              "      <td>True</td>\n",
              "      <td>True</td>\n",
              "    </tr>\n",
              "  </tbody>\n",
              "</table>\n",
              "<p>3 rows × 41 columns</p>\n",
              "</div>\n",
              "    <div class=\"colab-df-buttons\">\n",
              "\n",
              "  <div class=\"colab-df-container\">\n",
              "    <button class=\"colab-df-convert\" onclick=\"convertToInteractive('df-ca939514-a259-469e-ac3f-f344363d98dd')\"\n",
              "            title=\"Convert this dataframe to an interactive table.\"\n",
              "            style=\"display:none;\">\n",
              "\n",
              "  <svg xmlns=\"http://www.w3.org/2000/svg\" height=\"24px\" viewBox=\"0 -960 960 960\">\n",
              "    <path d=\"M120-120v-720h720v720H120Zm60-500h600v-160H180v160Zm220 220h160v-160H400v160Zm0 220h160v-160H400v160ZM180-400h160v-160H180v160Zm440 0h160v-160H620v160ZM180-180h160v-160H180v160Zm440 0h160v-160H620v160Z\"/>\n",
              "  </svg>\n",
              "    </button>\n",
              "\n",
              "  <style>\n",
              "    .colab-df-container {\n",
              "      display:flex;\n",
              "      gap: 12px;\n",
              "    }\n",
              "\n",
              "    .colab-df-convert {\n",
              "      background-color: #E8F0FE;\n",
              "      border: none;\n",
              "      border-radius: 50%;\n",
              "      cursor: pointer;\n",
              "      display: none;\n",
              "      fill: #1967D2;\n",
              "      height: 32px;\n",
              "      padding: 0 0 0 0;\n",
              "      width: 32px;\n",
              "    }\n",
              "\n",
              "    .colab-df-convert:hover {\n",
              "      background-color: #E2EBFA;\n",
              "      box-shadow: 0px 1px 2px rgba(60, 64, 67, 0.3), 0px 1px 3px 1px rgba(60, 64, 67, 0.15);\n",
              "      fill: #174EA6;\n",
              "    }\n",
              "\n",
              "    .colab-df-buttons div {\n",
              "      margin-bottom: 4px;\n",
              "    }\n",
              "\n",
              "    [theme=dark] .colab-df-convert {\n",
              "      background-color: #3B4455;\n",
              "      fill: #D2E3FC;\n",
              "    }\n",
              "\n",
              "    [theme=dark] .colab-df-convert:hover {\n",
              "      background-color: #434B5C;\n",
              "      box-shadow: 0px 1px 3px 1px rgba(0, 0, 0, 0.15);\n",
              "      filter: drop-shadow(0px 1px 2px rgba(0, 0, 0, 0.3));\n",
              "      fill: #FFFFFF;\n",
              "    }\n",
              "  </style>\n",
              "\n",
              "    <script>\n",
              "      const buttonEl =\n",
              "        document.querySelector('#df-ca939514-a259-469e-ac3f-f344363d98dd button.colab-df-convert');\n",
              "      buttonEl.style.display =\n",
              "        google.colab.kernel.accessAllowed ? 'block' : 'none';\n",
              "\n",
              "      async function convertToInteractive(key) {\n",
              "        const element = document.querySelector('#df-ca939514-a259-469e-ac3f-f344363d98dd');\n",
              "        const dataTable =\n",
              "          await google.colab.kernel.invokeFunction('convertToInteractive',\n",
              "                                                    [key], {});\n",
              "        if (!dataTable) return;\n",
              "\n",
              "        const docLinkHtml = 'Like what you see? Visit the ' +\n",
              "          '<a target=\"_blank\" href=https://colab.research.google.com/notebooks/data_table.ipynb>data table notebook</a>'\n",
              "          + ' to learn more about interactive tables.';\n",
              "        element.innerHTML = '';\n",
              "        dataTable['output_type'] = 'display_data';\n",
              "        await google.colab.output.renderOutput(dataTable, element);\n",
              "        const docLink = document.createElement('div');\n",
              "        docLink.innerHTML = docLinkHtml;\n",
              "        element.appendChild(docLink);\n",
              "      }\n",
              "    </script>\n",
              "  </div>\n",
              "\n",
              "\n",
              "<div id=\"df-6514a6a2-3072-4faf-bb3f-78777a478701\">\n",
              "  <button class=\"colab-df-quickchart\" onclick=\"quickchart('df-6514a6a2-3072-4faf-bb3f-78777a478701')\"\n",
              "            title=\"Suggest charts\"\n",
              "            style=\"display:none;\">\n",
              "\n",
              "<svg xmlns=\"http://www.w3.org/2000/svg\" height=\"24px\"viewBox=\"0 0 24 24\"\n",
              "     width=\"24px\">\n",
              "    <g>\n",
              "        <path d=\"M19 3H5c-1.1 0-2 .9-2 2v14c0 1.1.9 2 2 2h14c1.1 0 2-.9 2-2V5c0-1.1-.9-2-2-2zM9 17H7v-7h2v7zm4 0h-2V7h2v10zm4 0h-2v-4h2v4z\"/>\n",
              "    </g>\n",
              "</svg>\n",
              "  </button>\n",
              "\n",
              "<style>\n",
              "  .colab-df-quickchart {\n",
              "      --bg-color: #E8F0FE;\n",
              "      --fill-color: #1967D2;\n",
              "      --hover-bg-color: #E2EBFA;\n",
              "      --hover-fill-color: #174EA6;\n",
              "      --disabled-fill-color: #AAA;\n",
              "      --disabled-bg-color: #DDD;\n",
              "  }\n",
              "\n",
              "  [theme=dark] .colab-df-quickchart {\n",
              "      --bg-color: #3B4455;\n",
              "      --fill-color: #D2E3FC;\n",
              "      --hover-bg-color: #434B5C;\n",
              "      --hover-fill-color: #FFFFFF;\n",
              "      --disabled-bg-color: #3B4455;\n",
              "      --disabled-fill-color: #666;\n",
              "  }\n",
              "\n",
              "  .colab-df-quickchart {\n",
              "    background-color: var(--bg-color);\n",
              "    border: none;\n",
              "    border-radius: 50%;\n",
              "    cursor: pointer;\n",
              "    display: none;\n",
              "    fill: var(--fill-color);\n",
              "    height: 32px;\n",
              "    padding: 0;\n",
              "    width: 32px;\n",
              "  }\n",
              "\n",
              "  .colab-df-quickchart:hover {\n",
              "    background-color: var(--hover-bg-color);\n",
              "    box-shadow: 0 1px 2px rgba(60, 64, 67, 0.3), 0 1px 3px 1px rgba(60, 64, 67, 0.15);\n",
              "    fill: var(--button-hover-fill-color);\n",
              "  }\n",
              "\n",
              "  .colab-df-quickchart-complete:disabled,\n",
              "  .colab-df-quickchart-complete:disabled:hover {\n",
              "    background-color: var(--disabled-bg-color);\n",
              "    fill: var(--disabled-fill-color);\n",
              "    box-shadow: none;\n",
              "  }\n",
              "\n",
              "  .colab-df-spinner {\n",
              "    border: 2px solid var(--fill-color);\n",
              "    border-color: transparent;\n",
              "    border-bottom-color: var(--fill-color);\n",
              "    animation:\n",
              "      spin 1s steps(1) infinite;\n",
              "  }\n",
              "\n",
              "  @keyframes spin {\n",
              "    0% {\n",
              "      border-color: transparent;\n",
              "      border-bottom-color: var(--fill-color);\n",
              "      border-left-color: var(--fill-color);\n",
              "    }\n",
              "    20% {\n",
              "      border-color: transparent;\n",
              "      border-left-color: var(--fill-color);\n",
              "      border-top-color: var(--fill-color);\n",
              "    }\n",
              "    30% {\n",
              "      border-color: transparent;\n",
              "      border-left-color: var(--fill-color);\n",
              "      border-top-color: var(--fill-color);\n",
              "      border-right-color: var(--fill-color);\n",
              "    }\n",
              "    40% {\n",
              "      border-color: transparent;\n",
              "      border-right-color: var(--fill-color);\n",
              "      border-top-color: var(--fill-color);\n",
              "    }\n",
              "    60% {\n",
              "      border-color: transparent;\n",
              "      border-right-color: var(--fill-color);\n",
              "    }\n",
              "    80% {\n",
              "      border-color: transparent;\n",
              "      border-right-color: var(--fill-color);\n",
              "      border-bottom-color: var(--fill-color);\n",
              "    }\n",
              "    90% {\n",
              "      border-color: transparent;\n",
              "      border-bottom-color: var(--fill-color);\n",
              "    }\n",
              "  }\n",
              "</style>\n",
              "\n",
              "  <script>\n",
              "    async function quickchart(key) {\n",
              "      const quickchartButtonEl =\n",
              "        document.querySelector('#' + key + ' button');\n",
              "      quickchartButtonEl.disabled = true;  // To prevent multiple clicks.\n",
              "      quickchartButtonEl.classList.add('colab-df-spinner');\n",
              "      try {\n",
              "        const charts = await google.colab.kernel.invokeFunction(\n",
              "            'suggestCharts', [key], {});\n",
              "      } catch (error) {\n",
              "        console.error('Error during call to suggestCharts:', error);\n",
              "      }\n",
              "      quickchartButtonEl.classList.remove('colab-df-spinner');\n",
              "      quickchartButtonEl.classList.add('colab-df-quickchart-complete');\n",
              "    }\n",
              "    (() => {\n",
              "      let quickchartButtonEl =\n",
              "        document.querySelector('#df-6514a6a2-3072-4faf-bb3f-78777a478701 button');\n",
              "      quickchartButtonEl.style.display =\n",
              "        google.colab.kernel.accessAllowed ? 'block' : 'none';\n",
              "    })();\n",
              "  </script>\n",
              "</div>\n",
              "\n",
              "    </div>\n",
              "  </div>\n"
            ],
            "application/vnd.google.colaboratory.intrinsic+json": {
              "type": "dataframe",
              "variable_name": "dataset"
            }
          },
          "metadata": {},
          "execution_count": 3
        }
      ]
    },
    {
      "cell_type": "code",
      "source": [
        "#predicting the company name based on certain features\n",
        "y = dataset['company']\n",
        "print(y)"
      ],
      "metadata": {
        "colab": {
          "base_uri": "https://localhost:8080/"
        },
        "id": "UULNhsTvgEqz",
        "outputId": "91a7ee7a-54d0-484a-b845-85a1e6254b6e"
      },
      "execution_count": 4,
      "outputs": [
        {
          "output_type": "stream",
          "name": "stdout",
          "text": [
            "0      A\n",
            "1      A\n",
            "2      A\n",
            "3      A\n",
            "4      A\n",
            "      ..\n",
            "124    E\n",
            "125    E\n",
            "126    E\n",
            "127    E\n",
            "128    E\n",
            "Name: company, Length: 129, dtype: object\n"
          ]
        }
      ]
    },
    {
      "cell_type": "code",
      "source": [
        "#dropped the features that are probably not relevant to the model\n",
        "X = dataset.drop(['company'], axis=1)\n",
        "print(X)"
      ],
      "metadata": {
        "colab": {
          "base_uri": "https://localhost:8080/"
        },
        "id": "wytcL5gfgKdn",
        "outputId": "ba0810cf-6e64-402a-9d3f-99f735e7d927"
      },
      "execution_count": 5,
      "outputs": [
        {
          "output_type": "stream",
          "name": "stdout",
          "text": [
            "     price_cad  diameter_in  black_pepper  chicken   meat  mozzarella  \\\n",
            "0           29         22.0         False     True  False       False   \n",
            "1           25         20.0         False    False  False       False   \n",
            "2           19         16.0         False    False  False       False   \n",
            "3           22         14.0         False    False  False       False   \n",
            "4           30         18.0         False    False  False        True   \n",
            "..         ...          ...           ...      ...    ...         ...   \n",
            "124         11          8.5         False    False  False       False   \n",
            "125         14         12.0         False    False  False       False   \n",
            "126         17         14.0         False    False  False       False   \n",
            "127         12          8.5         False    False   True       False   \n",
            "128         15         12.0         False    False   True       False   \n",
            "\n",
            "     mushrooms  onion  pepperoni  sausage  ...  super_supreme  thai_veggie  \\\n",
            "0        False  False      False    False  ...          False        False   \n",
            "1        False  False       True    False  ...          False        False   \n",
            "2         True  False      False    False  ...          False        False   \n",
            "3        False  False      False    False  ...          False        False   \n",
            "4        False  False      False    False  ...          False        False   \n",
            "..         ...    ...        ...      ...  ...            ...          ...   \n",
            "124      False  False      False    False  ...          False        False   \n",
            "125      False  False      False    False  ...          False        False   \n",
            "126      False  False      False    False  ...          False        False   \n",
            "127      False  False      False    False  ...          False        False   \n",
            "128      False  False      False    False  ...          False        False   \n",
            "\n",
            "     jumbo  large  medium  regular  small    yes    yes    yes  \n",
            "0     True  False   False    False  False   True   True  False  \n",
            "1     True  False   False    False  False   True   True  False  \n",
            "2    False  False   False     True  False   True   True   True  \n",
            "3    False  False   False     True  False   True  False   True  \n",
            "4     True  False   False    False  False   True  False   True  \n",
            "..     ...    ...     ...      ...    ...    ...    ...    ...  \n",
            "124  False  False   False    False   True   True   True   True  \n",
            "125  False  False    True    False  False   True   True   True  \n",
            "126  False   True   False    False  False   True   True   True  \n",
            "127  False  False   False    False   True   True  False   True  \n",
            "128  False  False    True    False  False  False  False   True  \n",
            "\n",
            "[129 rows x 40 columns]\n"
          ]
        }
      ]
    },
    {
      "cell_type": "code",
      "source": [
        "#do testing/training split - need different code for own data b/c no .data or .target\n",
        "from sklearn.model_selection import train_test_split\n",
        "\n",
        "X_train, X_test, y_train, y_test = train_test_split(X, y, random_state=0, stratify=y)"
      ],
      "metadata": {
        "id": "siC8ZjyQehCY"
      },
      "execution_count": 6,
      "outputs": []
    },
    {
      "cell_type": "markdown",
      "source": [
        "# **K-Nearest Neighbor**"
      ],
      "metadata": {
        "id": "-ElAKdSEgzbt"
      }
    },
    {
      "cell_type": "code",
      "source": [
        "#import KNN clasifier and fit to training data\n",
        "from sklearn.neighbors import KNeighborsClassifier\n",
        "\n",
        "\n",
        "\n",
        "knn = KNeighborsClassifier(n_neighbors=1)\n",
        "knn.fit(X_train, y_train)"
      ],
      "metadata": {
        "colab": {
          "base_uri": "https://localhost:8080/",
          "height": 74
        },
        "id": "i4p4v8qugy6g",
        "outputId": "391b56f0-190a-4332-8385-6322747fe5bd"
      },
      "execution_count": 8,
      "outputs": [
        {
          "output_type": "execute_result",
          "data": {
            "text/plain": [
              "KNeighborsClassifier(n_neighbors=1)"
            ],
            "text/html": [
              "<style>#sk-container-id-1 {color: black;background-color: white;}#sk-container-id-1 pre{padding: 0;}#sk-container-id-1 div.sk-toggleable {background-color: white;}#sk-container-id-1 label.sk-toggleable__label {cursor: pointer;display: block;width: 100%;margin-bottom: 0;padding: 0.3em;box-sizing: border-box;text-align: center;}#sk-container-id-1 label.sk-toggleable__label-arrow:before {content: \"▸\";float: left;margin-right: 0.25em;color: #696969;}#sk-container-id-1 label.sk-toggleable__label-arrow:hover:before {color: black;}#sk-container-id-1 div.sk-estimator:hover label.sk-toggleable__label-arrow:before {color: black;}#sk-container-id-1 div.sk-toggleable__content {max-height: 0;max-width: 0;overflow: hidden;text-align: left;background-color: #f0f8ff;}#sk-container-id-1 div.sk-toggleable__content pre {margin: 0.2em;color: black;border-radius: 0.25em;background-color: #f0f8ff;}#sk-container-id-1 input.sk-toggleable__control:checked~div.sk-toggleable__content {max-height: 200px;max-width: 100%;overflow: auto;}#sk-container-id-1 input.sk-toggleable__control:checked~label.sk-toggleable__label-arrow:before {content: \"▾\";}#sk-container-id-1 div.sk-estimator input.sk-toggleable__control:checked~label.sk-toggleable__label {background-color: #d4ebff;}#sk-container-id-1 div.sk-label input.sk-toggleable__control:checked~label.sk-toggleable__label {background-color: #d4ebff;}#sk-container-id-1 input.sk-hidden--visually {border: 0;clip: rect(1px 1px 1px 1px);clip: rect(1px, 1px, 1px, 1px);height: 1px;margin: -1px;overflow: hidden;padding: 0;position: absolute;width: 1px;}#sk-container-id-1 div.sk-estimator {font-family: monospace;background-color: #f0f8ff;border: 1px dotted black;border-radius: 0.25em;box-sizing: border-box;margin-bottom: 0.5em;}#sk-container-id-1 div.sk-estimator:hover {background-color: #d4ebff;}#sk-container-id-1 div.sk-parallel-item::after {content: \"\";width: 100%;border-bottom: 1px solid gray;flex-grow: 1;}#sk-container-id-1 div.sk-label:hover label.sk-toggleable__label {background-color: #d4ebff;}#sk-container-id-1 div.sk-serial::before {content: \"\";position: absolute;border-left: 1px solid gray;box-sizing: border-box;top: 0;bottom: 0;left: 50%;z-index: 0;}#sk-container-id-1 div.sk-serial {display: flex;flex-direction: column;align-items: center;background-color: white;padding-right: 0.2em;padding-left: 0.2em;position: relative;}#sk-container-id-1 div.sk-item {position: relative;z-index: 1;}#sk-container-id-1 div.sk-parallel {display: flex;align-items: stretch;justify-content: center;background-color: white;position: relative;}#sk-container-id-1 div.sk-item::before, #sk-container-id-1 div.sk-parallel-item::before {content: \"\";position: absolute;border-left: 1px solid gray;box-sizing: border-box;top: 0;bottom: 0;left: 50%;z-index: -1;}#sk-container-id-1 div.sk-parallel-item {display: flex;flex-direction: column;z-index: 1;position: relative;background-color: white;}#sk-container-id-1 div.sk-parallel-item:first-child::after {align-self: flex-end;width: 50%;}#sk-container-id-1 div.sk-parallel-item:last-child::after {align-self: flex-start;width: 50%;}#sk-container-id-1 div.sk-parallel-item:only-child::after {width: 0;}#sk-container-id-1 div.sk-dashed-wrapped {border: 1px dashed gray;margin: 0 0.4em 0.5em 0.4em;box-sizing: border-box;padding-bottom: 0.4em;background-color: white;}#sk-container-id-1 div.sk-label label {font-family: monospace;font-weight: bold;display: inline-block;line-height: 1.2em;}#sk-container-id-1 div.sk-label-container {text-align: center;}#sk-container-id-1 div.sk-container {/* jupyter's `normalize.less` sets `[hidden] { display: none; }` but bootstrap.min.css set `[hidden] { display: none !important; }` so we also need the `!important` here to be able to override the default hidden behavior on the sphinx rendered scikit-learn.org. See: https://github.com/scikit-learn/scikit-learn/issues/21755 */display: inline-block !important;position: relative;}#sk-container-id-1 div.sk-text-repr-fallback {display: none;}</style><div id=\"sk-container-id-1\" class=\"sk-top-container\"><div class=\"sk-text-repr-fallback\"><pre>KNeighborsClassifier(n_neighbors=1)</pre><b>In a Jupyter environment, please rerun this cell to show the HTML representation or trust the notebook. <br />On GitHub, the HTML representation is unable to render, please try loading this page with nbviewer.org.</b></div><div class=\"sk-container\" hidden><div class=\"sk-item\"><div class=\"sk-estimator sk-toggleable\"><input class=\"sk-toggleable__control sk-hidden--visually\" id=\"sk-estimator-id-1\" type=\"checkbox\" checked><label for=\"sk-estimator-id-1\" class=\"sk-toggleable__label sk-toggleable__label-arrow\">KNeighborsClassifier</label><div class=\"sk-toggleable__content\"><pre>KNeighborsClassifier(n_neighbors=1)</pre></div></div></div></div></div>"
            ]
          },
          "metadata": {},
          "execution_count": 8
        }
      ]
    },
    {
      "cell_type": "code",
      "source": [
        "print(\"Test set score: {:.2f}\".format(knn.score(X_test, y_test)))"
      ],
      "metadata": {
        "colab": {
          "base_uri": "https://localhost:8080/"
        },
        "id": "8Gn6Cl_ehN6y",
        "outputId": "788161d2-79b6-4158-eeb8-6aa762f951bb"
      },
      "execution_count": 9,
      "outputs": [
        {
          "output_type": "stream",
          "name": "stdout",
          "text": [
            "Test set score: 0.33\n"
          ]
        }
      ]
    },
    {
      "cell_type": "code",
      "source": [
        "# generate list of predictions for y2_test\n",
        "y_pred = knn.predict(X_test)"
      ],
      "metadata": {
        "id": "zIEmV9nPhfw6"
      },
      "execution_count": 10,
      "outputs": []
    },
    {
      "cell_type": "code",
      "source": [
        "# generate a confusion matrix on pizza data - shows where model might be making mistakes\n",
        "# model failing in the confusion b/w class 2 & class 3\n",
        "from sklearn.metrics import confusion_matrix\n",
        "\n",
        "confusion_matrix(y_test, y_pred)"
      ],
      "metadata": {
        "colab": {
          "base_uri": "https://localhost:8080/"
        },
        "id": "0p9Kt965hi2A",
        "outputId": "04a83381-cd0c-4759-fb40-9bada422596e"
      },
      "execution_count": 11,
      "outputs": [
        {
          "output_type": "execute_result",
          "data": {
            "text/plain": [
              "array([[1, 0, 0, 5, 0],\n",
              "       [0, 1, 0, 0, 5],\n",
              "       [0, 0, 7, 0, 1],\n",
              "       [3, 2, 0, 0, 0],\n",
              "       [0, 4, 2, 0, 2]])"
            ]
          },
          "metadata": {},
          "execution_count": 11
        }
      ]
    },
    {
      "cell_type": "code",
      "source": [
        "# calculate class-wise precision score on pizza data\n",
        "from sklearn.metrics import precision_score\n",
        "precision_score(y_test, y_pred, average=None)"
      ],
      "metadata": {
        "colab": {
          "base_uri": "https://localhost:8080/"
        },
        "id": "d8KPRVXKhiLz",
        "outputId": "92082783-cfab-402b-ec65-cc05841b5e29"
      },
      "execution_count": 12,
      "outputs": [
        {
          "output_type": "execute_result",
          "data": {
            "text/plain": [
              "array([0.25      , 0.14285714, 0.77777778, 0.        , 0.25      ])"
            ]
          },
          "metadata": {},
          "execution_count": 12
        }
      ]
    },
    {
      "cell_type": "code",
      "source": [
        "# calculate class-wise recall score on iris data\n",
        "from sklearn.metrics import recall_score\n",
        "recall_score(y_test, y_pred, average=None)"
      ],
      "metadata": {
        "colab": {
          "base_uri": "https://localhost:8080/"
        },
        "id": "wP56coMmhsnc",
        "outputId": "70a2edc3-fedc-459e-afff-7fd583dc0280"
      },
      "execution_count": 13,
      "outputs": [
        {
          "output_type": "execute_result",
          "data": {
            "text/plain": [
              "array([0.16666667, 0.16666667, 0.875     , 0.        , 0.25      ])"
            ]
          },
          "metadata": {},
          "execution_count": 13
        }
      ]
    },
    {
      "cell_type": "code",
      "source": [
        "# calculate overall and class-wise F1-score on iris data\n",
        "from sklearn.metrics import f1_score\n",
        "\n",
        "# Calculate metrics globally by counting the total true positives, false negatives and false positives.\n",
        "print(\"F1 score of micro\")\n",
        "print(f1_score(y_test, y_pred, average='micro'))\n",
        "# Calculate metrics for each label, and find their unweighted mean. This does not take label imbalance into account.\n",
        "print(\"F1 score of macro\")\n",
        "print(f1_score(y_test, y_pred, average='macro'))\n",
        "# Calculate metrics for each label, and find their average weighted by support (the number of true instances for each label). This alters ‘macro’ to account for label imbalance; it can result in an F-score that is not between precision and recall.\n",
        "print(\"F1 score of weighted\")\n",
        "print(f1_score(y_test, y_pred, average='weighted'))\n",
        "\n",
        "# Class-wise, no averaging\n",
        "print('F1 score per class')\n",
        "print(f1_score(y_test, y_pred, average=None))"
      ],
      "metadata": {
        "colab": {
          "base_uri": "https://localhost:8080/"
        },
        "id": "0YoNy38zhvYy",
        "outputId": "1aa141c4-695a-4013-f1dc-afadd9fd22f3"
      },
      "execution_count": 14,
      "outputs": [
        {
          "output_type": "stream",
          "name": "stdout",
          "text": [
            "F1 score of micro\n",
            "0.3333333333333333\n",
            "F1 score of macro\n",
            "0.28547511312217194\n",
            "F1 score of weighted\n",
            "0.3245852187028658\n",
            "F1 score per class\n",
            "[0.2        0.15384615 0.82352941 0.         0.25      ]\n"
          ]
        }
      ]
    },
    {
      "cell_type": "code",
      "source": [
        "# calculate AUC score (ROC implementation in scikit-learn only works for binary classification) on iris data\n",
        "from sklearn.metrics import roc_auc_score\n",
        "roc_auc_score(y_test, knn.predict_proba(X_test), multi_class='ovr')"
      ],
      "metadata": {
        "colab": {
          "base_uri": "https://localhost:8080/"
        },
        "id": "4skeBhI5h1KA",
        "outputId": "802d78ab-e81b-440b-9a35-c1502b97e3e5"
      },
      "execution_count": 21,
      "outputs": [
        {
          "output_type": "execute_result",
          "data": {
            "text/plain": [
              "0.5626428571428571"
            ]
          },
          "metadata": {},
          "execution_count": 21
        }
      ]
    },
    {
      "cell_type": "code",
      "source": [
        "from sklearn.linear_model import LogisticRegression\n",
        "logreg = LogisticRegression().fit(X_train, y_train)"
      ],
      "metadata": {
        "colab": {
          "base_uri": "https://localhost:8080/"
        },
        "id": "AjqX--D7iBPV",
        "outputId": "5a188a1d-73fb-45f9-ed10-d582eefc4a49"
      },
      "execution_count": 22,
      "outputs": [
        {
          "output_type": "stream",
          "name": "stderr",
          "text": [
            "/usr/local/lib/python3.10/dist-packages/sklearn/linear_model/_logistic.py:458: ConvergenceWarning: lbfgs failed to converge (status=1):\n",
            "STOP: TOTAL NO. of ITERATIONS REACHED LIMIT.\n",
            "\n",
            "Increase the number of iterations (max_iter) or scale the data as shown in:\n",
            "    https://scikit-learn.org/stable/modules/preprocessing.html\n",
            "Please also refer to the documentation for alternative solver options:\n",
            "    https://scikit-learn.org/stable/modules/linear_model.html#logistic-regression\n",
            "  n_iter_i = _check_optimize_result(\n"
          ]
        }
      ]
    },
    {
      "cell_type": "code",
      "source": [
        "#best performing k (on training set)\n",
        "knn_gscv.best_params_"
      ],
      "metadata": {
        "colab": {
          "base_uri": "https://localhost:8080/",
          "height": 158
        },
        "id": "-t3VuW5eh-U-",
        "outputId": "1db1dcab-c663-4e6c-ab71-a41050cd70b3"
      },
      "execution_count": 23,
      "outputs": [
        {
          "output_type": "error",
          "ename": "NameError",
          "evalue": "name 'knn_gscv' is not defined",
          "traceback": [
            "\u001b[0;31m---------------------------------------------------------------------------\u001b[0m",
            "\u001b[0;31mNameError\u001b[0m                                 Traceback (most recent call last)",
            "\u001b[0;32m<ipython-input-23-628ed1ca2fcf>\u001b[0m in \u001b[0;36m<cell line: 2>\u001b[0;34m()\u001b[0m\n\u001b[1;32m      1\u001b[0m \u001b[0;31m#best performing k (on training set)\u001b[0m\u001b[0;34m\u001b[0m\u001b[0;34m\u001b[0m\u001b[0m\n\u001b[0;32m----> 2\u001b[0;31m \u001b[0mknn_gscv\u001b[0m\u001b[0;34m.\u001b[0m\u001b[0mbest_params_\u001b[0m\u001b[0;34m\u001b[0m\u001b[0;34m\u001b[0m\u001b[0m\n\u001b[0m",
            "\u001b[0;31mNameError\u001b[0m: name 'knn_gscv' is not defined"
          ]
        }
      ]
    },
    {
      "cell_type": "code",
      "source": [
        "#accuracy of best performing k\n",
        "\n",
        "# best k (8) performs at 0.49)\n",
        "knn_gscv.best_score_"
      ],
      "metadata": {
        "colab": {
          "base_uri": "https://localhost:8080/",
          "height": 176
        },
        "id": "MFcIR9P8iqq9",
        "outputId": "f78a56d6-016d-4bdb-9a82-d0374a74b855"
      },
      "execution_count": 20,
      "outputs": [
        {
          "output_type": "error",
          "ename": "NameError",
          "evalue": "name 'knn_gscv' is not defined",
          "traceback": [
            "\u001b[0;31m---------------------------------------------------------------------------\u001b[0m",
            "\u001b[0;31mNameError\u001b[0m                                 Traceback (most recent call last)",
            "\u001b[0;32m<ipython-input-20-9957fa2bbbb6>\u001b[0m in \u001b[0;36m<cell line: 4>\u001b[0;34m()\u001b[0m\n\u001b[1;32m      2\u001b[0m \u001b[0;34m\u001b[0m\u001b[0m\n\u001b[1;32m      3\u001b[0m \u001b[0;31m# best k (8) performs at 0.49)\u001b[0m\u001b[0;34m\u001b[0m\u001b[0;34m\u001b[0m\u001b[0m\n\u001b[0;32m----> 4\u001b[0;31m \u001b[0mknn_gscv\u001b[0m\u001b[0;34m.\u001b[0m\u001b[0mbest_score_\u001b[0m\u001b[0;34m\u001b[0m\u001b[0;34m\u001b[0m\u001b[0m\n\u001b[0m",
            "\u001b[0;31mNameError\u001b[0m: name 'knn_gscv' is not defined"
          ]
        }
      ]
    },
    {
      "cell_type": "markdown",
      "source": [
        "# **Cross Validation Results**"
      ],
      "metadata": {
        "id": "ubmcw8FCjUTX"
      }
    },
    {
      "cell_type": "code",
      "source": [
        "#cross validation results - 8 & 9th k are tied for best and 23rd k is worst performing\n",
        "knn_gscv.cv_results_"
      ],
      "metadata": {
        "id": "0jk2yGaxjLny"
      },
      "execution_count": null,
      "outputs": []
    },
    {
      "cell_type": "markdown",
      "source": [
        "# **Best Performing k**"
      ],
      "metadata": {
        "id": "a_gzZuS2jfoN"
      }
    },
    {
      "cell_type": "code",
      "source": [
        "# accuracy of k = 8 on testing data\n",
        "knn13 = KNeighborsClassifier(n_neighbors=13)\n",
        "knn13.fit(X_train, y_train)\n",
        "print(\"knn score: {}\".format(knn13.score(X_test, y_test)))"
      ],
      "metadata": {
        "id": "uM1RNQAwjkSd"
      },
      "execution_count": null,
      "outputs": []
    },
    {
      "cell_type": "markdown",
      "source": [
        "# **Worst Performing k**"
      ],
      "metadata": {
        "id": "UmsWbCVHjnfY"
      }
    },
    {
      "cell_type": "code",
      "source": [
        "# accuracy of k = 23 on testing data\n",
        "knn2 = KNeighborsClassifier(n_neighbors=2)\n",
        "knn2.fit(X_train, y_train)\n",
        "print(\"knn score: {}\".format(knn2.score(X_test, y_test)))"
      ],
      "metadata": {
        "id": "a-yS49ovjroV"
      },
      "execution_count": null,
      "outputs": []
    },
    {
      "cell_type": "markdown",
      "source": [
        "# *Worst perfomring k performs better than the best performing k*"
      ],
      "metadata": {
        "id": "DWDtmfcxjwmi"
      }
    },
    {
      "cell_type": "markdown",
      "source": [
        "# **Logistic Regression**"
      ],
      "metadata": {
        "id": "2KV4PAljj4lB"
      }
    },
    {
      "cell_type": "code",
      "source": [
        "from sklearn.linear_model import LogisticRegression\n",
        "logreg = LogisticRegression().fit(X_train, y_train)"
      ],
      "metadata": {
        "id": "lhsXwexbj77E"
      },
      "execution_count": null,
      "outputs": []
    },
    {
      "cell_type": "code",
      "source": [
        "#try increasing max_iter\n",
        "logreg = LogisticRegression(max_iter=10000).fit(X_train, y_train)"
      ],
      "metadata": {
        "id": "CSDRqZFwj_ve"
      },
      "execution_count": null,
      "outputs": []
    },
    {
      "cell_type": "markdown",
      "metadata": {
        "id": "OkYHTOh9XTsL"
      },
      "source": [
        "# Naive Bayes Classifier"
      ]
    },
    {
      "cell_type": "code",
      "execution_count": null,
      "metadata": {
        "id": "4n67rRFpXTsL",
        "outputId": "114c70c2-588a-49d4-d2e0-1ff5da39343a",
        "colab": {
          "base_uri": "https://localhost:8080/"
        }
      },
      "outputs": [
        {
          "output_type": "stream",
          "name": "stdout",
          "text": [
            "Training set score: 0.62\n",
            "Test set score: 0.61\n"
          ]
        }
      ],
      "source": [
        "from sklearn.naive_bayes import GaussianNB\n",
        "\n",
        "#assumes normally distributed data\n",
        "gnb = GaussianNB()\n",
        "gnb.fit(X_train, y_train)\n",
        "\n",
        "print(\"Training set score: {:.2f}\".format(gnb.score(X_train, y_train)))\n",
        "print(\"Test set score: {:.2f}\".format(gnb.score(X_test, y_test)))"
      ]
    },
    {
      "cell_type": "markdown",
      "source": [
        "## Testing/Training Split Evaluation"
      ],
      "metadata": {
        "id": "1uejAr-OfSH7"
      }
    },
    {
      "cell_type": "code",
      "source": [
        "# Accuracy\n",
        "gnb = GaussianNB()\n",
        "gnb.fit(X_train, y_train)\n",
        "\n",
        "print(\"Training set score: {:.2f}\".format(gnb.score(X_train, y_train)))\n",
        "print(\"Test set score: {:.2f}\".format(gnb.score(X_test, y_test)))\n"
      ],
      "metadata": {
        "id": "kApyrL89fXIM",
        "colab": {
          "base_uri": "https://localhost:8080/"
        },
        "outputId": "7b3b3148-f87a-487c-d3bb-bb1e8fc7b0b3"
      },
      "execution_count": null,
      "outputs": [
        {
          "output_type": "stream",
          "name": "stdout",
          "text": [
            "Training set score: 0.62\n",
            "Test set score: 0.61\n"
          ]
        }
      ]
    },
    {
      "cell_type": "code",
      "execution_count": null,
      "metadata": {
        "id": "ZOvfsSukXTsM"
      },
      "outputs": [],
      "source": [
        "# # Classification Report\n",
        "# #Print the classification report\n",
        "# from sklearn.metrics import classification_report\n",
        "\n",
        "# print(classification_report(y_test, gnb.predict(X_test),\n",
        "#                             target_names=[\"class 1\", \"class 2\",\"class 3\"]))\n"
      ]
    },
    {
      "cell_type": "code",
      "source": [
        "# Classification Report -Used gemini for assistance b/c above cell gave error - \"ValueError: Number of classes, 5, does not match size of target_names, 3. Try specifying the labels parameter\"\n",
        "#Print the classification report\n",
        "from sklearn.metrics import classification_report\n",
        "\n",
        "# Get the unique classes from y_test\n",
        "unique_classes = np.unique(y_test)\n",
        "\n",
        "# Create target names based on unique classes\n",
        "target_names = [\"class {}\".format(i) for i in unique_classes]\n",
        "\n",
        "print(classification_report(y_test, gnb.predict(X_test),\n",
        "                            target_names=target_names)) # Use dynamically generated target names"
      ],
      "metadata": {
        "colab": {
          "base_uri": "https://localhost:8080/"
        },
        "id": "2kNkGd6jI4sK",
        "outputId": "db391e28-9513-40cd-fb07-c3e50ebf6f28"
      },
      "execution_count": null,
      "outputs": [
        {
          "output_type": "stream",
          "name": "stdout",
          "text": [
            "              precision    recall  f1-score   support\n",
            "\n",
            "     class A       0.67      1.00      0.80         6\n",
            "     class B       0.40      1.00      0.57         6\n",
            "     class C       1.00      0.75      0.86         8\n",
            "     class D       0.00      0.00      0.00         5\n",
            "     class E       0.67      0.25      0.36         8\n",
            "\n",
            "    accuracy                           0.61        33\n",
            "   macro avg       0.55      0.60      0.52        33\n",
            "weighted avg       0.60      0.61      0.55        33\n",
            "\n"
          ]
        },
        {
          "output_type": "stream",
          "name": "stderr",
          "text": [
            "/usr/local/lib/python3.10/dist-packages/sklearn/metrics/_classification.py:1344: UndefinedMetricWarning: Precision and F-score are ill-defined and being set to 0.0 in labels with no predicted samples. Use `zero_division` parameter to control this behavior.\n",
            "  _warn_prf(average, modifier, msg_start, len(result))\n",
            "/usr/local/lib/python3.10/dist-packages/sklearn/metrics/_classification.py:1344: UndefinedMetricWarning: Precision and F-score are ill-defined and being set to 0.0 in labels with no predicted samples. Use `zero_division` parameter to control this behavior.\n",
            "  _warn_prf(average, modifier, msg_start, len(result))\n",
            "/usr/local/lib/python3.10/dist-packages/sklearn/metrics/_classification.py:1344: UndefinedMetricWarning: Precision and F-score are ill-defined and being set to 0.0 in labels with no predicted samples. Use `zero_division` parameter to control this behavior.\n",
            "  _warn_prf(average, modifier, msg_start, len(result))\n"
          ]
        }
      ]
    },
    {
      "cell_type": "markdown",
      "source": [
        "## Cross Validation (from class 5 notebook)"
      ],
      "metadata": {
        "id": "2p11Whd7faUk"
      }
    },
    {
      "cell_type": "code",
      "source": [
        "from sklearn.model_selection import cross_val_score\n",
        "from sklearn.neighbors import KNeighborsClassifier\n",
        "\n",
        "# for n_neighbors in neighbors_settings:\n",
        "#     # build the model\n",
        "#     knn = KNeighborsClassifier(n_neighbors=n_neighbors,algorithm=\"brute\")\n",
        "#     knn.fit(X_train, y_train)\n",
        "#     # record training set accuracy\n",
        "#     training_accuracy.append(knn.score(X_train, y_train))\n",
        "#     # record generalization accuracy\n",
        "#     test_accuracy.append(knn.score(X_test, y_test))\n",
        "\n",
        "\n",
        "knn_cv = KNeighborsClassifier(n_neighbors=4)\n",
        "\n",
        "#5-fold cross validation\n",
        "cv_scores_all = cross_val_score(knn_cv, X, y, cv=5) #pass classifier, dataset, target, and # folds\n",
        "\n",
        "#return scores for each fold\n",
        "print(\"cv_scores:\\n{}\".format(cv_scores_all))\n",
        "print(\"cv_scores mean:\\n{}\".format(np.mean(cv_scores_all))) #calculate the mean\n"
      ],
      "metadata": {
        "id": "Y2EzIagee3D8",
        "outputId": "fd147656-116d-427e-bdf7-ac48893d46ab",
        "colab": {
          "base_uri": "https://localhost:8080/"
        }
      },
      "execution_count": null,
      "outputs": [
        {
          "output_type": "stream",
          "name": "stdout",
          "text": [
            "cv_scores:\n",
            "[0.53846154 0.53846154 0.5        0.34615385 0.4       ]\n",
            "cv_scores mean:\n",
            "0.46461538461538454\n"
          ]
        }
      ]
    },
    {
      "cell_type": "markdown",
      "metadata": {
        "id": "_qJliL_4XTsM"
      },
      "source": [
        "# Random Forest"
      ]
    },
    {
      "cell_type": "code",
      "source": [
        "# https://scikit-learn.org/stable/modules/generated/sklearn.ensemble.RandomForestClassifier.html\n",
        "\n",
        "from sklearn.ensemble import RandomForestClassifier\n",
        "from sklearn.datasets import make_moons\n",
        "\n",
        "#fit on training/testing\n",
        "forest = RandomForestClassifier(n_estimators=5, random_state=2)\n",
        "forest.fit(X_train, y_train)\n",
        "\n"
      ],
      "metadata": {
        "id": "1i5f--aqq4HB",
        "outputId": "ac5f2ee2-86be-456a-b681-d75ff6135d35",
        "colab": {
          "base_uri": "https://localhost:8080/",
          "height": 74
        }
      },
      "execution_count": null,
      "outputs": [
        {
          "output_type": "execute_result",
          "data": {
            "text/plain": [
              "RandomForestClassifier(n_estimators=5, random_state=2)"
            ],
            "text/html": [
              "<style>#sk-container-id-1 {color: black;background-color: white;}#sk-container-id-1 pre{padding: 0;}#sk-container-id-1 div.sk-toggleable {background-color: white;}#sk-container-id-1 label.sk-toggleable__label {cursor: pointer;display: block;width: 100%;margin-bottom: 0;padding: 0.3em;box-sizing: border-box;text-align: center;}#sk-container-id-1 label.sk-toggleable__label-arrow:before {content: \"▸\";float: left;margin-right: 0.25em;color: #696969;}#sk-container-id-1 label.sk-toggleable__label-arrow:hover:before {color: black;}#sk-container-id-1 div.sk-estimator:hover label.sk-toggleable__label-arrow:before {color: black;}#sk-container-id-1 div.sk-toggleable__content {max-height: 0;max-width: 0;overflow: hidden;text-align: left;background-color: #f0f8ff;}#sk-container-id-1 div.sk-toggleable__content pre {margin: 0.2em;color: black;border-radius: 0.25em;background-color: #f0f8ff;}#sk-container-id-1 input.sk-toggleable__control:checked~div.sk-toggleable__content {max-height: 200px;max-width: 100%;overflow: auto;}#sk-container-id-1 input.sk-toggleable__control:checked~label.sk-toggleable__label-arrow:before {content: \"▾\";}#sk-container-id-1 div.sk-estimator input.sk-toggleable__control:checked~label.sk-toggleable__label {background-color: #d4ebff;}#sk-container-id-1 div.sk-label input.sk-toggleable__control:checked~label.sk-toggleable__label {background-color: #d4ebff;}#sk-container-id-1 input.sk-hidden--visually {border: 0;clip: rect(1px 1px 1px 1px);clip: rect(1px, 1px, 1px, 1px);height: 1px;margin: -1px;overflow: hidden;padding: 0;position: absolute;width: 1px;}#sk-container-id-1 div.sk-estimator {font-family: monospace;background-color: #f0f8ff;border: 1px dotted black;border-radius: 0.25em;box-sizing: border-box;margin-bottom: 0.5em;}#sk-container-id-1 div.sk-estimator:hover {background-color: #d4ebff;}#sk-container-id-1 div.sk-parallel-item::after {content: \"\";width: 100%;border-bottom: 1px solid gray;flex-grow: 1;}#sk-container-id-1 div.sk-label:hover label.sk-toggleable__label {background-color: #d4ebff;}#sk-container-id-1 div.sk-serial::before {content: \"\";position: absolute;border-left: 1px solid gray;box-sizing: border-box;top: 0;bottom: 0;left: 50%;z-index: 0;}#sk-container-id-1 div.sk-serial {display: flex;flex-direction: column;align-items: center;background-color: white;padding-right: 0.2em;padding-left: 0.2em;position: relative;}#sk-container-id-1 div.sk-item {position: relative;z-index: 1;}#sk-container-id-1 div.sk-parallel {display: flex;align-items: stretch;justify-content: center;background-color: white;position: relative;}#sk-container-id-1 div.sk-item::before, #sk-container-id-1 div.sk-parallel-item::before {content: \"\";position: absolute;border-left: 1px solid gray;box-sizing: border-box;top: 0;bottom: 0;left: 50%;z-index: -1;}#sk-container-id-1 div.sk-parallel-item {display: flex;flex-direction: column;z-index: 1;position: relative;background-color: white;}#sk-container-id-1 div.sk-parallel-item:first-child::after {align-self: flex-end;width: 50%;}#sk-container-id-1 div.sk-parallel-item:last-child::after {align-self: flex-start;width: 50%;}#sk-container-id-1 div.sk-parallel-item:only-child::after {width: 0;}#sk-container-id-1 div.sk-dashed-wrapped {border: 1px dashed gray;margin: 0 0.4em 0.5em 0.4em;box-sizing: border-box;padding-bottom: 0.4em;background-color: white;}#sk-container-id-1 div.sk-label label {font-family: monospace;font-weight: bold;display: inline-block;line-height: 1.2em;}#sk-container-id-1 div.sk-label-container {text-align: center;}#sk-container-id-1 div.sk-container {/* jupyter's `normalize.less` sets `[hidden] { display: none; }` but bootstrap.min.css set `[hidden] { display: none !important; }` so we also need the `!important` here to be able to override the default hidden behavior on the sphinx rendered scikit-learn.org. See: https://github.com/scikit-learn/scikit-learn/issues/21755 */display: inline-block !important;position: relative;}#sk-container-id-1 div.sk-text-repr-fallback {display: none;}</style><div id=\"sk-container-id-1\" class=\"sk-top-container\"><div class=\"sk-text-repr-fallback\"><pre>RandomForestClassifier(n_estimators=5, random_state=2)</pre><b>In a Jupyter environment, please rerun this cell to show the HTML representation or trust the notebook. <br />On GitHub, the HTML representation is unable to render, please try loading this page with nbviewer.org.</b></div><div class=\"sk-container\" hidden><div class=\"sk-item\"><div class=\"sk-estimator sk-toggleable\"><input class=\"sk-toggleable__control sk-hidden--visually\" id=\"sk-estimator-id-1\" type=\"checkbox\" checked><label for=\"sk-estimator-id-1\" class=\"sk-toggleable__label sk-toggleable__label-arrow\">RandomForestClassifier</label><div class=\"sk-toggleable__content\"><pre>RandomForestClassifier(n_estimators=5, random_state=2)</pre></div></div></div></div></div>"
            ]
          },
          "metadata": {},
          "execution_count": 12
        }
      ]
    },
    {
      "cell_type": "markdown",
      "source": [
        "## Testing/Training Split Evaluation"
      ],
      "metadata": {
        "id": "BvJe4kM2orxg"
      }
    },
    {
      "cell_type": "code",
      "source": [
        "# Accuracy\n",
        "#report accuracy\n",
        "print(\"Accuracy on training set: {:.3f}\".format(forest.score(X_train, y_train)))\n",
        "print(\"Accuracy on test set: {:.3f}\".format(forest.score(X_test, y_test)))"
      ],
      "metadata": {
        "id": "iTFvh-maotcj",
        "outputId": "68a6db13-2e62-48f8-de28-04423f65dd52",
        "colab": {
          "base_uri": "https://localhost:8080/"
        }
      },
      "execution_count": null,
      "outputs": [
        {
          "output_type": "stream",
          "name": "stdout",
          "text": [
            "Accuracy on training set: 0.812\n",
            "Accuracy on test set: 0.455\n"
          ]
        }
      ]
    },
    {
      "cell_type": "markdown",
      "source": [
        "***It looks like this method presents a model that is significantly more accurate on the training set than the test set. The low accuracy on the test set infers that it might not generalize to new data well.  ***"
      ],
      "metadata": {
        "id": "hJoB1QFbR8X5"
      }
    },
    {
      "cell_type": "code",
      "execution_count": null,
      "metadata": {
        "id": "eGSDB5oJXTsN"
      },
      "outputs": [],
      "source": [
        "# Classification Report- DOESN'T WORK - RETURNS A VALUE ERROR ABOUT NUMBER OF CLASSES NOT MATCHING\n",
        "# print(\"Accuracy on training set: {:.3f}\".format(forest.score(X_train, y_train)))\n",
        "# print(\"Accuracy on test set: {:.3f}\".format(forest.score(X_test, y_test)))\n",
        "# print(classification_report(y_test, forest.predict(X_test),\n",
        "#                             target_names=[\"class 1\", \"class 2\",\"class 3\"]))"
      ]
    },
    {
      "cell_type": "code",
      "source": [
        "# Classification Report\n",
        "print(\"Accuracy on training set: {:.3f}\".format(forest.score(X_train, y_train)))\n",
        "print(\"Accuracy on test set: {:.3f}\".format(forest.score(X_test, y_test)))\n",
        "\n",
        "# Get the unique class labels from your y_test data\n",
        "unique_classes = y_test.unique()\n",
        "\n",
        "# Generate target names dynamically\n",
        "target_names = [f\"class {i+1}\" for i in range(len(unique_classes))]\n",
        "\n",
        "print(classification_report(y_test, forest.predict(X_test),\n",
        "                            target_names=target_names)) # Use dynamically generated target names"
      ],
      "metadata": {
        "colab": {
          "base_uri": "https://localhost:8080/"
        },
        "id": "tikB9EixROlU",
        "outputId": "0249fa47-0b67-4ee7-c881-a1f115392174"
      },
      "execution_count": null,
      "outputs": [
        {
          "output_type": "stream",
          "name": "stdout",
          "text": [
            "Accuracy on training set: 0.812\n",
            "Accuracy on test set: 0.455\n",
            "              precision    recall  f1-score   support\n",
            "\n",
            "     class 1       0.75      0.50      0.60         6\n",
            "     class 2       0.20      0.17      0.18         6\n",
            "     class 3       0.58      0.88      0.70         8\n",
            "     class 4       0.33      0.40      0.36         5\n",
            "     class 5       0.33      0.25      0.29         8\n",
            "\n",
            "    accuracy                           0.45        33\n",
            "   macro avg       0.44      0.44      0.43        33\n",
            "weighted avg       0.45      0.45      0.44        33\n",
            "\n"
          ]
        }
      ]
    },
    {
      "cell_type": "markdown",
      "source": [
        "## Cross Validation"
      ],
      "metadata": {
        "id": "5M6xmNZ5ot85"
      }
    },
    {
      "cell_type": "markdown",
      "source": [
        "Below seems to be a repeated code for the class validation (notebook 5)"
      ],
      "metadata": {
        "id": "OVbkr37GU6Bq"
      }
    },
    {
      "cell_type": "code",
      "execution_count": null,
      "metadata": {
        "id": "oQ1-2oHZXTsM",
        "colab": {
          "base_uri": "https://localhost:8080/"
        },
        "outputId": "08ff23f0-b448-4946-e190-40cad1bfe56f"
      },
      "outputs": [
        {
          "output_type": "stream",
          "name": "stdout",
          "text": [
            "cv_scores:\n",
            "[0.53846154 0.53846154 0.5        0.34615385 0.4       ]\n",
            "cv_scores mean:\n",
            "0.46461538461538454\n"
          ]
        }
      ],
      "source": [
        "from sklearn.model_selection import cross_val_score\n",
        "from sklearn.neighbors import KNeighborsClassifier\n",
        "\n",
        "# for n_neighbors in neighbors_settings:\n",
        "#     # build the model\n",
        "#     knn = KNeighborsClassifier(n_neighbors=n_neighbors,algorithm=\"brute\")\n",
        "#     knn.fit(X_train, y_train)\n",
        "#     # record training set accuracy\n",
        "#     training_accuracy.append(knn.score(X_train, y_train))\n",
        "#     # record generalization accuracy\n",
        "#     test_accuracy.append(knn.score(X_test, y_test))\n",
        "\n",
        "\n",
        "knn_cv = KNeighborsClassifier(n_neighbors=4)\n",
        "\n",
        "#5-fold cross validation\n",
        "cv_scores_all = cross_val_score(knn_cv, X, y, cv=5) #pass classifier, dataset, target, and # folds\n",
        "\n",
        "#return scores for each fold\n",
        "print(\"cv_scores:\\n{}\".format(cv_scores_all))\n",
        "print(\"cv_scores mean:\\n{}\".format(np.mean(cv_scores_all))) #calculate the mean\n"
      ]
    },
    {
      "cell_type": "markdown",
      "source": [
        "## Feature Importances"
      ],
      "metadata": {
        "id": "RGG-Hp1LupPn"
      }
    },
    {
      "cell_type": "code",
      "execution_count": null,
      "metadata": {
        "id": "Y7jZrDwsXTsM",
        "outputId": "44c38a5c-da8d-4c80-9391-0f0ff174693f",
        "colab": {
          "base_uri": "https://localhost:8080/"
        }
      },
      "outputs": [
        {
          "output_type": "stream",
          "name": "stdout",
          "text": [
            "Feature importances:\n",
            "[0.04880814 0.08395576 0.00256678 0.06379841 0.02167242 0.03803952\n",
            " 0.01167015 0.         0.00402906 0.00955731 0.05719902 0.00479132\n",
            " 0.06300022 0.0049805  0.02106427 0.02218526 0.03712895 0.00393402\n",
            " 0.01175363 0.02275885 0.01430966 0.00978082 0.         0.00522391\n",
            " 0.00671285 0.01704558 0.00349367 0.01865363 0.00886566 0.00850114\n",
            " 0.01340177 0.         0.04618016 0.02651671 0.01532238 0.06627498\n",
            " 0.0126469  0.05846174 0.03305613 0.10265873]\n"
          ]
        }
      ],
      "source": [
        "# print list of feature importances\n",
        "print(\"Feature importances:\")\n",
        "print(forest.feature_importances_)"
      ]
    },
    {
      "cell_type": "markdown",
      "source": [
        "Below class code does not work - said y_names was noto defined"
      ],
      "metadata": {
        "id": "j5P5XlotZSuG"
      }
    },
    {
      "cell_type": "code",
      "execution_count": null,
      "metadata": {
        "id": "NlbDzZ5nXTsM"
      },
      "outputs": [],
      "source": [
        "# # plot feature importances\n",
        "# def plot_feature_importances(model):\n",
        "#     n_features = X.shape[1]\n",
        "#     plt.barh(np.arange(n_features), model.feature_importances_, align='center')\n",
        "#     plt.yticks(np.arange(n_features), y_names)\n",
        "#     plt.xlabel(\"Feature importance\")\n",
        "#     plt.ylabel(\"Feature\")\n",
        "#     plt.ylim(-1, n_features)\n",
        "\n",
        "# plot_feature_importances(forest)"
      ]
    },
    {
      "cell_type": "markdown",
      "source": [
        "### Had to use Gemini suggestion to get this working\n",
        "### - it looks very messy because of the multitude of features. I wonder if there is a way to format the chart for better visibility bold text"
      ],
      "metadata": {
        "id": "eW4mBbSdZaVO"
      }
    },
    {
      "cell_type": "code",
      "source": [
        "# plot feature importances\n",
        "def plot_feature_importances(model):\n",
        "    n_features = X.shape[1]\n",
        "    plt.barh(np.arange(n_features), model.feature_importances_, align='center')\n",
        "    # Define y_names here, assuming 'X' has column names you want to use\n",
        "    y_names = X.columns\n",
        "    plt.yticks(np.arange(n_features), y_names)\n",
        "    plt.xlabel(\"Feature importance\")\n",
        "    plt.ylabel(\"Feature\")\n",
        "    plt.ylim(-1, n_features)\n",
        "\n",
        "plot_feature_importances(forest)"
      ],
      "metadata": {
        "colab": {
          "base_uri": "https://localhost:8080/",
          "height": 449
        },
        "id": "7egGrH2dZEDi",
        "outputId": "f70ef3b5-fa5a-4d4c-adbb-aad107f9e907"
      },
      "execution_count": null,
      "outputs": [
        {
          "output_type": "display_data",
          "data": {
            "text/plain": [
              "<Figure size 640x480 with 1 Axes>"
            ],
            "image/png": "[encoded data removed]"
          },
          "metadata": {}
        }
      ]
    },
    {
      "cell_type": "markdown",
      "source": [
        "# Support Vector Machines"
      ],
      "metadata": {
        "id": "6bv_A-MRvWNK"
      }
    },
    {
      "cell_type": "code",
      "source": [
        "from sklearn.svm import SVC"
      ],
      "metadata": {
        "id": "2HBqLogavYCN"
      },
      "execution_count": null,
      "outputs": []
    },
    {
      "cell_type": "markdown",
      "source": [
        "## Testing/Training Split Evaluation"
      ],
      "metadata": {
        "id": "0DjXhRjIvZtY"
      }
    },
    {
      "cell_type": "code",
      "source": [
        "# polynomial kernel\n",
        "# accuracy\n",
        "svmPoly1 = SVC(kernel='poly', C=10).fit(X_train, y_train)\n",
        "\n",
        "print(\"Accuracy on training set: {:.2f}\".format(svmPoly1.score(X_train, y_train)))\n",
        "print(\"Accuracy on test set: {:.2f}\".format(svmPoly1.score(X_test, y_test)))"
      ],
      "metadata": {
        "id": "-UD6-txAvdYe",
        "colab": {
          "base_uri": "https://localhost:8080/"
        },
        "outputId": "34ba982e-82fa-430b-dc58-62cb239b6f07"
      },
      "execution_count": null,
      "outputs": [
        {
          "output_type": "stream",
          "name": "stdout",
          "text": [
            "Accuracy on training set: 0.59\n",
            "Accuracy on test set: 0.42\n"
          ]
        }
      ]
    },
    {
      "cell_type": "markdown",
      "source": [
        "**Had to use Gemini suggestion because the original code produces value error b/c mismatched classes**"
      ],
      "metadata": {
        "id": "5ARqkDD4a-Xq"
      }
    },
    {
      "cell_type": "code",
      "source": [
        "# polynomial kernel\n",
        "# classification report\n",
        "print(\"Accuracy on training set: {:.3f}\".format(svmPoly1.score(X_train, y_train)))\n",
        "print(\"Accuracy on test set: {:.3f}\".format(svmPoly1.score(X_test, y_test)))\n",
        "\n",
        "# Get the unique class labels from your y_test data\n",
        "unique_classes = y_test.unique()\n",
        "\n",
        "# Generate target names dynamically\n",
        "target_names = [f\"class {i+1}\" for i in range(len(unique_classes))]\n",
        "\n",
        "print(classification_report(y_test, svmPoly1.predict(X_test),\n",
        "                            target_names=target_names)) # Use dynamically generated target names"
      ],
      "metadata": {
        "id": "v4BCpcy2wxTa",
        "colab": {
          "base_uri": "https://localhost:8080/"
        },
        "outputId": "d2fa269d-88f8-4347-f7f9-161fb5eabb91"
      },
      "execution_count": null,
      "outputs": [
        {
          "output_type": "stream",
          "name": "stdout",
          "text": [
            "Accuracy on training set: 0.594\n",
            "Accuracy on test set: 0.424\n",
            "              precision    recall  f1-score   support\n",
            "\n",
            "     class 1       0.57      0.67      0.62         6\n",
            "     class 2       0.20      0.17      0.18         6\n",
            "     class 3       0.62      1.00      0.76         8\n",
            "     class 4       0.00      0.00      0.00         5\n",
            "     class 5       0.17      0.12      0.14         8\n",
            "\n",
            "    accuracy                           0.42        33\n",
            "   macro avg       0.31      0.39      0.34        33\n",
            "weighted avg       0.33      0.42      0.36        33\n",
            "\n"
          ]
        }
      ]
    },
    {
      "cell_type": "code",
      "source": [
        "# radial basis function kernel\n",
        "svmRBF1 = SVC(kernel='rbf', C=10, gamma=0.1).fit(X_train, y_train)\n",
        "\n",
        "print(\"Accuracy on training set: {:.2f}\".format(svmRBF1.score(X_train, y_train)))\n",
        "print(\"Accuracy on test set: {:.2f}\".format(svmRBF1.score(X_test, y_test)))"
      ],
      "metadata": {
        "id": "ly7UZQH2w00t",
        "colab": {
          "base_uri": "https://localhost:8080/"
        },
        "outputId": "9c9fbdad-5150-4bb8-a1c3-dc623e43a9e3"
      },
      "execution_count": null,
      "outputs": [
        {
          "output_type": "stream",
          "name": "stdout",
          "text": [
            "Accuracy on training set: 0.83\n",
            "Accuracy on test set: 0.36\n"
          ]
        }
      ]
    },
    {
      "cell_type": "code",
      "source": [
        "# radial basis function kernel\n",
        "# classification report\n",
        "print(\"Accuracy on training set: {:.3f}\".format(svmRBF1.score(X_train, y_train)))\n",
        "print(\"Accuracy on test set: {:.3f}\".format(svmRBF1.score(X_test, y_test)))\n",
        "\n",
        "# Get the unique class labels from your y_test data\n",
        "unique_classes = y_test.unique()\n",
        "\n",
        "# Generate target names dynamically\n",
        "target_names = [f\"class {i+1}\" for i in range(len(unique_classes))]\n",
        "\n",
        "print(classification_report(y_test, svmRBF1.predict(X_test),\n",
        "                            target_names=target_names)) # Use dynamically generated target names"
      ],
      "metadata": {
        "id": "dH6DC45V0nFP",
        "colab": {
          "base_uri": "https://localhost:8080/"
        },
        "outputId": "b1f85f27-5788-4845-e415-e74f81e82e80"
      },
      "execution_count": null,
      "outputs": [
        {
          "output_type": "stream",
          "name": "stdout",
          "text": [
            "Accuracy on training set: 0.833\n",
            "Accuracy on test set: 0.364\n",
            "              precision    recall  f1-score   support\n",
            "\n",
            "     class 1       0.67      0.33      0.44         6\n",
            "     class 2       0.20      0.33      0.25         6\n",
            "     class 3       0.75      0.75      0.75         8\n",
            "     class 4       0.33      0.40      0.36         5\n",
            "     class 5       0.00      0.00      0.00         8\n",
            "\n",
            "    accuracy                           0.36        33\n",
            "   macro avg       0.39      0.36      0.36        33\n",
            "weighted avg       0.39      0.36      0.36        33\n",
            "\n"
          ]
        }
      ]
    },
    {
      "cell_type": "markdown",
      "source": [
        "## Parameter Selection with Grid Search\n"
      ],
      "metadata": {
        "id": "KNsayGqTveAC"
      }
    },
    {
      "cell_type": "code",
      "source": [
        "# import StratifiedShuffleSplit\n",
        "from sklearn.model_selection import StratifiedShuffleSplit\n",
        "cv = StratifiedShuffleSplit(n_splits=5, test_size=0.2, random_state=42)\n",
        "\n",
        "# import GridSearchCV and set ranges for C and gamma and create the paramter grid\n",
        "from sklearn.model_selection import GridSearchCV\n",
        "C_range = np.logspace(-2, 10, 13)\n",
        "gamma_range = np.logspace(-9, 3, 13)\n",
        "param_grid = dict(gamma=gamma_range, C=C_range)"
      ],
      "metadata": {
        "id": "3kTarj2S12Db"
      },
      "execution_count": null,
      "outputs": []
    },
    {
      "cell_type": "code",
      "source": [
        "# polynomial kernel\n",
        "gridPoly = GridSearchCV(SVC(kernel='poly'), param_grid=param_grid, cv=cv)\n",
        "gridPoly.fit(X_train, y_train)\n",
        "\n",
        "print(\"The best parameters are %s with a score of %0.2f\"\n",
        "      % (gridPoly.best_params_, gridPoly.best_score_))"
      ],
      "metadata": {
        "id": "XxHmFVlMvhDj"
      },
      "execution_count": null,
      "outputs": []
    },
    {
      "cell_type": "code",
      "source": [
        "# radial basis function kernel\n",
        "gridPoly = GridSearchCV(SVC(kernel='rbf'), param_grid=param_grid, cv=cv)\n",
        "gridPoly.fit(X_train, y_train)\n",
        "\n",
        "print(\"The best parameters are %s with a score of %0.2f\"\n",
        "      % (gridPoly.best_params_, gridPoly.best_score_))"
      ],
      "metadata": {
        "id": "aZ2Y3W3630Mz"
      },
      "execution_count": null,
      "outputs": []
    },
    {
      "cell_type": "markdown",
      "source": [
        "# **Feature Scaling**"
      ],
      "metadata": {
        "id": "RQIebJ_oAK8e"
      }
    },
    {
      "cell_type": "markdown",
      "source": [
        "## **Scale the features**"
      ],
      "metadata": {
        "id": "PCJL6_DYAOtI"
      }
    },
    {
      "cell_type": "code",
      "source": [
        "# Compute the minimum value per feature on the training set\n",
        "min_on_training = X_train.min(axis=0)\n",
        "\n",
        "# Compute the range of each feature (max - min) on the training set\n",
        "range_on_training = (X_train - min_on_training).max(axis=0) - #CODE DOESN'T RUN - ERROR HERE\n",
        "\n",
        "# subtract the min, divide by range\n",
        "# afterward, min=0 and max=1 for each feature\n",
        "X_train_scaled = (X_train - min_on_training) / range_on_training\n",
        "print(\"Minimum for each feature\\n\", X_train_scaled.min(axis=0))\n",
        "print(\"Maximum for each feature\\n\", X_train_scaled.max(axis=0))"
      ],
      "metadata": {
        "id": "MeKvVO-7AI9O",
        "colab": {
          "base_uri": "https://localhost:8080/",
          "height": 106
        },
        "outputId": "38c7faf5-1578-4e5f-f850-aaa77830aed7"
      },
      "execution_count": null,
      "outputs": [
        {
          "output_type": "error",
          "ename": "SyntaxError",
          "evalue": "invalid syntax (<ipython-input-1-ff281add34e2>, line 5)",
          "traceback": [
            "\u001b[0;36m  File \u001b[0;32m\"<ipython-input-1-ff281add34e2>\"\u001b[0;36m, line \u001b[0;32m5\u001b[0m\n\u001b[0;31m    range_on_training = (X_train - min_on_training).max(axis=0) - #CODE DOESN'T RUN - ERROR HERE\u001b[0m\n\u001b[0m                                                                  ^\u001b[0m\n\u001b[0;31mSyntaxError\u001b[0m\u001b[0;31m:\u001b[0m invalid syntax\n"
          ]
        }
      ]
    },
    {
      "cell_type": "code",
      "source": [
        "# Compute the minimum value per feature on the training set\n",
        "min_on_training = X_train.min(axis=0)\n",
        "\n",
        "# Compute the range of each feature (max - min) on the training set\n",
        "range_on_training = (X_train  min_on_training).max(axis=0) - #CODE DOESN'T RUN - ERROR HERE\n",
        "\n",
        "# subtract the min, divide by range\n",
        "# afterward, min=0 and max=1 for each feature\n",
        "X_train_scaled = (X_train - min_on_training) / range_on_training\n",
        "print(\"Minimum for each feature\\n\", X_train_scaled.min(axis=0))\n",
        "print(\"Maximum for each feature\\n\", X_train_scaled.max(axis=0))"
      ],
      "metadata": {
        "colab": {
          "base_uri": "https://localhost:8080/",
          "height": 106
        },
        "id": "MP17ysuQC0mN",
        "outputId": "0d445ddc-467f-411c-f64d-ea87152c9344"
      },
      "execution_count": null,
      "outputs": [
        {
          "output_type": "error",
          "ename": "SyntaxError",
          "evalue": "invalid syntax (<ipython-input-28-9de5c3dc8550>, line 5)",
          "traceback": [
            "\u001b[0;36m  File \u001b[0;32m\"<ipython-input-28-9de5c3dc8550>\"\u001b[0;36m, line \u001b[0;32m5\u001b[0m\n\u001b[0;31m    range_on_training = (X_train + min_on_training).max(axis=0) - #CODE DOESN'T RUN - ERROR HERE\u001b[0m\n\u001b[0m                                                                  ^\u001b[0m\n\u001b[0;31mSyntaxError\u001b[0m\u001b[0;31m:\u001b[0m invalid syntax\n"
          ]
        }
      ]
    }
  ],
  "metadata": {
    "kernelspec": {
      "display_name": "Python 3",
      "language": "python",
      "name": "python3"
    },
    "language_info": {
      "codemirror_mode": {
        "name": "ipython",
        "version": 3
      },
      "file_extension": ".py",
      "mimetype": "text/x-python",
      "name": "python",
      "nbconvert_exporter": "python",
      "pygments_lexer": "ipython3",
      "version": "3.6.13"
    },
    "colab": {
      "provenance": [],
      "include_colab_link": true
    }
  },
  "nbformat": 4,
  "nbformat_minor": 0
}